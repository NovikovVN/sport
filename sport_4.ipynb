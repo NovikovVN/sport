{
 "cells": [
  {
   "cell_type": "markdown",
   "metadata": {},
   "source": [
    "1). Обучить алгоритмы LightGBM и XGBoost, получить OOF прогнозы, оценить корреляцию прогнозов на обучающей выборке. Применить модели на тестовую выборку и оценить корреляцию.\n",
    "<br>2). Усреднить прогнозы с помощью арифмитического среднего, геометрического среднего и усреднить ранги, сделать выводы о качестве отдельных моделей и о качестве комбинации.\n",
    "<br>3). Обучить CatBoost, получить OOF прогнозы и выполнить задание 1 для трех моделей.\n",
    "<br>4). Выполнить задание 2 для трех моделей.\n",
    "<br>5). (опция) Объединить OOF-прогнозы для трех моделей и обучить алгоритм Логистической регрессии (и любой другой, на ваше усмотрение). Сделать выводы о достигаемом качестве, сравнить достигаемое качество с качеством отдельных моделей и моделей, полученных в п.2 и п.4.\n",
    "<br>6). (опция) Обучить алгоритмRandomForest (желательно подтюнить параметры) и добавить к построенным ранее моделям. Выполнить задание 5."
   ]
  },
  {
   "cell_type": "code",
   "execution_count": 1,
   "metadata": {},
   "outputs": [],
   "source": [
    "import time\n",
    "import numpy as np\n",
    "import pandas as pd\n",
    "import seaborn as sns\n",
    "import matplotlib.pyplot as plt\n",
    "\n",
    "import xgboost as xgb\n",
    "\n",
    "from scipy.stats.mstats import gmean\n",
    "from sklearn.linear_model import LogisticRegressionCV\n",
    "from sklearn.metrics import roc_auc_score\n",
    "from sklearn.model_selection import KFold\n",
    "from sklearn.model_selection import train_test_split\n",
    "\n",
    "from pprint import pprint\n",
    "from tqdm import tqdm\n",
    "from typing import List, Optional, Tuple\n",
    "\n",
    "from bayes_opt import BayesianOptimization\n",
    "from catboost import CatBoostClassifier\n",
    "from lightgbm import LGBMClassifier\n",
    "from IPython.display import clear_output, display\n",
    "\n",
    "import warnings\n",
    "warnings.filterwarnings(\"ignore\")\n",
    "\n",
    "%matplotlib inline\n",
    "sns.set()"
   ]
  },
  {
   "cell_type": "markdown",
   "metadata": {},
   "source": [
    "Функции с вебинара:"
   ]
  },
  {
   "cell_type": "code",
   "execution_count": 2,
   "metadata": {},
   "outputs": [],
   "source": [
    "def get_input(data_path: str) -> pd.DataFrame:\n",
    "    \"\"\"\n",
    "    Считывание данных и вывод основной информации о наборе данных.\n",
    "\n",
    "    Parameters\n",
    "    ----------\n",
    "    data_path: str\n",
    "        Название файла.\n",
    "\n",
    "    Returns\n",
    "    -------\n",
    "    data: pandas.core.frame.DataFrame\n",
    "        Загруженный набор данных в pandas.DataFrame\n",
    "\n",
    "    \"\"\"\n",
    "    base_path = \"geekbrains-competitive-data-analysis\"\n",
    "    data = pd.read_csv(f\"{base_path}/{data_path}\")\n",
    "    data.columns = [col.lower() for col in data.columns]\n",
    "    print(f\"{data_path}: shape = {data.shape[0]} rows, {data.shape[1]} cols\")\n",
    "\n",
    "    return data\n",
    "\n",
    "\n",
    "def create_client_profile_features(X: pd.DataFrame, copy: bool = True) -> pd.DataFrame:\n",
    "    \"\"\"\n",
    "    Создание признаков на основе профиля клиентов.\n",
    "\n",
    "    Parameters\n",
    "    ----------\n",
    "    X: pandas.core.frame.DataFrame\n",
    "        Матрица признаков с исходным профилем клиента.\n",
    "\n",
    "    copy: bool, optional, default = True\n",
    "        Флаг использования копии датафрейма X.\n",
    "        Опциональный параметр, по умолчанию, равен True.\n",
    "\n",
    "    Returns\n",
    "    -------\n",
    "    X_transformed: pandas.core.frame.DataFrame\n",
    "        Расширенная матрица признаков с профилем клиентов.\n",
    "\n",
    "    \"\"\"\n",
    "    if copy:\n",
    "        X = X.copy()\n",
    "\n",
    "    X[\"days_on_last_job\"] = X[\"days_on_last_job\"].replace(365243, np.nan)\n",
    "    bki_flags = [flag for flag in X.columns if \"amt_req_credit_bureau\" in flag]\n",
    "    X[\"bki_requests_count\"] = X[bki_flags].sum(axis=1)\n",
    "    X[\"bki_kurtosis\"] = X[bki_flags].kurtosis(axis=1)\n",
    "\n",
    "    X[\"external_scoring_prod\"] = X[\"external_scoring_rating_1\"] * X[\"external_scoring_rating_2\"] * X[\"external_scoring_rating_3\"]\n",
    "    X[\"external_scoring_weighted\"] = X.external_scoring_rating_1 * 2 + X.external_scoring_rating_2 * 1 + X.external_scoring_rating_3 * 3\n",
    "\n",
    "    for function_name in [\"min\", \"max\", \"mean\", \"nanmedian\", \"var\"]:\n",
    "        feature_name = \"external_scoring_rating_{}\".format(function_name)\n",
    "        X[feature_name] = eval(\"np.{}\".format(function_name))(\n",
    "            X[[\"external_scoring_rating_1\", \"external_scoring_rating_2\", \"external_scoring_rating_3\"]], axis=1\n",
    "        )\n",
    "\n",
    "    # Отношение между основными фин. показателями\n",
    "    X['ratio_credit_to_annuity'] = X['amount_credit'] / X['amount_annuity']\n",
    "    X[\"ratio_annuity_to_salary\"] = X['amount_annuity'] / X['total_salary']\n",
    "    X['ratio_credit_to_salary'] = X['amount_credit'] / X['total_salary']\n",
    "    #X[\"total_salary_net\"] = X[\"total_salary\"] - X[\"amount_annuity\"]\n",
    "\n",
    "    # Отношение фин. показателей к возрасту и временным фичам\n",
    "    X[\"ratio_annuity_to_age\"] = X[\"amount_annuity\"] / X[\"age\"]\n",
    "    X[\"ratio_credit_to_age\"] = X[\"amount_credit\"] / X[\"age\"]\n",
    "    X[\"ratio_salary_to_age\"] = X[\"total_salary\"] / X[\"age\"]\n",
    "    X[\"ratio_salary_to_experience\"] = X[\"total_salary\"] / X[\"days_on_last_job\"]\n",
    "    X[\"ratio_credit_to_experience\"] = X[\"amount_credit\"] / X[\"days_on_last_job\"]\n",
    "    X[\"ratio_annuity_to_experience\"] = X[\"amount_annuity\"] / X[\"days_on_last_job\"]\n",
    "\n",
    "    # Отношение врменных признаков\n",
    "    X[\"ratio_age_to_experience\"] = X[\"age\"] / X[\"days_on_last_job\"]\n",
    "    X[\"ratio_salary_to_region_population\"] = X[\"total_salary\"] * X[\"region_population\"]\n",
    "    X[\"ratio_car_to_experience\"] = X[\"own_car_age\"] / X[\"days_on_last_job\"]\n",
    "    X[\"ratio_car_to_age\"] = X[\"own_car_age\"] / X[\"age\"]\n",
    "\n",
    "    # Произведение фин. показателей кредита на вероятность дефолта\n",
    "    # Такая штука называется математическим ожиданием дефолта или ожидаемыми потерями\n",
    "    X[\"expected_total_loss_1\"] = X[\"external_scoring_rating_1\"] * X[\"amount_credit\"]\n",
    "    X[\"expected_total_loss_2\"] = X[\"external_scoring_rating_2\"] * X[\"amount_credit\"]\n",
    "    X[\"expected_total_loss_3\"] = X[\"external_scoring_rating_3\"] * X[\"amount_credit\"]\n",
    "    X[\"expected_monthly_loss_1\"] = X[\"external_scoring_rating_1\"] * X[\"amount_annuity\"]\n",
    "    X[\"expected_monthly_loss_2\"] = X[\"external_scoring_rating_2\"] * X[\"amount_annuity\"]\n",
    "    X[\"expected_monthly_loss_3\"] = X[\"external_scoring_rating_3\"] * X[\"amount_annuity\"]\n",
    "\n",
    "    return X"
   ]
  },
  {
   "cell_type": "markdown",
   "metadata": {},
   "source": [
    "Константы:"
   ]
  },
  {
   "cell_type": "code",
   "execution_count": 3,
   "metadata": {},
   "outputs": [],
   "source": [
    "EARLY_STOPPING_ROUNDS = 25\n",
    "N_ITERATIONS = 1000\n",
    "VERBOSE = 100\n",
    "N_SPLITS = 5\n",
    "SEED = 42"
   ]
  },
  {
   "cell_type": "markdown",
   "metadata": {},
   "source": [
    "Функция кросс-валидации модели бустинга:"
   ]
  },
  {
   "cell_type": "code",
   "execution_count": 4,
   "metadata": {},
   "outputs": [],
   "source": [
    "def boost_cross_validation(params, X, y, cv, categorical = None):\n",
    "    \"\"\"\n",
    "    Кросс-валидация для модели catbooost.\n",
    "\n",
    "    Parameters\n",
    "    ----------\n",
    "    params: dict\n",
    "        Словарь гиперпараметров модели.\n",
    "\n",
    "    X: pandas.core.frame.DataFrame\n",
    "        Матрица признако для обучения модели.\n",
    "\n",
    "    y: pandas.core.frame.Series\n",
    "        Вектор целевой переменной для обучения модели.\n",
    "\n",
    "    cv: KFold or StratifiedKFold generator.\n",
    "        Объект KFold / StratifiedKFold для определения\n",
    "        стратегии кросс-валидации модели.\n",
    "\n",
    "    categorical: str, optional, default = None\n",
    "        Список категориальных признаков.\n",
    "        Опциональный параметр, по умолчанию, не используется.\n",
    "\n",
    "    Returns\n",
    "    -------\n",
    "    estimators: list\n",
    "        Список с объектами обученной модели.\n",
    "\n",
    "    oof_preds: np.array\n",
    "        Вектор OOF-прогнозов.\n",
    "\n",
    "    \"\"\"\n",
    "    estimators, folds_scores = [], []\n",
    "    oof_preds = np.zeros(X.shape[0])\n",
    "\n",
    "    for fold, (train_idx, valid_idx) in enumerate(cv.split(X, y)):\n",
    "\n",
    "        x_train, x_valid = X.loc[train_idx], X.loc[valid_idx]\n",
    "        y_train, y_valid = y[train_idx], y[valid_idx]      \n",
    "      \n",
    "        if boost_model == 'XGB':\n",
    "            dtrain = xgb.DMatrix(x_train, y_train)\n",
    "            dvalid = xgb.DMatrix(x_valid, y_valid)\n",
    "        \n",
    "            model = xgb.train(\n",
    "                params=params,\n",
    "                dtrain=dtrain,\n",
    "                evals=[(dtrain, \"dtrain\"), (dvalid, \"dvalid\")],\n",
    "                early_stopping_rounds=EARLY_STOPPING_ROUNDS,\n",
    "                num_boost_round=N_ITERATIONS,\n",
    "                verbose_eval=VERBOSE,\n",
    "                maximize=True,\n",
    "            )\n",
    "\n",
    "        elif boost_model == 'LGBM':\n",
    "            model =LGBMClassifier(**params)\n",
    "            model.fit(\n",
    "                x_train, y_train,\n",
    "                eval_set=[(x_train, y_train), (x_valid, y_valid)],\n",
    "                verbose=VERBOSE,\n",
    "                categorical_feature=categorical\n",
    "            )\n",
    "        \n",
    "        elif boost_model == 'CB':\n",
    "            model = CatBoostClassifier(**params)\n",
    "            model.fit(\n",
    "                x_train, y_train,\n",
    "                cat_features=categorical,\n",
    "                eval_set=[(x_train, y_train), (x_valid, y_valid)],\n",
    "                verbose=VERBOSE                \n",
    "            )\n",
    "        \n",
    "        if boost_model == 'XGB':\n",
    "            oof_preds[valid_idx] = model.predict(dvalid)\n",
    "        else:\n",
    "            oof_preds[valid_idx] = model.predict_proba(x_valid)[:, 1]\n",
    "            \n",
    "        score = roc_auc_score(y_valid, oof_preds[valid_idx])\n",
    "        folds_scores.append(round(score, 5))\n",
    "        if hasattr(model, 'copy'):\n",
    "            model = model.copy()\n",
    "        estimators.append(model)\n",
    "        clear_output(wait=True)\n",
    "\n",
    "    print(f\"Score by each fold: {folds_scores}\")\n",
    "\n",
    "    return estimators, oof_preds"
   ]
  },
  {
   "cell_type": "markdown",
   "metadata": {},
   "source": [
    "Данные для обучения и теста:"
   ]
  },
  {
   "cell_type": "code",
   "execution_count": 5,
   "metadata": {},
   "outputs": [
    {
     "name": "stdout",
     "output_type": "stream",
     "text": [
      "train.csv: shape = 110093 rows, 3 cols\n",
      "test.csv: shape = 165141 rows, 2 cols\n"
     ]
    },
    {
     "data": {
      "text/html": [
       "<div>\n",
       "<style scoped>\n",
       "    .dataframe tbody tr th:only-of-type {\n",
       "        vertical-align: middle;\n",
       "    }\n",
       "\n",
       "    .dataframe tbody tr th {\n",
       "        vertical-align: top;\n",
       "    }\n",
       "\n",
       "    .dataframe thead th {\n",
       "        text-align: right;\n",
       "    }\n",
       "</style>\n",
       "<table border=\"1\" class=\"dataframe\">\n",
       "  <thead>\n",
       "    <tr style=\"text-align: right;\">\n",
       "      <th></th>\n",
       "      <th>application_number</th>\n",
       "      <th>target</th>\n",
       "      <th>name_contract_type</th>\n",
       "    </tr>\n",
       "  </thead>\n",
       "  <tbody>\n",
       "    <tr>\n",
       "      <th>0</th>\n",
       "      <td>123687442</td>\n",
       "      <td>0.0</td>\n",
       "      <td>Cash</td>\n",
       "    </tr>\n",
       "    <tr>\n",
       "      <th>1</th>\n",
       "      <td>123597908</td>\n",
       "      <td>1.0</td>\n",
       "      <td>Cash</td>\n",
       "    </tr>\n",
       "  </tbody>\n",
       "</table>\n",
       "</div>"
      ],
      "text/plain": [
       "   application_number  target name_contract_type\n",
       "0           123687442     0.0               Cash\n",
       "1           123597908     1.0               Cash"
      ]
     },
     "execution_count": 5,
     "metadata": {},
     "output_type": "execute_result"
    }
   ],
   "source": [
    "train = get_input(\"train.csv\")\n",
    "test = get_input(\"test.csv\")\n",
    "\n",
    "data = pd.concat([train, test], axis=0, sort=False)\n",
    "data = data.reset_index(drop=True)\n",
    "data.head(n=2)"
   ]
  },
  {
   "cell_type": "markdown",
   "metadata": {},
   "source": [
    "Данные клиентов:"
   ]
  },
  {
   "cell_type": "code",
   "execution_count": 6,
   "metadata": {},
   "outputs": [
    {
     "name": "stdout",
     "output_type": "stream",
     "text": [
      "client_profile.csv: shape = 250000 rows, 24 cols\n"
     ]
    },
    {
     "data": {
      "text/html": [
       "<div>\n",
       "<style scoped>\n",
       "    .dataframe tbody tr th:only-of-type {\n",
       "        vertical-align: middle;\n",
       "    }\n",
       "\n",
       "    .dataframe tbody tr th {\n",
       "        vertical-align: top;\n",
       "    }\n",
       "\n",
       "    .dataframe thead th {\n",
       "        text-align: right;\n",
       "    }\n",
       "</style>\n",
       "<table border=\"1\" class=\"dataframe\">\n",
       "  <thead>\n",
       "    <tr style=\"text-align: right;\">\n",
       "      <th></th>\n",
       "      <th>application_number</th>\n",
       "      <th>gender</th>\n",
       "      <th>childrens</th>\n",
       "      <th>total_salary</th>\n",
       "      <th>amount_credit</th>\n",
       "      <th>amount_annuity</th>\n",
       "      <th>education_level</th>\n",
       "      <th>family_status</th>\n",
       "      <th>region_population</th>\n",
       "      <th>age</th>\n",
       "      <th>...</th>\n",
       "      <th>ratio_age_to_experience</th>\n",
       "      <th>ratio_salary_to_region_population</th>\n",
       "      <th>ratio_car_to_experience</th>\n",
       "      <th>ratio_car_to_age</th>\n",
       "      <th>expected_total_loss_1</th>\n",
       "      <th>expected_total_loss_2</th>\n",
       "      <th>expected_total_loss_3</th>\n",
       "      <th>expected_monthly_loss_1</th>\n",
       "      <th>expected_monthly_loss_2</th>\n",
       "      <th>expected_monthly_loss_3</th>\n",
       "    </tr>\n",
       "  </thead>\n",
       "  <tbody>\n",
       "    <tr>\n",
       "      <th>0</th>\n",
       "      <td>123666076</td>\n",
       "      <td>F</td>\n",
       "      <td>0</td>\n",
       "      <td>157500.0</td>\n",
       "      <td>270000.0</td>\n",
       "      <td>13500.0</td>\n",
       "      <td>Incomplete higher</td>\n",
       "      <td>Civil marriage</td>\n",
       "      <td>0.008068</td>\n",
       "      <td>8560</td>\n",
       "      <td>...</td>\n",
       "      <td>5.526146</td>\n",
       "      <td>1270.71</td>\n",
       "      <td>NaN</td>\n",
       "      <td>NaN</td>\n",
       "      <td>88957.124333</td>\n",
       "      <td>63804.966560</td>\n",
       "      <td>183213.275945</td>\n",
       "      <td>4447.856217</td>\n",
       "      <td>3190.248328</td>\n",
       "      <td>9160.663797</td>\n",
       "    </tr>\n",
       "    <tr>\n",
       "      <th>1</th>\n",
       "      <td>123423688</td>\n",
       "      <td>F</td>\n",
       "      <td>0</td>\n",
       "      <td>270000.0</td>\n",
       "      <td>536917.5</td>\n",
       "      <td>28467.0</td>\n",
       "      <td>Secondary / secondary special</td>\n",
       "      <td>Married</td>\n",
       "      <td>0.020246</td>\n",
       "      <td>23187</td>\n",
       "      <td>...</td>\n",
       "      <td>NaN</td>\n",
       "      <td>5466.42</td>\n",
       "      <td>NaN</td>\n",
       "      <td>NaN</td>\n",
       "      <td>NaN</td>\n",
       "      <td>237475.743779</td>\n",
       "      <td>431008.094056</td>\n",
       "      <td>NaN</td>\n",
       "      <td>12590.802122</td>\n",
       "      <td>22851.755462</td>\n",
       "    </tr>\n",
       "  </tbody>\n",
       "</table>\n",
       "<p>2 rows × 52 columns</p>\n",
       "</div>"
      ],
      "text/plain": [
       "   application_number gender  childrens  total_salary  amount_credit  \\\n",
       "0           123666076      F          0      157500.0       270000.0   \n",
       "1           123423688      F          0      270000.0       536917.5   \n",
       "\n",
       "   amount_annuity                education_level   family_status  \\\n",
       "0         13500.0              Incomplete higher  Civil marriage   \n",
       "1         28467.0  Secondary / secondary special         Married   \n",
       "\n",
       "   region_population    age  ...  ratio_age_to_experience  \\\n",
       "0           0.008068   8560  ...                 5.526146   \n",
       "1           0.020246  23187  ...                      NaN   \n",
       "\n",
       "   ratio_salary_to_region_population  ratio_car_to_experience  \\\n",
       "0                            1270.71                      NaN   \n",
       "1                            5466.42                      NaN   \n",
       "\n",
       "   ratio_car_to_age  expected_total_loss_1  expected_total_loss_2  \\\n",
       "0               NaN           88957.124333           63804.966560   \n",
       "1               NaN                    NaN          237475.743779   \n",
       "\n",
       "   expected_total_loss_3  expected_monthly_loss_1  expected_monthly_loss_2  \\\n",
       "0          183213.275945              4447.856217              3190.248328   \n",
       "1          431008.094056                      NaN             12590.802122   \n",
       "\n",
       "   expected_monthly_loss_3  \n",
       "0              9160.663797  \n",
       "1             22851.755462  \n",
       "\n",
       "[2 rows x 52 columns]"
      ]
     },
     "execution_count": 6,
     "metadata": {},
     "output_type": "execute_result"
    }
   ],
   "source": [
    "client_profile = get_input(\"client_profile.csv\")\n",
    "client_profile = create_client_profile_features(client_profile)\n",
    "client_profile.head(n=2)"
   ]
  },
  {
   "cell_type": "markdown",
   "metadata": {},
   "source": [
    "Склеиваем данные:"
   ]
  },
  {
   "cell_type": "code",
   "execution_count": 7,
   "metadata": {},
   "outputs": [],
   "source": [
    "data = data.merge(\n",
    "    client_profile,\n",
    "    how=\"left\",\n",
    "    on=\"application_number\"\n",
    ")"
   ]
  },
  {
   "cell_type": "code",
   "execution_count": 8,
   "metadata": {},
   "outputs": [],
   "source": [
    "data = data.replace(np.inf, np.nan)\n",
    "data = data.replace(-np.inf, np.nan)"
   ]
  },
  {
   "cell_type": "markdown",
   "metadata": {},
   "source": [
    "Определяем списки признаков:\n",
    " - индексовый и целевой;\n",
    " - категориальные;\n",
    " - числовые:"
   ]
  },
  {
   "cell_type": "code",
   "execution_count": 9,
   "metadata": {},
   "outputs": [],
   "source": [
    "features_to_drop = [\"application_number\", \"target\"]\n",
    "cat_features = data.dtypes[data.dtypes == \"object\"].index.tolist()\n",
    "num_features = list(set(data.columns.drop(features_to_drop)) - set(cat_features))"
   ]
  },
  {
   "cell_type": "markdown",
   "metadata": {},
   "source": [
    "Категориальные кодируем с помощью Frequency Encoding:"
   ]
  },
  {
   "cell_type": "code",
   "execution_count": 10,
   "metadata": {},
   "outputs": [],
   "source": [
    "for feature in cat_features:\n",
    "    freq_encoder = data[feature].value_counts(normalize=True, dropna=False)\n",
    "    data[feature] = data[feature].map(freq_encoder)"
   ]
  },
  {
   "cell_type": "markdown",
   "metadata": {},
   "source": [
    "Заполняем пропуски в числовых признаках нехарактерным значением:"
   ]
  },
  {
   "cell_type": "code",
   "execution_count": 11,
   "metadata": {},
   "outputs": [],
   "source": [
    "data[num_features] = data[num_features].fillna(-9999)"
   ]
  },
  {
   "cell_type": "markdown",
   "metadata": {},
   "source": [
    "Делим данные на обучающую и тестовые выборки, а из обучающей выделяем валидационную:"
   ]
  },
  {
   "cell_type": "code",
   "execution_count": 12,
   "metadata": {},
   "outputs": [],
   "source": [
    "mask = data[\"target\"].isnull()\n",
    "\n",
    "train, test = data.loc[~mask], data.loc[mask]\n",
    "\n",
    "X = train.drop(features_to_drop, axis=1)\n",
    "y = train[\"target\"]\n",
    "\n",
    "X_test = test.drop(features_to_drop, axis=1)"
   ]
  },
  {
   "cell_type": "code",
   "execution_count": 13,
   "metadata": {},
   "outputs": [],
   "source": [
    "X_train, X_valid, y_train, y_valid = train_test_split(\n",
    "    X, y,\n",
    "    test_size=0.3,\n",
    "    random_state=SEED\n",
    ")"
   ]
  },
  {
   "cell_type": "markdown",
   "metadata": {},
   "source": [
    "### Служебные инструменты"
   ]
  },
  {
   "cell_type": "markdown",
   "metadata": {},
   "source": [
    "Объект KFold:"
   ]
  },
  {
   "cell_type": "code",
   "execution_count": 14,
   "metadata": {},
   "outputs": [],
   "source": [
    "cv = KFold(n_splits=N_SPLITS, random_state=SEED, shuffle=True)"
   ]
  },
  {
   "cell_type": "markdown",
   "metadata": {},
   "source": [
    "Функция обновления словаря параметров найденными оптимальными значениями (и их вывод):"
   ]
  },
  {
   "cell_type": "code",
   "execution_count": 15,
   "metadata": {},
   "outputs": [],
   "source": [
    "def update_params(params_search):\n",
    "    optimal_params = params_search.max\n",
    "    pprint(optimal_params)\n",
    "    \n",
    "    for k, v in optimal_params['params'].items():\n",
    "        params[k] = v    \n",
    "    params['max_depth'] = int(round(params['max_depth']))\n",
    "    if 'min_child_weights' in params:\n",
    "        params['min_child_weights'] = int(round(params['min_child_weights']))"
   ]
  },
  {
   "cell_type": "markdown",
   "metadata": {},
   "source": [
    "Вывод:\n",
    " - корреляций предсказаний моделей на обучающей и тестовой выборках;\n",
    " - корреляции целевого признака с предсказаниями моделей на обучающей выборке;\n",
    " - корреляции среднего арифметического и среднего геометрического предсказаний моделей на обучающей выборке с целевым признаком:"
   ]
  },
  {
   "cell_type": "code",
   "execution_count": 16,
   "metadata": {},
   "outputs": [],
   "source": [
    "def show_corr(X, y, X_test, models):\n",
    "    model_names = [f'model_{i}' for i in range(1, N_SPLITS+1)]\n",
    "    \n",
    "    train_preds = pd.DataFrame(columns=model_names)\n",
    "    test_preds = pd.DataFrame(columns=model_names)\n",
    "    \n",
    "    for i, model in enumerate(models, 1):\n",
    "        model_name = f'model_{i}'\n",
    "        if boost_model == 'XGB':\n",
    "            train_preds[model_name] = model.predict(xgb.DMatrix(X))\n",
    "            test_preds[model_name] = model.predict(xgb.DMatrix(X_test))\n",
    "        else:\n",
    "            train_preds[model_name] = model.predict_proba(X)[:, 1]\n",
    "            test_preds[model_name] = model.predict_proba(X_test)[:, 1]\n",
    "    \n",
    "    train_preds['target'] = y\n",
    "    \n",
    "    comb_preds = pd.DataFrame(y, columns=['target'])\n",
    "    comb_preds['mean'] = train_preds[model_names].mean(axis=1)\n",
    "    comb_preds['gmean'] = train_preds[model_names].apply(gmean, axis=1)\n",
    "    \n",
    "    fig, axes = plt.subplots(nrows=2, ncols=2, sharey=False, figsize=(14, 10))\n",
    "    axes = axes.flatten()\n",
    "\n",
    "    for ax, preds, title in zip(axes[:2], [train_preds, test_preds], ['Train', 'Test']):\n",
    "        sns.heatmap(preds[model_names].corr(), ax=ax, annot=True, linewidths=.5, cmap='GnBu')\n",
    "        ax.set_title(title)\n",
    "        ax.tick_params(axis='y', labelrotation=0)\n",
    "    ax.yaxis.set_visible(False)\n",
    "\n",
    "    target_corr = train_preds.corr()[['target']]\n",
    "    sns.heatmap(target_corr[:-1], ax=axes[2], annot=True, linewidths=.5)\n",
    "    axes[2].tick_params(axis='y', labelrotation=0)    \n",
    "    \n",
    "    comb_corr = comb_preds.corr()[['target']]\n",
    "    sns.heatmap(comb_corr[1:], ax=axes[3], annot=True, linewidths=.5, cmap='viridis')\n",
    "    axes[3].tick_params(axis='y', labelrotation=0)        \n",
    "    # axes[3].axis(\"off\")"
   ]
  },
  {
   "cell_type": "markdown",
   "metadata": {},
   "source": [
    "Функция обучения моделей XGBoost и LightGBM с заданными параметрами (для оптимизации):"
   ]
  },
  {
   "cell_type": "code",
   "execution_count": 17,
   "metadata": {},
   "outputs": [],
   "source": [
    "def boost_optimize_params(max_depth, min_child_weights, colsample_bytree):\n",
    "\n",
    "    params[\"max_depth\"] = int(round(max_depth))\n",
    "    params[\"min_child_weights\"] = int(round(min_child_weights))\n",
    "    params[\"colsample_bytree\"] = colsample_bytree\n",
    "\n",
    "    if boost_model == 'XGB':\n",
    "        model = xgb.train(\n",
    "            params=params,\n",
    "            dtrain=dtrain,\n",
    "            evals=[(dtrain, \"dtrain\"), (dvalid, \"dvalid\")],\n",
    "            early_stopping_rounds=EARLY_STOPPING_ROUNDS,\n",
    "            num_boost_round=N_ITERATIONS,\n",
    "            verbose_eval=VERBOSE,\n",
    "            maximize=True,\n",
    "        )\n",
    "        \n",
    "        score = roc_auc_score(y_valid, model.predict(dvalid))\n",
    "    \n",
    "    elif boost_model == 'LGBM':  \n",
    "        model = LGBMClassifier(**params)\n",
    "        model.fit(\n",
    "            X_train, y_train,\n",
    "            eval_set=[(X_train, y_train), (X_valid, y_valid)],\n",
    "            verbose=VERBOSE,\n",
    "            categorical_feature=cat_features\n",
    "        )        \n",
    "    \n",
    "        score = roc_auc_score(y_valid, model.predict_proba(X_valid)[:, 1])\n",
    "\n",
    "    print('\\n')\n",
    "    \n",
    "    return score"
   ]
  },
  {
   "cell_type": "markdown",
   "metadata": {},
   "source": [
    "## Эксперимент по сравнению моделей"
   ]
  },
  {
   "cell_type": "markdown",
   "metadata": {},
   "source": [
    "**При одних и тех же условиях (составе выборки и значении random_state):**\n",
    " - **получим оптимальные гиперпараметры моделей XGBoost, LightGBM и CatBoost из единой сетки;**\n",
    " - **произведём их кросс-валидацию;**\n",
    " - **определим  oof-предсказания по фолдам и в общем;**\n",
    " - **выведем корреляции и сделаем выводы.**"
   ]
  },
  {
   "cell_type": "markdown",
   "metadata": {},
   "source": [
    "## XGBoost"
   ]
  },
  {
   "cell_type": "markdown",
   "metadata": {},
   "source": [
    "Параметры и преобразование данных для модели:"
   ]
  },
  {
   "cell_type": "code",
   "execution_count": 18,
   "metadata": {},
   "outputs": [],
   "source": [
    "boost_model = 'XGB'\n",
    "\n",
    "params = {\n",
    "    \"booster\": \"gbtree\",\n",
    "    \"eval_metric\": \"auc\",\n",
    "    \"objective\": \"binary:logistic\",\n",
    "    \"learning_rate\": 0.01,\n",
    "    \"nthread\": 6,\n",
    "    \"seed\": SEED\n",
    "}\n",
    "\n",
    "dtrain = xgb.DMatrix(X_train, y_train)\n",
    "dvalid = xgb.DMatrix(X_valid, y_valid)"
   ]
  },
  {
   "cell_type": "code",
   "execution_count": 19,
   "metadata": {
    "scrolled": false
   },
   "outputs": [],
   "source": [
    "pbounds = {\n",
    "    \"max_depth\": (3, 8),\n",
    "    \"min_child_weights\": (5, 500),\n",
    "    \"colsample_bytree\": (0.3, 0.9)\n",
    "}\n",
    "\n",
    "xgb_params_search = BayesianOptimization(\n",
    "    boost_optimize_params,\n",
    "    pbounds=pbounds,\n",
    "    random_state=SEED\n",
    ")"
   ]
  },
  {
   "cell_type": "markdown",
   "metadata": {},
   "source": [
    "Оптимальные значения параметров:"
   ]
  },
  {
   "cell_type": "code",
   "execution_count": 20,
   "metadata": {
    "scrolled": false
   },
   "outputs": [
    {
     "name": "stdout",
     "output_type": "stream",
     "text": [
      "{'params': {'colsample_bytree': 0.33485016730091965,\n",
      "            'max_depth': 7.330880728874676,\n",
      "            'min_child_weights': 302.5519308128884},\n",
      " 'target': 0.7364390033458451}\n"
     ]
    }
   ],
   "source": [
    "xgb_params_search.maximize(\n",
    "    init_points=3, n_iter=5, acq='ei'\n",
    ")\n",
    "clear_output(wait=True)\n",
    "\n",
    "update_params(xgb_params_search)"
   ]
  },
  {
   "cell_type": "markdown",
   "metadata": {},
   "source": [
    "Кросс-валидация и метрики oof-предсказаний по фолдам:"
   ]
  },
  {
   "cell_type": "code",
   "execution_count": 21,
   "metadata": {},
   "outputs": [
    {
     "name": "stdout",
     "output_type": "stream",
     "text": [
      "Score by each fold: [0.72299, 0.70729, 0.71603, 0.70914, 0.71742]\n"
     ]
    }
   ],
   "source": [
    "xgb_estimators, xgb_oof_preds = boost_cross_validation(\n",
    "    params=params, X=X, y=y, cv=cv\n",
    ")"
   ]
  },
  {
   "cell_type": "markdown",
   "metadata": {},
   "source": [
    "Метрика oof-предсказаний в общем:"
   ]
  },
  {
   "cell_type": "code",
   "execution_count": 22,
   "metadata": {},
   "outputs": [
    {
     "data": {
      "text/plain": [
       "0.6318750704372158"
      ]
     },
     "execution_count": 22,
     "metadata": {},
     "output_type": "execute_result"
    }
   ],
   "source": [
    "xgb_oof_score = roc_auc_score(y, xgb_oof_preds)\n",
    "xgb_oof_score"
   ]
  },
  {
   "cell_type": "markdown",
   "metadata": {},
   "source": [
    "Корреляции:"
   ]
  },
  {
   "cell_type": "code",
   "execution_count": 23,
   "metadata": {},
   "outputs": [
    {
     "data": {
      "image/png": "[encoded data removed]",
      "text/plain": [
       "<Figure size 1008x720 with 8 Axes>"
      ]
     },
     "metadata": {
      "needs_background": "light"
     },
     "output_type": "display_data"
    }
   ],
   "source": [
    "show_corr(X, y, X_test, xgb_estimators)"
   ]
  },
  {
   "cell_type": "markdown",
   "metadata": {},
   "source": [
    "Выводы:\n",
    " - 4 модели дали очень близкие результаты, имеющие, тем не менее, низкую корреляцию с целевым признаком;\n",
    " - 5-я модель, меньше всех коррелирующая с остальными, коррелирует сильнее с целевым признаком;\n",
    " - среднее арифметическое и среднее геометрическое предсказаний моделей коррелируют с целевым признаком практически одинаково (среднее арифметическое предпочтительнее, поскольку считается быстрее);\n",
    " - есть очень серьёзное проседание метрики на oof-предсказаниях в общем. Это может быть вызвано переобучением модели (максимальная глубина дерева равна 7) - требуется также подбор регуляризационных гиперпараметров. "
   ]
  },
  {
   "cell_type": "markdown",
   "metadata": {},
   "source": [
    "## LightGBM"
   ]
  },
  {
   "cell_type": "markdown",
   "metadata": {},
   "source": [
    "Параметры и преобразование данных для модели:"
   ]
  },
  {
   "cell_type": "code",
   "execution_count": 24,
   "metadata": {},
   "outputs": [],
   "source": [
    "boost_model = 'LGBM'\n",
    "\n",
    "params = {\n",
    "    \"eval_metric\": \"AUC\",\n",
    "    \"loss_function\": \"Logloss\",\n",
    "    \"learning_rate\": 0.01,\n",
    "    \"thread_count\": 6,\n",
    "    \"early_stopping_rounds\": EARLY_STOPPING_ROUNDS,\n",
    "    \"n_estimators\": N_ITERATIONS,\n",
    "    \"seed\": SEED\n",
    "}\n",
    "\n",
    "for df in X, X_train, X_valid, X_test:\n",
    "    df[cat_features] = df[cat_features].astype('category')"
   ]
  },
  {
   "cell_type": "markdown",
   "metadata": {},
   "source": [
    "Оптимальные значения параметров:"
   ]
  },
  {
   "cell_type": "code",
   "execution_count": 25,
   "metadata": {
    "scrolled": false
   },
   "outputs": [
    {
     "name": "stdout",
     "output_type": "stream",
     "text": [
      "{'params': {'colsample_bytree': 0.33485016730091965,\n",
      "            'max_depth': 7.330880728874676,\n",
      "            'min_child_weights': 302.5519308128884},\n",
      " 'target': 0.7370553977358308}\n"
     ]
    }
   ],
   "source": [
    "lgb_params_search = BayesianOptimization(\n",
    "    boost_optimize_params,\n",
    "    pbounds=pbounds,\n",
    "    random_state=SEED\n",
    ")\n",
    "\n",
    "lgb_params_search.maximize(\n",
    "    init_points=3, n_iter=5, acq='ei'\n",
    ")\n",
    "clear_output(wait=True)\n",
    "\n",
    "update_params(lgb_params_search)"
   ]
  },
  {
   "cell_type": "markdown",
   "metadata": {},
   "source": [
    "Кросс-валидация и метрики oof-предсказаний по фолдам:"
   ]
  },
  {
   "cell_type": "code",
   "execution_count": 26,
   "metadata": {},
   "outputs": [
    {
     "name": "stdout",
     "output_type": "stream",
     "text": [
      "Score by each fold: [0.74408, 0.7239, 0.73078, 0.72965, 0.71469]\n"
     ]
    }
   ],
   "source": [
    "lgb_estimators, lgb_oof_preds = boost_cross_validation(\n",
    "    params=params, X=X, y=y, cv=cv, categorical=cat_features\n",
    ")"
   ]
  },
  {
   "cell_type": "markdown",
   "metadata": {},
   "source": [
    "Метрика oof-предсказаний в общем:"
   ]
  },
  {
   "cell_type": "code",
   "execution_count": 27,
   "metadata": {},
   "outputs": [
    {
     "data": {
      "text/plain": [
       "0.7278589676994449"
      ]
     },
     "execution_count": 27,
     "metadata": {},
     "output_type": "execute_result"
    }
   ],
   "source": [
    "lgb_oof_score = roc_auc_score(y, lgb_oof_preds)\n",
    "lgb_oof_score"
   ]
  },
  {
   "cell_type": "markdown",
   "metadata": {},
   "source": [
    "Корреляции:"
   ]
  },
  {
   "cell_type": "code",
   "execution_count": 28,
   "metadata": {},
   "outputs": [
    {
     "data": {
      "image/png": "[encoded data removed]",
      "text/plain": [
       "<Figure size 1008x720 with 8 Axes>"
      ]
     },
     "metadata": {
      "needs_background": "light"
     },
     "output_type": "display_data"
    }
   ],
   "source": [
    "show_corr(X, y, X_test, lgb_estimators)"
   ]
  },
  {
   "cell_type": "markdown",
   "metadata": {},
   "source": [
    "Выводы:\n",
    " - были подобраны те же оптимальные значения гиперпараметров, что и для моделей XGBoost;\n",
    " - все модели близко коррелируют друг с другом и практически одинаково - с целевым признаком;\n",
    " - среднее арифметическое и среднее геометрическое предсказаний моделей коррелируют также одинаково;\n",
    " - метрика oof-предсказаний в общем не выбивается в сравнении с её значениями на отдельных фолдах."
   ]
  },
  {
   "cell_type": "markdown",
   "metadata": {},
   "source": [
    "## CatBoost"
   ]
  },
  {
   "cell_type": "markdown",
   "metadata": {},
   "source": [
    "Параметры и преобразование данных для модели:"
   ]
  },
  {
   "cell_type": "code",
   "execution_count": 29,
   "metadata": {},
   "outputs": [],
   "source": [
    "boost_model = 'CB'\n",
    "\n",
    "params = {\n",
    "    \"eval_metric\": \"AUC\",\n",
    "    \"loss_function\": \"Logloss\",\n",
    "    \"learning_rate\": 0.01,\n",
    "    \"thread_count\": 6,\n",
    "    \"early_stopping_rounds\": EARLY_STOPPING_ROUNDS,\n",
    "    \"n_estimators\": N_ITERATIONS,\n",
    "    \"random_seed\": SEED\n",
    "}\n",
    "\n",
    "for df in X, X_train, X_valid, X_test:\n",
    "    df[cat_features] = df[cat_features].astype('str')\n",
    "    \n",
    "cat_features_idx = np.where(X.columns.isin(cat_features))[0]"
   ]
  },
  {
   "cell_type": "markdown",
   "metadata": {},
   "source": [
    "Функция обучения моделей с заданными параметрами (rsm - Random subspace method):"
   ]
  },
  {
   "cell_type": "code",
   "execution_count": 30,
   "metadata": {},
   "outputs": [],
   "source": [
    "def cb_optimize_params(max_depth, rsm):\n",
    "\n",
    "    params[\"max_depth\"] = int(round(max_depth))\n",
    "    params[\"rsm\"] = rsm\n",
    "    \n",
    "    model = CatBoostClassifier(**params)\n",
    "    model.fit(\n",
    "        X_train, y_train,\n",
    "        eval_set=[(X_train, y_train), (X_valid, y_valid)],        \n",
    "        verbose=VERBOSE,\n",
    "        cat_features=cat_features_idx\n",
    "    )\n",
    "\n",
    "    return roc_auc_score(y_valid, model.predict_proba(X_valid)[:, 1])"
   ]
  },
  {
   "cell_type": "code",
   "execution_count": 31,
   "metadata": {
    "scrolled": false
   },
   "outputs": [],
   "source": [
    "pbounds = {\n",
    "    \"max_depth\": (3, 8),\n",
    "    \"rsm\": (0.3, 0.9)\n",
    "}\n",
    "\n",
    "cb_params_search = BayesianOptimization(\n",
    "    cb_optimize_params,\n",
    "    pbounds=pbounds,\n",
    "    random_state=SEED\n",
    ")"
   ]
  },
  {
   "cell_type": "markdown",
   "metadata": {},
   "source": [
    "Оптимальные значения параметров:"
   ]
  },
  {
   "cell_type": "code",
   "execution_count": 32,
   "metadata": {
    "scrolled": false
   },
   "outputs": [
    {
     "name": "stdout",
     "output_type": "stream",
     "text": [
      "{'params': {'max_depth': 6.140745804820556, 'rsm': 0.30124133486060395},\n",
      " 'target': 0.7314994321502377}\n"
     ]
    }
   ],
   "source": [
    "cb_params_search.maximize(\n",
    "    init_points=3, n_iter=5, acq='ei'\n",
    ")\n",
    "clear_output(wait=True)\n",
    "\n",
    "update_params(cb_params_search)"
   ]
  },
  {
   "cell_type": "markdown",
   "metadata": {},
   "source": [
    "Кросс-валидация и метрики oof-предсказаний по фолдам:"
   ]
  },
  {
   "cell_type": "code",
   "execution_count": 33,
   "metadata": {},
   "outputs": [
    {
     "name": "stdout",
     "output_type": "stream",
     "text": [
      "Score by each fold: [0.71975, 0.71971, 0.72499, 0.70548, 0.69352]\n"
     ]
    }
   ],
   "source": [
    "cb_estimators, cb_oof_preds = boost_cross_validation(\n",
    "    params=params, X=X, y=y, cv=cv, categorical=cat_features_idx\n",
    ")"
   ]
  },
  {
   "cell_type": "markdown",
   "metadata": {},
   "source": [
    "Метрика oof-предсказаний в общем:"
   ]
  },
  {
   "cell_type": "code",
   "execution_count": 34,
   "metadata": {},
   "outputs": [
    {
     "data": {
      "text/plain": [
       "0.6164309638115127"
      ]
     },
     "execution_count": 34,
     "metadata": {},
     "output_type": "execute_result"
    }
   ],
   "source": [
    "cb_oof_score = roc_auc_score(y, cb_oof_preds)\n",
    "cb_oof_score"
   ]
  },
  {
   "cell_type": "markdown",
   "metadata": {},
   "source": [
    "Корреляции:"
   ]
  },
  {
   "cell_type": "code",
   "execution_count": 35,
   "metadata": {},
   "outputs": [
    {
     "data": {
      "image/png": "[encoded data removed]",
      "text/plain": [
       "<Figure size 1008x720 with 8 Axes>"
      ]
     },
     "metadata": {
      "needs_background": "light"
     },
     "output_type": "display_data"
    }
   ],
   "source": [
    "show_corr(X, y, X_test, cb_estimators)"
   ]
  },
  {
   "cell_type": "markdown",
   "metadata": {},
   "source": [
    "Выводы:\n",
    " - сильно коррелируют друг с другом 2-я и 3-я модели, а также 1-я, 4-я и 5-я;\n",
    " - с целевым признаком все они коррелируют слабо;\n",
    " - снижение метрики oof-предсказаний в общем сигнализирует, как и в случае XGBoost, о возможном переобучении и необходимости регуляризации."
   ]
  },
  {
   "cell_type": "markdown",
   "metadata": {},
   "source": [
    "## Логистическая регрессия"
   ]
  },
  {
   "cell_type": "code",
   "execution_count": 36,
   "metadata": {},
   "outputs": [
    {
     "data": {
      "text/html": [
       "<div>\n",
       "<style scoped>\n",
       "    .dataframe tbody tr th:only-of-type {\n",
       "        vertical-align: middle;\n",
       "    }\n",
       "\n",
       "    .dataframe tbody tr th {\n",
       "        vertical-align: top;\n",
       "    }\n",
       "\n",
       "    .dataframe thead th {\n",
       "        text-align: right;\n",
       "    }\n",
       "</style>\n",
       "<table border=\"1\" class=\"dataframe\">\n",
       "  <thead>\n",
       "    <tr style=\"text-align: right;\">\n",
       "      <th></th>\n",
       "      <th>xgb</th>\n",
       "      <th>lgb</th>\n",
       "      <th>cb</th>\n",
       "      <th>target</th>\n",
       "    </tr>\n",
       "  </thead>\n",
       "  <tbody>\n",
       "    <tr>\n",
       "      <th>0</th>\n",
       "      <td>0.119775</td>\n",
       "      <td>0.017807</td>\n",
       "      <td>0.023856</td>\n",
       "      <td>0.0</td>\n",
       "    </tr>\n",
       "    <tr>\n",
       "      <th>1</th>\n",
       "      <td>0.247399</td>\n",
       "      <td>0.084479</td>\n",
       "      <td>0.084740</td>\n",
       "      <td>1.0</td>\n",
       "    </tr>\n",
       "    <tr>\n",
       "      <th>2</th>\n",
       "      <td>0.063247</td>\n",
       "      <td>0.060931</td>\n",
       "      <td>0.294433</td>\n",
       "      <td>0.0</td>\n",
       "    </tr>\n",
       "    <tr>\n",
       "      <th>3</th>\n",
       "      <td>0.311711</td>\n",
       "      <td>0.167547</td>\n",
       "      <td>0.237750</td>\n",
       "      <td>1.0</td>\n",
       "    </tr>\n",
       "    <tr>\n",
       "      <th>4</th>\n",
       "      <td>0.170530</td>\n",
       "      <td>0.083104</td>\n",
       "      <td>0.083315</td>\n",
       "      <td>1.0</td>\n",
       "    </tr>\n",
       "  </tbody>\n",
       "</table>\n",
       "</div>"
      ],
      "text/plain": [
       "        xgb       lgb        cb  target\n",
       "0  0.119775  0.017807  0.023856     0.0\n",
       "1  0.247399  0.084479  0.084740     1.0\n",
       "2  0.063247  0.060931  0.294433     0.0\n",
       "3  0.311711  0.167547  0.237750     1.0\n",
       "4  0.170530  0.083104  0.083315     1.0"
      ]
     },
     "execution_count": 36,
     "metadata": {},
     "output_type": "execute_result"
    }
   ],
   "source": [
    "oof = pd.DataFrame({'xgb': xgb_oof_preds, 'lgb': lgb_oof_preds, 'cb': cb_oof_preds, 'target': y})\n",
    "oof.head()"
   ]
  },
  {
   "cell_type": "code",
   "execution_count": 37,
   "metadata": {},
   "outputs": [
    {
     "data": {
      "text/plain": [
       "LogisticRegressionCV(Cs=10, class_weight=None, cv=5, dual=False,\n",
       "                     fit_intercept=True, intercept_scaling=1.0, l1_ratios=None,\n",
       "                     max_iter=100, multi_class='auto', n_jobs=None,\n",
       "                     penalty='l2', random_state=42, refit=True, scoring=None,\n",
       "                     solver='lbfgs', tol=0.0001, verbose=0)"
      ]
     },
     "execution_count": 37,
     "metadata": {},
     "output_type": "execute_result"
    }
   ],
   "source": [
    "logit = LogisticRegressionCV(cv=5, random_state=SEED)\n",
    "logit.fit(oof[['xgb', 'lgb', 'cb']], oof['target'])"
   ]
  },
  {
   "cell_type": "code",
   "execution_count": 38,
   "metadata": {},
   "outputs": [
    {
     "data": {
      "text/html": [
       "<div>\n",
       "<style scoped>\n",
       "    .dataframe tbody tr th:only-of-type {\n",
       "        vertical-align: middle;\n",
       "    }\n",
       "\n",
       "    .dataframe tbody tr th {\n",
       "        vertical-align: top;\n",
       "    }\n",
       "\n",
       "    .dataframe thead th {\n",
       "        text-align: right;\n",
       "    }\n",
       "</style>\n",
       "<table border=\"1\" class=\"dataframe\">\n",
       "  <thead>\n",
       "    <tr style=\"text-align: right;\">\n",
       "      <th></th>\n",
       "      <th>logit_weight</th>\n",
       "      <th>oof_score</th>\n",
       "    </tr>\n",
       "  </thead>\n",
       "  <tbody>\n",
       "    <tr>\n",
       "      <th>xgb</th>\n",
       "      <td>1.417249</td>\n",
       "      <td>0.631875</td>\n",
       "    </tr>\n",
       "    <tr>\n",
       "      <th>lgb</th>\n",
       "      <td>5.559575</td>\n",
       "      <td>0.727859</td>\n",
       "    </tr>\n",
       "    <tr>\n",
       "      <th>cb</th>\n",
       "      <td>1.398940</td>\n",
       "      <td>0.616431</td>\n",
       "    </tr>\n",
       "  </tbody>\n",
       "</table>\n",
       "</div>"
      ],
      "text/plain": [
       "     logit_weight  oof_score\n",
       "xgb      1.417249   0.631875\n",
       "lgb      5.559575   0.727859\n",
       "cb       1.398940   0.616431"
      ]
     },
     "execution_count": 38,
     "metadata": {},
     "output_type": "execute_result"
    }
   ],
   "source": [
    "pd.DataFrame(\n",
    "    {'logit_weight': logit.coef_.ravel(),\n",
    "     'oof_score': [xgb_oof_score, lgb_oof_score, cb_oof_score]},\n",
    "    index=['xgb', 'lgb','cb'])"
   ]
  },
  {
   "cell_type": "markdown",
   "metadata": {},
   "source": [
    "Логистическая регрессия дала больший вес oof-предсказаниям моделей LightGBM (дополнительное подтверждение корреляциям)."
   ]
  },
  {
   "cell_type": "markdown",
   "metadata": {},
   "source": [
    "## Общие выводы:\n",
    " - в примерно одинаковых условиях модели LightGBM дали лучший результат, чем остальные;\n",
    " - улучшение результата XGBoost и CatBoost может быть дрстигнуто в том числе с помощью подбора регуляризующих гиперпараметров; также можно вернуть int(max_depth) для дополнительного сдерживания глубины дерева."
   ]
  }
 ],
 "metadata": {
  "kernelspec": {
   "display_name": "Python 3",
   "language": "python",
   "name": "python3"
  },
  "language_info": {
   "codemirror_mode": {
    "name": "ipython",
    "version": 3
   },
   "file_extension": ".py",
   "mimetype": "text/x-python",
   "name": "python",
   "nbconvert_exporter": "python",
   "pygments_lexer": "ipython3",
   "version": "3.7.3"
  }
 },
 "nbformat": 4,
 "nbformat_minor": 2
}
