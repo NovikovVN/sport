{
 "cells": [
  {
   "cell_type": "code",
   "execution_count": 1,
   "metadata": {},
   "outputs": [],
   "source": [
    "import numpy as np\n",
    "import pandas as pd\n",
    "import matplotlib.pyplot as plt\n",
    "import seaborn as sns\n",
    "\n",
    "from sklearn.decomposition import PCA\n",
    "from sklearn.metrics import roc_auc_score\n",
    "from sklearn.model_selection import KFold, GroupKFold, GroupShuffleSplit\n",
    "\n",
    "from tqdm import tqdm\n",
    "from typing import List, Optional, Tuple\n",
    "\n",
    "from catboost import cv, CatBoostClassifier, Pool\n",
    "\n",
    "%matplotlib inline\n",
    "sns.set(font_scale=1.25)"
   ]
  },
  {
   "cell_type": "markdown",
   "metadata": {},
   "source": [
    "Задание 0: выбрать любую модель машнного обучения и зафиксировать любой тип валидации. Обучить базовую модель и зафиксировать базовое качество модели. В каждом следующем задании нужно будет обучить выбранную модель и оценивать ее качество на зафиксированной схеме валидации. После каждого задания, требуется сделать вывод о достигаемом качестве модели, по сравнению с качестом из предыдущего шага.\n",
    "\n",
    "Задание 1: признак TransactionDT - это смещение в секундах относительно базовой даты. Базовая дата - 2017-12-01, преобразовать признак TransactionDT в datetime, прибавив к базовой дате исходное значение признака. Из полученного признака выделить год, месяц, день недели, час, день.\n",
    "\n",
    "Задание 2: сгруппировать данные по card1 и посчитать среднюю сумму транзакции. Добавить в качестве признака в набор данных. Посчитать разницу между суммой транзакцией пользователя и средней суммой транзакции по данному типу card1. Построить отношение этих признаков. Повторить процедуру для всех card.\n",
    "\n",
    "Задание 3: преобразовать признаки card_1 - card_6 с помощью Frequency Encoding;\n",
    "\n",
    "Задание 4: преобразовать признак TransactionAmt в логариф признака, выделить дробную часть и целую часть в отдельные признаки.\n",
    "\n",
    "Задание 5: для числовых признаков построить PCA-признаки, добавить их к основной части датасета.\n",
    "\n",
    "Задание 6: использовать критерий отбора признаков на основе перестановок для отбора признаков, которые положительно влияют на перформанс модели. Переобучить модель и сделать выводы о полученном качестве алгоритма.\n",
    "\n",
    "Задание 7: (опциональное) испольовать SHAP для оценки важности признаков. Использовать SHAP для отбора признаков, проанализировать поведение модели на одном (любом) примере, посмотреть какой вклад каждый признак вносит в итоговый прогно. Проанализировать резульаты."
   ]
  },
  {
   "cell_type": "markdown",
   "metadata": {},
   "source": [
    "## Задание 0 \n",
    "\n",
    "Выбрать любую модель машнного обучения и зафиксировать любой тип валидации. Обучить базовую модель и зафиксировать базовое качество модели."
   ]
  },
  {
   "cell_type": "markdown",
   "metadata": {},
   "source": [
    "Данные для обучения и теста:"
   ]
  },
  {
   "cell_type": "code",
   "execution_count": 2,
   "metadata": {},
   "outputs": [
    {
     "data": {
      "text/html": [
       "<div>\n",
       "<style scoped>\n",
       "    .dataframe tbody tr th:only-of-type {\n",
       "        vertical-align: middle;\n",
       "    }\n",
       "\n",
       "    .dataframe tbody tr th {\n",
       "        vertical-align: top;\n",
       "    }\n",
       "\n",
       "    .dataframe thead th {\n",
       "        text-align: right;\n",
       "    }\n",
       "</style>\n",
       "<table border=\"1\" class=\"dataframe\">\n",
       "  <thead>\n",
       "    <tr style=\"text-align: right;\">\n",
       "      <th></th>\n",
       "      <th>TransactionID</th>\n",
       "      <th>isFraud</th>\n",
       "      <th>TransactionDT</th>\n",
       "      <th>TransactionAmt</th>\n",
       "      <th>ProductCD</th>\n",
       "      <th>card1</th>\n",
       "      <th>card2</th>\n",
       "      <th>card3</th>\n",
       "      <th>card4</th>\n",
       "      <th>card5</th>\n",
       "      <th>...</th>\n",
       "      <th>V330</th>\n",
       "      <th>V331</th>\n",
       "      <th>V332</th>\n",
       "      <th>V333</th>\n",
       "      <th>V334</th>\n",
       "      <th>V335</th>\n",
       "      <th>V336</th>\n",
       "      <th>V337</th>\n",
       "      <th>V338</th>\n",
       "      <th>V339</th>\n",
       "    </tr>\n",
       "  </thead>\n",
       "  <tbody>\n",
       "    <tr>\n",
       "      <th>0</th>\n",
       "      <td>2987000</td>\n",
       "      <td>0</td>\n",
       "      <td>86400</td>\n",
       "      <td>68.5</td>\n",
       "      <td>W</td>\n",
       "      <td>13926</td>\n",
       "      <td>NaN</td>\n",
       "      <td>150.0</td>\n",
       "      <td>discover</td>\n",
       "      <td>142.0</td>\n",
       "      <td>...</td>\n",
       "      <td>NaN</td>\n",
       "      <td>NaN</td>\n",
       "      <td>NaN</td>\n",
       "      <td>NaN</td>\n",
       "      <td>NaN</td>\n",
       "      <td>NaN</td>\n",
       "      <td>NaN</td>\n",
       "      <td>NaN</td>\n",
       "      <td>NaN</td>\n",
       "      <td>NaN</td>\n",
       "    </tr>\n",
       "    <tr>\n",
       "      <th>1</th>\n",
       "      <td>2987001</td>\n",
       "      <td>0</td>\n",
       "      <td>86401</td>\n",
       "      <td>29.0</td>\n",
       "      <td>W</td>\n",
       "      <td>2755</td>\n",
       "      <td>404.0</td>\n",
       "      <td>150.0</td>\n",
       "      <td>mastercard</td>\n",
       "      <td>102.0</td>\n",
       "      <td>...</td>\n",
       "      <td>NaN</td>\n",
       "      <td>NaN</td>\n",
       "      <td>NaN</td>\n",
       "      <td>NaN</td>\n",
       "      <td>NaN</td>\n",
       "      <td>NaN</td>\n",
       "      <td>NaN</td>\n",
       "      <td>NaN</td>\n",
       "      <td>NaN</td>\n",
       "      <td>NaN</td>\n",
       "    </tr>\n",
       "    <tr>\n",
       "      <th>2</th>\n",
       "      <td>2987002</td>\n",
       "      <td>0</td>\n",
       "      <td>86469</td>\n",
       "      <td>59.0</td>\n",
       "      <td>W</td>\n",
       "      <td>4663</td>\n",
       "      <td>490.0</td>\n",
       "      <td>150.0</td>\n",
       "      <td>visa</td>\n",
       "      <td>166.0</td>\n",
       "      <td>...</td>\n",
       "      <td>NaN</td>\n",
       "      <td>NaN</td>\n",
       "      <td>NaN</td>\n",
       "      <td>NaN</td>\n",
       "      <td>NaN</td>\n",
       "      <td>NaN</td>\n",
       "      <td>NaN</td>\n",
       "      <td>NaN</td>\n",
       "      <td>NaN</td>\n",
       "      <td>NaN</td>\n",
       "    </tr>\n",
       "    <tr>\n",
       "      <th>3</th>\n",
       "      <td>2987003</td>\n",
       "      <td>0</td>\n",
       "      <td>86499</td>\n",
       "      <td>50.0</td>\n",
       "      <td>W</td>\n",
       "      <td>18132</td>\n",
       "      <td>567.0</td>\n",
       "      <td>150.0</td>\n",
       "      <td>mastercard</td>\n",
       "      <td>117.0</td>\n",
       "      <td>...</td>\n",
       "      <td>NaN</td>\n",
       "      <td>NaN</td>\n",
       "      <td>NaN</td>\n",
       "      <td>NaN</td>\n",
       "      <td>NaN</td>\n",
       "      <td>NaN</td>\n",
       "      <td>NaN</td>\n",
       "      <td>NaN</td>\n",
       "      <td>NaN</td>\n",
       "      <td>NaN</td>\n",
       "    </tr>\n",
       "    <tr>\n",
       "      <th>4</th>\n",
       "      <td>2987004</td>\n",
       "      <td>0</td>\n",
       "      <td>86506</td>\n",
       "      <td>50.0</td>\n",
       "      <td>H</td>\n",
       "      <td>4497</td>\n",
       "      <td>514.0</td>\n",
       "      <td>150.0</td>\n",
       "      <td>mastercard</td>\n",
       "      <td>102.0</td>\n",
       "      <td>...</td>\n",
       "      <td>0.0</td>\n",
       "      <td>0.0</td>\n",
       "      <td>0.0</td>\n",
       "      <td>0.0</td>\n",
       "      <td>0.0</td>\n",
       "      <td>0.0</td>\n",
       "      <td>0.0</td>\n",
       "      <td>0.0</td>\n",
       "      <td>0.0</td>\n",
       "      <td>0.0</td>\n",
       "    </tr>\n",
       "  </tbody>\n",
       "</table>\n",
       "<p>5 rows × 394 columns</p>\n",
       "</div>"
      ],
      "text/plain": [
       "   TransactionID  isFraud  TransactionDT  TransactionAmt ProductCD  card1  \\\n",
       "0        2987000        0          86400            68.5         W  13926   \n",
       "1        2987001        0          86401            29.0         W   2755   \n",
       "2        2987002        0          86469            59.0         W   4663   \n",
       "3        2987003        0          86499            50.0         W  18132   \n",
       "4        2987004        0          86506            50.0         H   4497   \n",
       "\n",
       "   card2  card3       card4  card5  ... V330  V331  V332  V333  V334 V335  \\\n",
       "0    NaN  150.0    discover  142.0  ...  NaN   NaN   NaN   NaN   NaN  NaN   \n",
       "1  404.0  150.0  mastercard  102.0  ...  NaN   NaN   NaN   NaN   NaN  NaN   \n",
       "2  490.0  150.0        visa  166.0  ...  NaN   NaN   NaN   NaN   NaN  NaN   \n",
       "3  567.0  150.0  mastercard  117.0  ...  NaN   NaN   NaN   NaN   NaN  NaN   \n",
       "4  514.0  150.0  mastercard  102.0  ...  0.0   0.0   0.0   0.0   0.0  0.0   \n",
       "\n",
       "  V336  V337  V338  V339  \n",
       "0  NaN   NaN   NaN   NaN  \n",
       "1  NaN   NaN   NaN   NaN  \n",
       "2  NaN   NaN   NaN   NaN  \n",
       "3  NaN   NaN   NaN   NaN  \n",
       "4  0.0   0.0   0.0   0.0  \n",
       "\n",
       "[5 rows x 394 columns]"
      ]
     },
     "execution_count": 2,
     "metadata": {},
     "output_type": "execute_result"
    }
   ],
   "source": [
    "train_df = pd.read_csv('assignment_train.csv')\n",
    "train_df.head(n=5)"
   ]
  },
  {
   "cell_type": "code",
   "execution_count": 3,
   "metadata": {},
   "outputs": [
    {
     "data": {
      "text/html": [
       "<div>\n",
       "<style scoped>\n",
       "    .dataframe tbody tr th:only-of-type {\n",
       "        vertical-align: middle;\n",
       "    }\n",
       "\n",
       "    .dataframe tbody tr th {\n",
       "        vertical-align: top;\n",
       "    }\n",
       "\n",
       "    .dataframe thead th {\n",
       "        text-align: right;\n",
       "    }\n",
       "</style>\n",
       "<table border=\"1\" class=\"dataframe\">\n",
       "  <thead>\n",
       "    <tr style=\"text-align: right;\">\n",
       "      <th></th>\n",
       "      <th>TransactionID</th>\n",
       "      <th>isFraud</th>\n",
       "      <th>TransactionDT</th>\n",
       "      <th>TransactionAmt</th>\n",
       "      <th>ProductCD</th>\n",
       "      <th>card1</th>\n",
       "      <th>card2</th>\n",
       "      <th>card3</th>\n",
       "      <th>card4</th>\n",
       "      <th>card5</th>\n",
       "      <th>...</th>\n",
       "      <th>V330</th>\n",
       "      <th>V331</th>\n",
       "      <th>V332</th>\n",
       "      <th>V333</th>\n",
       "      <th>V334</th>\n",
       "      <th>V335</th>\n",
       "      <th>V336</th>\n",
       "      <th>V337</th>\n",
       "      <th>V338</th>\n",
       "      <th>V339</th>\n",
       "    </tr>\n",
       "  </thead>\n",
       "  <tbody>\n",
       "    <tr>\n",
       "      <th>0</th>\n",
       "      <td>3062000</td>\n",
       "      <td>0</td>\n",
       "      <td>1643492</td>\n",
       "      <td>41.0</td>\n",
       "      <td>W</td>\n",
       "      <td>9500</td>\n",
       "      <td>321.0</td>\n",
       "      <td>150.0</td>\n",
       "      <td>visa</td>\n",
       "      <td>226.0</td>\n",
       "      <td>...</td>\n",
       "      <td>NaN</td>\n",
       "      <td>NaN</td>\n",
       "      <td>NaN</td>\n",
       "      <td>NaN</td>\n",
       "      <td>NaN</td>\n",
       "      <td>NaN</td>\n",
       "      <td>NaN</td>\n",
       "      <td>NaN</td>\n",
       "      <td>NaN</td>\n",
       "      <td>NaN</td>\n",
       "    </tr>\n",
       "    <tr>\n",
       "      <th>1</th>\n",
       "      <td>3062001</td>\n",
       "      <td>1</td>\n",
       "      <td>1643513</td>\n",
       "      <td>161.0</td>\n",
       "      <td>W</td>\n",
       "      <td>6668</td>\n",
       "      <td>390.0</td>\n",
       "      <td>150.0</td>\n",
       "      <td>mastercard</td>\n",
       "      <td>224.0</td>\n",
       "      <td>...</td>\n",
       "      <td>NaN</td>\n",
       "      <td>NaN</td>\n",
       "      <td>NaN</td>\n",
       "      <td>NaN</td>\n",
       "      <td>NaN</td>\n",
       "      <td>NaN</td>\n",
       "      <td>NaN</td>\n",
       "      <td>NaN</td>\n",
       "      <td>NaN</td>\n",
       "      <td>NaN</td>\n",
       "    </tr>\n",
       "    <tr>\n",
       "      <th>2</th>\n",
       "      <td>3062002</td>\n",
       "      <td>0</td>\n",
       "      <td>1643519</td>\n",
       "      <td>49.0</td>\n",
       "      <td>W</td>\n",
       "      <td>14935</td>\n",
       "      <td>543.0</td>\n",
       "      <td>150.0</td>\n",
       "      <td>mastercard</td>\n",
       "      <td>224.0</td>\n",
       "      <td>...</td>\n",
       "      <td>NaN</td>\n",
       "      <td>NaN</td>\n",
       "      <td>NaN</td>\n",
       "      <td>NaN</td>\n",
       "      <td>NaN</td>\n",
       "      <td>NaN</td>\n",
       "      <td>NaN</td>\n",
       "      <td>NaN</td>\n",
       "      <td>NaN</td>\n",
       "      <td>NaN</td>\n",
       "    </tr>\n",
       "    <tr>\n",
       "      <th>3</th>\n",
       "      <td>3062003</td>\n",
       "      <td>0</td>\n",
       "      <td>1643519</td>\n",
       "      <td>100.0</td>\n",
       "      <td>R</td>\n",
       "      <td>8394</td>\n",
       "      <td>490.0</td>\n",
       "      <td>150.0</td>\n",
       "      <td>visa</td>\n",
       "      <td>226.0</td>\n",
       "      <td>...</td>\n",
       "      <td>0.0</td>\n",
       "      <td>0.0</td>\n",
       "      <td>0.0</td>\n",
       "      <td>0.0</td>\n",
       "      <td>0.0</td>\n",
       "      <td>0.0</td>\n",
       "      <td>0.0</td>\n",
       "      <td>0.0</td>\n",
       "      <td>0.0</td>\n",
       "      <td>0.0</td>\n",
       "    </tr>\n",
       "    <tr>\n",
       "      <th>4</th>\n",
       "      <td>3062004</td>\n",
       "      <td>0</td>\n",
       "      <td>1643529</td>\n",
       "      <td>97.0</td>\n",
       "      <td>W</td>\n",
       "      <td>9500</td>\n",
       "      <td>321.0</td>\n",
       "      <td>150.0</td>\n",
       "      <td>visa</td>\n",
       "      <td>226.0</td>\n",
       "      <td>...</td>\n",
       "      <td>NaN</td>\n",
       "      <td>NaN</td>\n",
       "      <td>NaN</td>\n",
       "      <td>NaN</td>\n",
       "      <td>NaN</td>\n",
       "      <td>NaN</td>\n",
       "      <td>NaN</td>\n",
       "      <td>NaN</td>\n",
       "      <td>NaN</td>\n",
       "      <td>NaN</td>\n",
       "    </tr>\n",
       "  </tbody>\n",
       "</table>\n",
       "<p>5 rows × 394 columns</p>\n",
       "</div>"
      ],
      "text/plain": [
       "   TransactionID  isFraud  TransactionDT  TransactionAmt ProductCD  card1  \\\n",
       "0        3062000        0        1643492            41.0         W   9500   \n",
       "1        3062001        1        1643513           161.0         W   6668   \n",
       "2        3062002        0        1643519            49.0         W  14935   \n",
       "3        3062003        0        1643519           100.0         R   8394   \n",
       "4        3062004        0        1643529            97.0         W   9500   \n",
       "\n",
       "   card2  card3       card4  card5  ... V330  V331  V332  V333  V334 V335  \\\n",
       "0  321.0  150.0        visa  226.0  ...  NaN   NaN   NaN   NaN   NaN  NaN   \n",
       "1  390.0  150.0  mastercard  224.0  ...  NaN   NaN   NaN   NaN   NaN  NaN   \n",
       "2  543.0  150.0  mastercard  224.0  ...  NaN   NaN   NaN   NaN   NaN  NaN   \n",
       "3  490.0  150.0        visa  226.0  ...  0.0   0.0   0.0   0.0   0.0  0.0   \n",
       "4  321.0  150.0        visa  226.0  ...  NaN   NaN   NaN   NaN   NaN  NaN   \n",
       "\n",
       "  V336  V337  V338  V339  \n",
       "0  NaN   NaN   NaN   NaN  \n",
       "1  NaN   NaN   NaN   NaN  \n",
       "2  NaN   NaN   NaN   NaN  \n",
       "3  0.0   0.0   0.0   0.0  \n",
       "4  NaN   NaN   NaN   NaN  \n",
       "\n",
       "[5 rows x 394 columns]"
      ]
     },
     "execution_count": 3,
     "metadata": {},
     "output_type": "execute_result"
    }
   ],
   "source": [
    "test_df = pd.read_csv('assignment_test.csv')\n",
    "test_df.head(n=5)"
   ]
  },
  {
   "cell_type": "markdown",
   "metadata": {},
   "source": [
    "Размерности датафреймов:"
   ]
  },
  {
   "cell_type": "code",
   "execution_count": 4,
   "metadata": {},
   "outputs": [
    {
     "name": "stdout",
     "output_type": "stream",
     "text": [
      "train_df.shape = 50001 rows, 394 cols\n",
      "test_df.shape = 75000 rows, 394 cols\n"
     ]
    }
   ],
   "source": [
    "print(\"train_df.shape = {} rows, {} cols\".format(*train_df.shape))\n",
    "print(\"test_df.shape = {} rows, {} cols\".format(*test_df.shape))"
   ]
  },
  {
   "cell_type": "markdown",
   "metadata": {},
   "source": [
    "Узнаем типы признаков:"
   ]
  },
  {
   "cell_type": "code",
   "execution_count": 5,
   "metadata": {},
   "outputs": [
    {
     "name": "stdout",
     "output_type": "stream",
     "text": [
      "<class 'pandas.core.frame.DataFrame'>\n",
      "RangeIndex: 50001 entries, 0 to 50000\n",
      "Columns: 394 entries, TransactionID to V339\n",
      "dtypes: float64(376), int64(4), object(14)\n",
      "memory usage: 150.3+ MB\n"
     ]
    }
   ],
   "source": [
    "train_df.info()"
   ]
  },
  {
   "cell_type": "code",
   "execution_count": 6,
   "metadata": {},
   "outputs": [
    {
     "name": "stdout",
     "output_type": "stream",
     "text": [
      "<class 'pandas.core.frame.DataFrame'>\n",
      "RangeIndex: 75000 entries, 0 to 74999\n",
      "Columns: 394 entries, TransactionID to V339\n",
      "dtypes: float64(376), int64(4), object(14)\n",
      "memory usage: 225.4+ MB\n"
     ]
    }
   ],
   "source": [
    "test_df.info()"
   ]
  },
  {
   "cell_type": "markdown",
   "metadata": {},
   "source": [
    "Базовый анализ целевого признака (мошенничество ли?):"
   ]
  },
  {
   "cell_type": "code",
   "execution_count": 7,
   "metadata": {},
   "outputs": [],
   "source": [
    "target_column = 'isFraud'"
   ]
  },
  {
   "cell_type": "code",
   "execution_count": 8,
   "metadata": {},
   "outputs": [
    {
     "data": {
      "text/plain": [
       "0    0.972861\n",
       "1    0.027139\n",
       "Name: isFraud, dtype: float64"
      ]
     },
     "execution_count": 8,
     "metadata": {},
     "output_type": "execute_result"
    }
   ],
   "source": [
    "train_df[target_column].value_counts(normalize=True)"
   ]
  },
  {
   "cell_type": "code",
   "execution_count": 9,
   "metadata": {},
   "outputs": [],
   "source": [
    "numeric_features = train_df.select_dtypes(exclude='object').columns\n",
    "\n",
    "X = train_df[numeric_features].drop(columns=['TransactionID', 'isFraud', 'TransactionDT']).fillna(-9999)\n",
    "y = train_df[target_column]"
   ]
  },
  {
   "cell_type": "code",
   "execution_count": 10,
   "metadata": {},
   "outputs": [],
   "source": [
    "X_test = test_df[numeric_features].drop(columns=['TransactionID', 'isFraud', 'TransactionDT']).fillna(-9999)\n",
    "y_test = test_df[target_column]"
   ]
  },
  {
   "cell_type": "markdown",
   "metadata": {},
   "source": [
    "В прошлом задании лучше всего показала себя GroupKFold:"
   ]
  },
  {
   "cell_type": "code",
   "execution_count": 11,
   "metadata": {},
   "outputs": [],
   "source": [
    "def create_bootstrap_samples(data: np.array, n_samples: int = 1000) -> np.array:\n",
    "    \"\"\"\n",
    "    Создание бутстреп-выборок.\n",
    "\n",
    "    Parameters\n",
    "    ----------\n",
    "    data: np.array\n",
    "        Исходная выборка, которая будет использоваться для\n",
    "        создания бутстреп выборок.\n",
    "\n",
    "    n_samples: int, optional, default = 1000\n",
    "        Количество создаваемых бутстреп выборок.\n",
    "        Опциональный параметр, по умолчанию, равен 1000.\n",
    "\n",
    "    Returns\n",
    "    -------\n",
    "    bootstrap_idx: np.array\n",
    "        Матрица индексов, для создания бутстреп выборок.\n",
    "\n",
    "    \"\"\"\n",
    "    bootstrap_idx = np.random.randint(\n",
    "        low=0, high=len(data), size=(n_samples, len(data))\n",
    "    )\n",
    "    return bootstrap_idx\n",
    "\n",
    "\n",
    "def create_bootstrap_metrics(y_true: np.array,\n",
    "                             y_pred: np.array,\n",
    "                             metric: callable,\n",
    "                             n_samlpes: int = 1000) -> List[float]:\n",
    "    \"\"\"\n",
    "    Вычисление бутстреп оценок.\n",
    "\n",
    "    Parameters\n",
    "    ----------\n",
    "    y_true: np.array\n",
    "        Вектор целевой переменной.\n",
    "\n",
    "    y_pred: np.array\n",
    "        Вектор прогнозов.\n",
    "\n",
    "    metric: callable\n",
    "        Функция для вычисления метрики.\n",
    "        Функция должна принимать 2 аргумента: y_true, y_pred.\n",
    "\n",
    "    n_samples: int, optional, default = 1000\n",
    "        Количество создаваемых бутстреп выборок.\n",
    "        Опциональный параметр, по умолчанию, равен 1000.\n",
    "\n",
    "    Returns\n",
    "    -------\n",
    "    bootstrap_metrics: List[float]\n",
    "        Список со значениями метрики качества на каждой бустреп выборке.\n",
    "\n",
    "    \"\"\"\n",
    "    scores = []\n",
    "\n",
    "    if isinstance(y_true, pd.Series):\n",
    "        y_true = y_true.values\n",
    "\n",
    "    bootstrap_idx = create_bootstrap_samples(y_true)\n",
    "    for idx in bootstrap_idx:\n",
    "        y_true_bootstrap = y_true[idx]\n",
    "        y_pred_bootstrap = y_pred[idx]\n",
    "\n",
    "        score = metric(y_true_bootstrap, y_pred_bootstrap)\n",
    "        scores.append(score)\n",
    "\n",
    "    return scores\n",
    "\n",
    "\n",
    "def calculate_confidence_interval(scores: list, conf_interval: float = 0.95) -> Tuple[float]:\n",
    "    \"\"\"\n",
    "    Вычисление доверительного интервала.\n",
    "\n",
    "    Parameters\n",
    "    ----------\n",
    "    scores: List[float / int]\n",
    "        Список с оценками изучаемой величины.\n",
    "\n",
    "    conf_interval: float, optional, default = 0.95\n",
    "        Уровень доверия для построения интервала.\n",
    "        Опциональный параметр, по умолчанию, равен 0.95.\n",
    "\n",
    "    Returns\n",
    "    -------\n",
    "    conf_interval: Tuple[float]\n",
    "        Кортеж с границами доверительного интервала.\n",
    "\n",
    "    \"\"\"\n",
    "    left_bound = np.percentile(\n",
    "        scores, ((1 - conf_interval) / 2) * 100\n",
    "    )\n",
    "    right_bound = np.percentile(\n",
    "        scores, (conf_interval + ((1 - conf_interval) / 2)) * 100\n",
    "    )\n",
    "\n",
    "    return left_bound, right_bound"
   ]
  },
  {
   "cell_type": "code",
   "execution_count": 12,
   "metadata": {},
   "outputs": [],
   "source": [
    "def make_cross_validation(X: pd.DataFrame,\n",
    "                          y: pd.Series,\n",
    "                          estimator: object,\n",
    "                          metric: callable,\n",
    "                          proba: bool,\n",
    "                          cv_strategy: object,\n",
    "                          use_groups: bool = False,\n",
    "                          groups: pd.Series = None):\n",
    "    \"\"\"\n",
    "    Кросс-валидация.\n",
    "\n",
    "    Parameters\n",
    "    ----------\n",
    "    X: pd.DataFrame\n",
    "        Матрица признаков.\n",
    "\n",
    "    y: pd.Series\n",
    "        Вектор целевой переменной.\n",
    "\n",
    "    estimator: callable\n",
    "        Объект модели для обучения.\n",
    "\n",
    "    metric: callable\n",
    "        Метрика для оценки качества решения.\n",
    "        Ожидается, что на вход будет передана функция,\n",
    "        которая принимает 2 аргумента: y_true, y_pred.\n",
    "\n",
    "    proba: bool\n",
    "        Флаг - расчитывать ли вероятностные\n",
    "        предсказания для метрики.\n",
    "\n",
    "    cv_strategy: cross-validation generator\n",
    "        Объект для описания стратегии кросс-валидации.\n",
    "        Ожидается, что на вход будет передан объект типа\n",
    "        KFold или StratifiedKFold.\n",
    "\n",
    "    Returns\n",
    "    -------\n",
    "    oof_score: float\n",
    "        Значение метрики качества на OOF-прогнозах.\n",
    "\n",
    "    fold_train_scores: List[float]\n",
    "        Значение метрики качества на каждом обучающем датасете кросс-валидации.\n",
    "\n",
    "    fold_valid_scores: List[float]\n",
    "        Значение метрики качества на каждом валидационном датасете кросс-валидации.\n",
    "\n",
    "    oof_predictions: np.array\n",
    "        Прогнозы на OOF.\n",
    "\n",
    "    \"\"\"\n",
    "    estimators, fold_train_scores, fold_valid_scores = [], [], []\n",
    "    oof_predictions = np.zeros(X.shape[0])\n",
    "    \n",
    "    splits = cv_strategy.split(X, y, groups) if use_groups else cv_strategy.split(X, y)\n",
    "    for fold_number, (train_idx, valid_idx) in enumerate(splits):\n",
    "        x_train, x_valid = X[X.index.isin(train_idx)], X[X.index.isin(valid_idx)]\n",
    "        y_train, y_valid = y[y.index.isin(train_idx)], y[y.index.isin(valid_idx)]\n",
    "\n",
    "        estimator.fit(x_train, y_train)\n",
    "        \n",
    "        if proba:\n",
    "            y_train_pred = estimator.predict_proba(x_train)[:, 1]\n",
    "            y_valid_pred = estimator.predict_proba(x_valid)[:, 1]\n",
    "        else:\n",
    "            y_train_pred = estimator.predict(x_train)\n",
    "            y_valid_pred = estimator.predict(x_valid)\n",
    "        \n",
    "        fold_train_scores.append(metric(y_train, y_train_pred))\n",
    "        fold_valid_scores.append(metric(y_valid, y_valid_pred))\n",
    "        oof_predictions[valid_idx] = y_valid_pred\n",
    "        \n",
    "        np.random.seed(42)\n",
    "        scores = create_bootstrap_metrics(y_valid, y_valid_pred, metric)\n",
    "        confidence_interval = [round(bound, 3) for bound in calculate_confidence_interval(scores)]\n",
    "\n",
    "        msg = (\n",
    "            f\"Fold: {fold_number+1}, train-observations = {len(train_idx)}, \"\n",
    "            f\"valid-observations = {len(valid_idx)}\\n\"\n",
    "            f\"train-score = {round(fold_train_scores[fold_number], 4)}, \"\n",
    "            f\"valid-score = {round(fold_valid_scores[fold_number], 4)}\" \n",
    "        )\n",
    "        print(msg)\n",
    "        print(f'(confidence interval: {confidence_interval})')\n",
    "        print(\"=\"*69)\n",
    "        \n",
    "        estimator = estimator.copy()\n",
    "        estimators.append(estimator)\n",
    "\n",
    "    oof_score = metric(y, oof_predictions)\n",
    "    print(f\"CV-results train: {round(np.mean(fold_train_scores), 4)} +/- {round(np.std(fold_train_scores), 3)}\")\n",
    "    print(f\"CV-results valid: {round(np.mean(fold_valid_scores), 4)} +/- {round(np.std(fold_valid_scores), 3)}\")\n",
    "    print(f\"OOF-score = {round(oof_score, 4)}\")\n",
    "\n",
    "    return estimators, oof_score, fold_train_scores, fold_valid_scores, oof_predictions"
   ]
  },
  {
   "cell_type": "code",
   "execution_count": 13,
   "metadata": {},
   "outputs": [],
   "source": [
    "import hashlib\n",
    "\n",
    "def card_info_hash(x):\n",
    "    s = (str(x['card1'])+\n",
    "         str(x['card2'])+\n",
    "         str(x['card3'])+\n",
    "         str(x['card4'])+\n",
    "         str(x['card5'])+\n",
    "         str(x['card6'])+\n",
    "         x[\"ProductCD\"])\n",
    "\n",
    "    h = hashlib.sha256(s.encode('utf-8')).hexdigest()[0:15]\n",
    "    return h"
   ]
  },
  {
   "cell_type": "code",
   "execution_count": 14,
   "metadata": {},
   "outputs": [],
   "source": [
    "user_features = [f'card{i}' for i in range(1, 6+1)] + ['ProductCD']\n",
    "\n",
    "train_uids = train_df[user_features].apply(lambda x: card_info_hash(x), axis=1)"
   ]
  },
  {
   "cell_type": "code",
   "execution_count": 15,
   "metadata": {},
   "outputs": [
    {
     "name": "stdout",
     "output_type": "stream",
     "text": [
      "Fold: 1, train-observations = 40000, valid-observations = 10001\n",
      "train-score = 0.9563, valid-score = 0.8187\n",
      "(confidence interval: [0.785, 0.85])\n",
      "=====================================================================\n",
      "Fold: 2, train-observations = 40001, valid-observations = 10000\n",
      "train-score = 0.9492, valid-score = 0.8384\n",
      "(confidence interval: [0.814, 0.865])\n",
      "=====================================================================\n",
      "Fold: 3, train-observations = 40001, valid-observations = 10000\n",
      "train-score = 0.9483, valid-score = 0.7511\n",
      "(confidence interval: [0.714, 0.787])\n",
      "=====================================================================\n",
      "Fold: 4, train-observations = 40001, valid-observations = 10000\n",
      "train-score = 0.9451, valid-score = 0.8472\n",
      "(confidence interval: [0.823, 0.873])\n",
      "=====================================================================\n",
      "Fold: 5, train-observations = 40001, valid-observations = 10000\n",
      "train-score = 0.9484, valid-score = 0.8784\n",
      "(confidence interval: [0.85, 0.903])\n",
      "=====================================================================\n",
      "CV-results train: 0.9495 +/- 0.004\n",
      "CV-results valid: 0.8267 +/- 0.042\n",
      "OOF-score = 0.8262\n"
     ]
    }
   ],
   "source": [
    "gcv_strategy = GroupKFold(n_splits=5)\n",
    "catb = CatBoostClassifier(eval_metric='AUC', n_estimators=130, silent=True, random_state=42)\n",
    "\n",
    "estimators, oof_score, fold_train_scores, fold_valid_scores, oof_predictions = make_cross_validation(\n",
    "    X, y, catb, metric=roc_auc_score, proba=True, cv_strategy=gcv_strategy, use_groups=True, groups=train_uids\n",
    ")"
   ]
  },
  {
   "cell_type": "markdown",
   "metadata": {},
   "source": [
    "Метрика на тестовых данных попадает в доверительный интервал, поэтому этот способ валидации самый лучший из рассмотренных:"
   ]
  },
  {
   "cell_type": "code",
   "execution_count": 16,
   "metadata": {},
   "outputs": [
    {
     "name": "stdout",
     "output_type": "stream",
     "text": [
      "Test-score:  0.8507\n"
     ]
    }
   ],
   "source": [
    "test_score = roc_auc_score(y_test, estimators[4].predict_proba(X_test)[:, 1])\n",
    "\n",
    "print(f'Test-score:  {test_score:.4f}')"
   ]
  },
  {
   "cell_type": "markdown",
   "metadata": {},
   "source": [
    "Итоги этой валидации будут бейзлайном для остальных заданий."
   ]
  },
  {
   "cell_type": "markdown",
   "metadata": {},
   "source": [
    "## Задание 1\n",
    "\n",
    "Признак TransactionDT - это смещение в секундах относительно базовой даты. Базовая дата - 2017-12-01, преобразовать признак TransactionDT в datetime, прибавив к базовой дате исходное значение признака. Из полученного признака выделить год, месяц, день недели, час, день."
   ]
  },
  {
   "cell_type": "code",
   "execution_count": 17,
   "metadata": {},
   "outputs": [
    {
     "data": {
      "text/plain": [
       "0   2017-12-02 00:00:00\n",
       "1   2017-12-02 00:00:01\n",
       "2   2017-12-02 00:01:09\n",
       "3   2017-12-02 00:01:39\n",
       "4   2017-12-02 00:01:46\n",
       "Name: TransactionDT, dtype: datetime64[ns]"
      ]
     },
     "execution_count": 17,
     "metadata": {},
     "output_type": "execute_result"
    }
   ],
   "source": [
    "train_transactiondt = \\\n",
    "    pd.to_datetime(train_df['TransactionDT'], unit='s') - pd.to_datetime('1970, 1, 1') + pd.to_datetime('2017, 12, 1')\n",
    "\n",
    "train_transactiondt.head(n=5)"
   ]
  },
  {
   "cell_type": "code",
   "execution_count": 18,
   "metadata": {},
   "outputs": [
    {
     "data": {
      "text/plain": [
       "0   2017-12-20 00:31:32\n",
       "1   2017-12-20 00:31:53\n",
       "2   2017-12-20 00:31:59\n",
       "3   2017-12-20 00:31:59\n",
       "4   2017-12-20 00:32:09\n",
       "Name: TransactionDT, dtype: datetime64[ns]"
      ]
     },
     "execution_count": 18,
     "metadata": {},
     "output_type": "execute_result"
    }
   ],
   "source": [
    "test_transactiondt = \\\n",
    "    pd.to_datetime(test_df['TransactionDT'], unit='s') - pd.to_datetime('1970, 1, 1') + pd.to_datetime('2017, 12, 1')\n",
    "\n",
    "test_transactiondt.head(n=5)"
   ]
  },
  {
   "cell_type": "code",
   "execution_count": 19,
   "metadata": {},
   "outputs": [],
   "source": [
    "def make_time_features(time_series):\n",
    "    L = ['year', 'month', 'day', 'hour', 'dayofweek']    \n",
    "    date_gen = (getattr(time_series.dt, i).rename(i) for i in L)\n",
    "    time_features = pd.concat(date_gen, axis=1)\n",
    "    return time_features"
   ]
  },
  {
   "cell_type": "code",
   "execution_count": 20,
   "metadata": {},
   "outputs": [
    {
     "data": {
      "text/html": [
       "<div>\n",
       "<style scoped>\n",
       "    .dataframe tbody tr th:only-of-type {\n",
       "        vertical-align: middle;\n",
       "    }\n",
       "\n",
       "    .dataframe tbody tr th {\n",
       "        vertical-align: top;\n",
       "    }\n",
       "\n",
       "    .dataframe thead th {\n",
       "        text-align: right;\n",
       "    }\n",
       "</style>\n",
       "<table border=\"1\" class=\"dataframe\">\n",
       "  <thead>\n",
       "    <tr style=\"text-align: right;\">\n",
       "      <th></th>\n",
       "      <th>year</th>\n",
       "      <th>month</th>\n",
       "      <th>day</th>\n",
       "      <th>hour</th>\n",
       "      <th>dayofweek</th>\n",
       "    </tr>\n",
       "  </thead>\n",
       "  <tbody>\n",
       "    <tr>\n",
       "      <th>0</th>\n",
       "      <td>2017</td>\n",
       "      <td>12</td>\n",
       "      <td>2</td>\n",
       "      <td>0</td>\n",
       "      <td>5</td>\n",
       "    </tr>\n",
       "    <tr>\n",
       "      <th>1</th>\n",
       "      <td>2017</td>\n",
       "      <td>12</td>\n",
       "      <td>2</td>\n",
       "      <td>0</td>\n",
       "      <td>5</td>\n",
       "    </tr>\n",
       "    <tr>\n",
       "      <th>2</th>\n",
       "      <td>2017</td>\n",
       "      <td>12</td>\n",
       "      <td>2</td>\n",
       "      <td>0</td>\n",
       "      <td>5</td>\n",
       "    </tr>\n",
       "    <tr>\n",
       "      <th>3</th>\n",
       "      <td>2017</td>\n",
       "      <td>12</td>\n",
       "      <td>2</td>\n",
       "      <td>0</td>\n",
       "      <td>5</td>\n",
       "    </tr>\n",
       "    <tr>\n",
       "      <th>4</th>\n",
       "      <td>2017</td>\n",
       "      <td>12</td>\n",
       "      <td>2</td>\n",
       "      <td>0</td>\n",
       "      <td>5</td>\n",
       "    </tr>\n",
       "  </tbody>\n",
       "</table>\n",
       "</div>"
      ],
      "text/plain": [
       "   year  month  day  hour  dayofweek\n",
       "0  2017     12    2     0          5\n",
       "1  2017     12    2     0          5\n",
       "2  2017     12    2     0          5\n",
       "3  2017     12    2     0          5\n",
       "4  2017     12    2     0          5"
      ]
     },
     "execution_count": 20,
     "metadata": {},
     "output_type": "execute_result"
    }
   ],
   "source": [
    "train_time_features = make_time_features(train_transactiondt)\n",
    "train_time_features.head(n=5)"
   ]
  },
  {
   "cell_type": "code",
   "execution_count": 21,
   "metadata": {},
   "outputs": [
    {
     "data": {
      "text/html": [
       "<div>\n",
       "<style scoped>\n",
       "    .dataframe tbody tr th:only-of-type {\n",
       "        vertical-align: middle;\n",
       "    }\n",
       "\n",
       "    .dataframe tbody tr th {\n",
       "        vertical-align: top;\n",
       "    }\n",
       "\n",
       "    .dataframe thead th {\n",
       "        text-align: right;\n",
       "    }\n",
       "</style>\n",
       "<table border=\"1\" class=\"dataframe\">\n",
       "  <thead>\n",
       "    <tr style=\"text-align: right;\">\n",
       "      <th></th>\n",
       "      <th>year</th>\n",
       "      <th>month</th>\n",
       "      <th>day</th>\n",
       "      <th>hour</th>\n",
       "      <th>dayofweek</th>\n",
       "    </tr>\n",
       "  </thead>\n",
       "  <tbody>\n",
       "    <tr>\n",
       "      <th>0</th>\n",
       "      <td>2017</td>\n",
       "      <td>12</td>\n",
       "      <td>20</td>\n",
       "      <td>0</td>\n",
       "      <td>2</td>\n",
       "    </tr>\n",
       "    <tr>\n",
       "      <th>1</th>\n",
       "      <td>2017</td>\n",
       "      <td>12</td>\n",
       "      <td>20</td>\n",
       "      <td>0</td>\n",
       "      <td>2</td>\n",
       "    </tr>\n",
       "    <tr>\n",
       "      <th>2</th>\n",
       "      <td>2017</td>\n",
       "      <td>12</td>\n",
       "      <td>20</td>\n",
       "      <td>0</td>\n",
       "      <td>2</td>\n",
       "    </tr>\n",
       "    <tr>\n",
       "      <th>3</th>\n",
       "      <td>2017</td>\n",
       "      <td>12</td>\n",
       "      <td>20</td>\n",
       "      <td>0</td>\n",
       "      <td>2</td>\n",
       "    </tr>\n",
       "    <tr>\n",
       "      <th>4</th>\n",
       "      <td>2017</td>\n",
       "      <td>12</td>\n",
       "      <td>20</td>\n",
       "      <td>0</td>\n",
       "      <td>2</td>\n",
       "    </tr>\n",
       "  </tbody>\n",
       "</table>\n",
       "</div>"
      ],
      "text/plain": [
       "   year  month  day  hour  dayofweek\n",
       "0  2017     12   20     0          2\n",
       "1  2017     12   20     0          2\n",
       "2  2017     12   20     0          2\n",
       "3  2017     12   20     0          2\n",
       "4  2017     12   20     0          2"
      ]
     },
     "execution_count": 21,
     "metadata": {},
     "output_type": "execute_result"
    }
   ],
   "source": [
    "test_time_features = make_time_features(test_transactiondt)\n",
    "test_time_features.head(n=5)"
   ]
  },
  {
   "cell_type": "code",
   "execution_count": 22,
   "metadata": {},
   "outputs": [],
   "source": [
    "X_tf = pd.concat([X, train_time_features], axis=1)\n",
    "X_test_tf = pd.concat([X_test, train_time_features], axis=1)"
   ]
  },
  {
   "cell_type": "markdown",
   "metadata": {},
   "source": [
    "Групповая кросс-валидация на данных с временными признаками:"
   ]
  },
  {
   "cell_type": "code",
   "execution_count": 23,
   "metadata": {},
   "outputs": [
    {
     "name": "stdout",
     "output_type": "stream",
     "text": [
      "Fold: 1, train-observations = 40000, valid-observations = 10001\n",
      "train-score = 0.9539, valid-score = 0.8288\n",
      "(confidence interval: [0.799, 0.86])\n",
      "=====================================================================\n",
      "Fold: 2, train-observations = 40001, valid-observations = 10000\n",
      "train-score = 0.9527, valid-score = 0.8231\n",
      "(confidence interval: [0.798, 0.851])\n",
      "=====================================================================\n",
      "Fold: 3, train-observations = 40001, valid-observations = 10000\n",
      "train-score = 0.946, valid-score = 0.7579\n",
      "(confidence interval: [0.719, 0.796])\n",
      "=====================================================================\n",
      "Fold: 4, train-observations = 40001, valid-observations = 10000\n",
      "train-score = 0.9538, valid-score = 0.8676\n",
      "(confidence interval: [0.844, 0.89])\n",
      "=====================================================================\n",
      "Fold: 5, train-observations = 40001, valid-observations = 10000\n",
      "train-score = 0.9488, valid-score = 0.8666\n",
      "(confidence interval: [0.839, 0.891])\n",
      "=====================================================================\n",
      "CV-results train: 0.951 +/- 0.003\n",
      "CV-results valid: 0.8288 +/- 0.04\n",
      "OOF-score = 0.8286\n"
     ]
    }
   ],
   "source": [
    "estimators, _, _, _, _ = make_cross_validation(\n",
    "    X_tf, y, catb, metric=roc_auc_score, proba=True, cv_strategy=gcv_strategy, use_groups=True, groups=train_uids\n",
    ")"
   ]
  },
  {
   "cell_type": "code",
   "execution_count": 24,
   "metadata": {},
   "outputs": [
    {
     "name": "stdout",
     "output_type": "stream",
     "text": [
      "Test-score:  0.8491\n"
     ]
    }
   ],
   "source": [
    "test_score = roc_auc_score(y_test, estimators[3].predict_proba(X_test_tf)[:, 1])\n",
    "\n",
    "print(f'Test-score:  {test_score:.4f}')"
   ]
  },
  {
   "cell_type": "markdown",
   "metadata": {},
   "source": [
    "Метрика немного выросла, но на отложенных данных для теста просела - добавление временных признаков дало некоторое переобучение модели."
   ]
  },
  {
   "cell_type": "markdown",
   "metadata": {},
   "source": [
    "## Задание 2\n",
    "\n",
    "Сгруппировать данные по card1 и посчитать среднюю сумму транзакции. Добавить в качестве признака в набор данных. Посчитать разницу между суммой транзакцией пользователя и средней суммой транзакции по данному типу card1. Построить отношение этих признаков. Повторить процедуру для всех card."
   ]
  },
  {
   "cell_type": "code",
   "execution_count": 25,
   "metadata": {},
   "outputs": [],
   "source": [
    "X_crd, X_test_crd = X.copy(), X_test.copy()"
   ]
  },
  {
   "cell_type": "markdown",
   "metadata": {},
   "source": [
    "Добавим временно признаки card1...card6:"
   ]
  },
  {
   "cell_type": "code",
   "execution_count": 26,
   "metadata": {},
   "outputs": [],
   "source": [
    "card_features = user_features[:-1]\n",
    "X_crd[card_features] = train_df[card_features]\n",
    "X_test_crd[card_features] = test_df[card_features]"
   ]
  },
  {
   "cell_type": "markdown",
   "metadata": {},
   "source": [
    "Сгруппируем их, вычислим среднюю сумму транзакции по каждому значению и добавим в выборки:"
   ]
  },
  {
   "cell_type": "code",
   "execution_count": 27,
   "metadata": {},
   "outputs": [
    {
     "name": "stderr",
     "output_type": "stream",
     "text": [
      "100%|████████████████████████████████████████████| 6/6 [00:03<00:00,  1.63it/s]\n"
     ]
    }
   ],
   "source": [
    "for feature in tqdm(card_features):\n",
    "    for df in (X_crd, X_test_crd):\n",
    "        df_gb = df[[feature, 'TransactionAmt']].groupby(by=[feature]).mean()\n",
    "        df_gb.columns = [feature+'_mean']\n",
    "        df_gb.reset_index(inplace=True)\n",
    "        df_gb = df[[feature]].merge(df_gb, on=feature, how='left')\n",
    "        df[feature+'_mean'] = df_gb[feature+'_mean'].values"
   ]
  },
  {
   "cell_type": "markdown",
   "metadata": {},
   "source": [
    "Добавим идентификаторы пользователей и также вычислим среднюю сумму транзакции для каждого из них:"
   ]
  },
  {
   "cell_type": "code",
   "execution_count": 28,
   "metadata": {},
   "outputs": [],
   "source": [
    "X_crd['UID'] = train_uids\n",
    "X_test_crd['UID'] = test_df[user_features].apply(lambda x: card_info_hash(x), axis=1)"
   ]
  },
  {
   "cell_type": "code",
   "execution_count": 29,
   "metadata": {},
   "outputs": [],
   "source": [
    "for df in (X_crd, X_test_crd):\n",
    "    df_gb = df[['UID', 'TransactionAmt']].groupby(by=['UID']).mean()\n",
    "    df_gb.columns = ['TransactionAmtMean']\n",
    "    df_gb.reset_index(inplace=True)\n",
    "    df_gb = df[['UID']].merge(df_gb, on='UID', how='left')\n",
    "    df['TransactionAmtMean'] = df_gb['TransactionAmtMean'].values"
   ]
  },
  {
   "cell_type": "markdown",
   "metadata": {},
   "source": [
    "Зависимости средней суммы транзакций по каждому пользователю от того же по признакам card1...card6 - на данныхдля обучения и теста:"
   ]
  },
  {
   "cell_type": "code",
   "execution_count": 30,
   "metadata": {},
   "outputs": [
    {
     "data": {
      "image/png": "[encoded data removed]",
      "text/plain": [
       "<Figure size 864x360 with 1 Axes>"
      ]
     },
     "metadata": {
      "needs_background": "light"
     },
     "output_type": "display_data"
    },
    {
     "data": {
      "image/png": "[encoded data removed]",
      "text/plain": [
       "<Figure size 864x360 with 1 Axes>"
      ]
     },
     "metadata": {
      "needs_background": "light"
     },
     "output_type": "display_data"
    }
   ],
   "source": [
    "for df, df_type in zip([X_crd, X_test_crd], ['Train', 'Test']):\n",
    "    plt.figure(figsize=(12, 5))\n",
    "    for feature in card_features:\n",
    "        plt.scatter(df['TransactionAmtMean'], df[feature+'_mean'], label=feature)\n",
    "    plt.title(df_type)\n",
    "    plt.xlabel('TransactionAmtMean')\n",
    "    plt.legend(loc='best')\n",
    "    plt.show()"
   ]
  },
  {
   "cell_type": "markdown",
   "metadata": {},
   "source": [
    " - явная линейная зависимость у признака catd1;\n",
    " - скорее константная зависимость у остальных (наиболее чётко выраженная у card6)."
   ]
  },
  {
   "cell_type": "markdown",
   "metadata": {},
   "source": [
    "Удалим временно добавленные признаки:"
   ]
  },
  {
   "cell_type": "code",
   "execution_count": 31,
   "metadata": {},
   "outputs": [],
   "source": [
    "X_crd = X_crd.drop(columns=['card4', 'card6', 'UID']).fillna(-9999)\n",
    "X_test_crd = X_test_crd.drop(columns=['card4', 'card6', 'UID']).fillna(-9999)"
   ]
  },
  {
   "cell_type": "markdown",
   "metadata": {},
   "source": [
    "Групповая кросс-валидация с добавленными средними суммами транзакций:"
   ]
  },
  {
   "cell_type": "code",
   "execution_count": 32,
   "metadata": {},
   "outputs": [
    {
     "name": "stdout",
     "output_type": "stream",
     "text": [
      "Fold: 1, train-observations = 40000, valid-observations = 10001\n",
      "train-score = 0.9565, valid-score = 0.8092\n",
      "(confidence interval: [0.776, 0.841])\n",
      "=====================================================================\n",
      "Fold: 2, train-observations = 40001, valid-observations = 10000\n",
      "train-score = 0.9491, valid-score = 0.8318\n",
      "(confidence interval: [0.804, 0.859])\n",
      "=====================================================================\n",
      "Fold: 3, train-observations = 40001, valid-observations = 10000\n",
      "train-score = 0.947, valid-score = 0.8722\n",
      "(confidence interval: [0.851, 0.894])\n",
      "=====================================================================\n",
      "Fold: 4, train-observations = 40001, valid-observations = 10000\n",
      "train-score = 0.955, valid-score = 0.8561\n",
      "(confidence interval: [0.83, 0.881])\n",
      "=====================================================================\n",
      "Fold: 5, train-observations = 40001, valid-observations = 10000\n",
      "train-score = 0.9558, valid-score = 0.8923\n",
      "(confidence interval: [0.865, 0.916])\n",
      "=====================================================================\n",
      "CV-results train: 0.9527 +/- 0.004\n",
      "CV-results valid: 0.8523 +/- 0.029\n",
      "OOF-score = 0.8508\n"
     ]
    }
   ],
   "source": [
    "estimators, _, _, _, _ = make_cross_validation(\n",
    "    X_crd, y, catb, metric=roc_auc_score, proba=True, cv_strategy=gcv_strategy, use_groups=True, groups=train_uids\n",
    ")"
   ]
  },
  {
   "cell_type": "code",
   "execution_count": 33,
   "metadata": {},
   "outputs": [
    {
     "name": "stdout",
     "output_type": "stream",
     "text": [
      "Test-score:  0.8504\n"
     ]
    }
   ],
   "source": [
    "test_score = roc_auc_score(y_test, estimators[2].predict_proba(X_test_crd)[:, 1])\n",
    "\n",
    "print(f'Test-score:  {test_score:.4f}')"
   ]
  },
  {
   "cell_type": "markdown",
   "metadata": {},
   "source": [
    "Метрика на кросс-валидации выросла, но на отложенных данных для теста не особо существенно уменьшилась (было 0.8507)."
   ]
  },
  {
   "cell_type": "markdown",
   "metadata": {},
   "source": [
    "## Задание 3\n",
    "\n",
    "Преобразовать признаки card_1 - card_6 с помощью Frequency Encoding;"
   ]
  },
  {
   "cell_type": "code",
   "execution_count": 34,
   "metadata": {},
   "outputs": [],
   "source": [
    "X_crd, X_test_crd = X.copy(), X_test.copy()"
   ]
  },
  {
   "cell_type": "code",
   "execution_count": 35,
   "metadata": {},
   "outputs": [],
   "source": [
    "X_crd[card_features] = train_df[card_features]\n",
    "X_test_crd[card_features] = test_df[card_features]"
   ]
  },
  {
   "cell_type": "markdown",
   "metadata": {},
   "source": [
    "Объединим признаки из данных для обучения и теста и произведём Frequency Encoding:"
   ]
  },
  {
   "cell_type": "code",
   "execution_count": 36,
   "metadata": {},
   "outputs": [],
   "source": [
    "X_adv = pd.concat(\n",
    "    [X_crd, X_test_crd],\n",
    "    axis=0\n",
    ")"
   ]
  },
  {
   "cell_type": "code",
   "execution_count": 37,
   "metadata": {},
   "outputs": [],
   "source": [
    "for feature in card_features:\n",
    "    freq_encoder = X_adv[feature].value_counts(normalize=True, dropna=False)\n",
    "    X_adv[feature] = X_adv[feature].map(freq_encoder)"
   ]
  },
  {
   "cell_type": "markdown",
   "metadata": {},
   "source": [
    "Разобьём данные обратно:"
   ]
  },
  {
   "cell_type": "code",
   "execution_count": 38,
   "metadata": {},
   "outputs": [],
   "source": [
    "X_crd = X_adv[0:50001]\n",
    "X_test_crd = X_adv[50001:]"
   ]
  },
  {
   "cell_type": "markdown",
   "metadata": {},
   "source": [
    "Групповая кросс-валидация с Frequency Encoding:"
   ]
  },
  {
   "cell_type": "code",
   "execution_count": 39,
   "metadata": {},
   "outputs": [
    {
     "name": "stdout",
     "output_type": "stream",
     "text": [
      "Fold: 1, train-observations = 40000, valid-observations = 10001\n",
      "train-score = 0.9541, valid-score = 0.8131\n",
      "(confidence interval: [0.78, 0.846])\n",
      "=====================================================================\n",
      "Fold: 2, train-observations = 40001, valid-observations = 10000\n",
      "train-score = 0.9554, valid-score = 0.8426\n",
      "(confidence interval: [0.818, 0.868])\n",
      "=====================================================================\n",
      "Fold: 3, train-observations = 40001, valid-observations = 10000\n",
      "train-score = 0.9442, valid-score = 0.8475\n",
      "(confidence interval: [0.821, 0.875])\n",
      "=====================================================================\n",
      "Fold: 4, train-observations = 40001, valid-observations = 10000\n",
      "train-score = 0.949, valid-score = 0.8524\n",
      "(confidence interval: [0.826, 0.878])\n",
      "=====================================================================\n",
      "Fold: 5, train-observations = 40001, valid-observations = 10000\n",
      "train-score = 0.9515, valid-score = 0.8515\n",
      "(confidence interval: [0.821, 0.88])\n",
      "=====================================================================\n",
      "CV-results train: 0.9508 +/- 0.004\n",
      "CV-results valid: 0.8414 +/- 0.015\n",
      "OOF-score = 0.8429\n"
     ]
    }
   ],
   "source": [
    "estimators, _, _, _, _ = make_cross_validation(\n",
    "    X_crd, y, catb, metric=roc_auc_score, proba=True, cv_strategy=gcv_strategy, use_groups=True, groups=train_uids\n",
    ")"
   ]
  },
  {
   "cell_type": "code",
   "execution_count": 40,
   "metadata": {},
   "outputs": [
    {
     "name": "stdout",
     "output_type": "stream",
     "text": [
      "Test-score:  0.8527\n"
     ]
    }
   ],
   "source": [
    "test_score = roc_auc_score(y_test, estimators[3].predict_proba(X_test_crd)[:, 1])\n",
    "\n",
    "print(f'Test-score:  {test_score:.4f}')"
   ]
  },
  {
   "cell_type": "markdown",
   "metadata": {},
   "source": [
    "Есть прирост метрики на кросс-валидации и на отложенны данных. Будем дальше работать с закодированными признаками."
   ]
  },
  {
   "cell_type": "markdown",
   "metadata": {},
   "source": [
    "## Задание 4\n",
    "\n",
    "Преобразовать признак TransactionAmt в логариф признака, выделить дробную часть и целую часть в отдельные признаки."
   ]
  },
  {
   "cell_type": "code",
   "execution_count": 41,
   "metadata": {},
   "outputs": [],
   "source": [
    "X_log, X_test_log = X_crd.copy(), X_test_crd.copy()"
   ]
  },
  {
   "cell_type": "code",
   "execution_count": 42,
   "metadata": {},
   "outputs": [],
   "source": [
    "for df in (X_log, X_test_log):\n",
    "    df['TransactionAmtInt'] = df['TransactionAmt'].apply(lambda x: int(np.log(x)))\n",
    "    df['TransactionAmtDec'] = df.apply(lambda x: np.log(x['TransactionAmt']) - x['TransactionAmtInt'], axis=1)"
   ]
  },
  {
   "cell_type": "code",
   "execution_count": 43,
   "metadata": {},
   "outputs": [
    {
     "data": {
      "text/html": [
       "<div>\n",
       "<style scoped>\n",
       "    .dataframe tbody tr th:only-of-type {\n",
       "        vertical-align: middle;\n",
       "    }\n",
       "\n",
       "    .dataframe tbody tr th {\n",
       "        vertical-align: top;\n",
       "    }\n",
       "\n",
       "    .dataframe thead th {\n",
       "        text-align: right;\n",
       "    }\n",
       "</style>\n",
       "<table border=\"1\" class=\"dataframe\">\n",
       "  <thead>\n",
       "    <tr style=\"text-align: right;\">\n",
       "      <th></th>\n",
       "      <th>TransactionAmt</th>\n",
       "      <th>TransactionAmtInt</th>\n",
       "      <th>TransactionAmtDec</th>\n",
       "    </tr>\n",
       "  </thead>\n",
       "  <tbody>\n",
       "    <tr>\n",
       "      <th>0</th>\n",
       "      <td>68.5</td>\n",
       "      <td>4</td>\n",
       "      <td>0.226834</td>\n",
       "    </tr>\n",
       "    <tr>\n",
       "      <th>1</th>\n",
       "      <td>29.0</td>\n",
       "      <td>3</td>\n",
       "      <td>0.367296</td>\n",
       "    </tr>\n",
       "    <tr>\n",
       "      <th>2</th>\n",
       "      <td>59.0</td>\n",
       "      <td>4</td>\n",
       "      <td>0.077537</td>\n",
       "    </tr>\n",
       "    <tr>\n",
       "      <th>3</th>\n",
       "      <td>50.0</td>\n",
       "      <td>3</td>\n",
       "      <td>0.912023</td>\n",
       "    </tr>\n",
       "    <tr>\n",
       "      <th>4</th>\n",
       "      <td>50.0</td>\n",
       "      <td>3</td>\n",
       "      <td>0.912023</td>\n",
       "    </tr>\n",
       "  </tbody>\n",
       "</table>\n",
       "</div>"
      ],
      "text/plain": [
       "   TransactionAmt  TransactionAmtInt  TransactionAmtDec\n",
       "0            68.5                  4           0.226834\n",
       "1            29.0                  3           0.367296\n",
       "2            59.0                  4           0.077537\n",
       "3            50.0                  3           0.912023\n",
       "4            50.0                  3           0.912023"
      ]
     },
     "execution_count": 43,
     "metadata": {},
     "output_type": "execute_result"
    }
   ],
   "source": [
    "X_log[['TransactionAmt', 'TransactionAmtInt', 'TransactionAmtDec']].head(n=5)"
   ]
  },
  {
   "cell_type": "markdown",
   "metadata": {},
   "source": [
    "Групповая кросс-валидация с логарифмированием и разбиением TransactionAmt:"
   ]
  },
  {
   "cell_type": "code",
   "execution_count": 44,
   "metadata": {},
   "outputs": [
    {
     "name": "stdout",
     "output_type": "stream",
     "text": [
      "Fold: 1, train-observations = 40000, valid-observations = 10001\n",
      "train-score = 0.955, valid-score = 0.8011\n",
      "(confidence interval: [0.769, 0.834])\n",
      "=====================================================================\n",
      "Fold: 2, train-observations = 40001, valid-observations = 10000\n",
      "train-score = 0.9537, valid-score = 0.8385\n",
      "(confidence interval: [0.813, 0.862])\n",
      "=====================================================================\n",
      "Fold: 3, train-observations = 40001, valid-observations = 10000\n",
      "train-score = 0.9452, valid-score = 0.8369\n",
      "(confidence interval: [0.813, 0.863])\n",
      "=====================================================================\n",
      "Fold: 4, train-observations = 40001, valid-observations = 10000\n",
      "train-score = 0.9523, valid-score = 0.8702\n",
      "(confidence interval: [0.848, 0.89])\n",
      "=====================================================================\n",
      "Fold: 5, train-observations = 40001, valid-observations = 10000\n",
      "train-score = 0.9509, valid-score = 0.8558\n",
      "(confidence interval: [0.823, 0.884])\n",
      "=====================================================================\n",
      "CV-results train: 0.9514 +/- 0.003\n",
      "CV-results valid: 0.8405 +/- 0.023\n",
      "OOF-score = 0.8418\n"
     ]
    }
   ],
   "source": [
    "estimators, _, _, _, _ = make_cross_validation(\n",
    "    X_log, y, catb, metric=roc_auc_score, proba=True, cv_strategy=gcv_strategy, use_groups=True, groups=train_uids\n",
    ")"
   ]
  },
  {
   "cell_type": "code",
   "execution_count": 45,
   "metadata": {},
   "outputs": [
    {
     "name": "stdout",
     "output_type": "stream",
     "text": [
      "Test-score:  0.8511\n"
     ]
    }
   ],
   "source": [
    "test_score = roc_auc_score(y_test, estimators[3].predict_proba(X_test_log)[:, 1])\n",
    "\n",
    "print(f'Test-score:  {test_score:.4f}')"
   ]
  },
  {
   "cell_type": "markdown",
   "metadata": {},
   "source": [
    "Метрика получила прирост на CV-results valid и OOF-score, но просела на CV-results train и отложенных данных для теста."
   ]
  },
  {
   "cell_type": "markdown",
   "metadata": {},
   "source": [
    "## Задание 5\n",
    "\n",
    "Для числовых признаков построить PCA-признаки, добавить их к основной части датасета."
   ]
  },
  {
   "cell_type": "markdown",
   "metadata": {},
   "source": [
    "Остановимся на 10 компонентах:"
   ]
  },
  {
   "cell_type": "code",
   "execution_count": 46,
   "metadata": {},
   "outputs": [],
   "source": [
    "pca = PCA(n_components=10, svd_solver='full')"
   ]
  },
  {
   "cell_type": "code",
   "execution_count": 47,
   "metadata": {},
   "outputs": [
    {
     "name": "stdout",
     "output_type": "stream",
     "text": [
      "Wall time: 7.94 s\n"
     ]
    }
   ],
   "source": [
    "%%time\n",
    "X_pca = pca.fit_transform(X_crd)"
   ]
  },
  {
   "cell_type": "code",
   "execution_count": 48,
   "metadata": {},
   "outputs": [
    {
     "name": "stdout",
     "output_type": "stream",
     "text": [
      "Wall time: 367 ms\n"
     ]
    }
   ],
   "source": [
    "%%time\n",
    "X_test_pca = pca.transform(X_test_crd)"
   ]
  },
  {
   "cell_type": "code",
   "execution_count": 49,
   "metadata": {
    "scrolled": false
   },
   "outputs": [
    {
     "data": {
      "text/plain": [
       "['pca_6', 'pca_7', 'pca_8', 'pca_9', 'pca_10']"
      ]
     },
     "execution_count": 49,
     "metadata": {},
     "output_type": "execute_result"
    }
   ],
   "source": [
    "pca_features = [f'pca_{i}' for i in range(1, X_pca.shape[1]+1)]\n",
    "pca_features[-5:]"
   ]
  },
  {
   "cell_type": "code",
   "execution_count": 50,
   "metadata": {},
   "outputs": [],
   "source": [
    "X_pca = pd.concat(\n",
    "    [X_crd, pd.DataFrame(X_pca, columns=pca_features)],\n",
    "    axis=1\n",
    ")\n",
    "\n",
    "X_test_pca = pd.concat(\n",
    "    [X_test_crd, pd.DataFrame(X_test_pca, columns=pca_features)],\n",
    "    axis=1\n",
    ")"
   ]
  },
  {
   "cell_type": "markdown",
   "metadata": {},
   "source": [
    "Групповая кросс-валидация с добавленными 10 главными компонентами:"
   ]
  },
  {
   "cell_type": "code",
   "execution_count": 51,
   "metadata": {},
   "outputs": [
    {
     "name": "stdout",
     "output_type": "stream",
     "text": [
      "Fold: 1, train-observations = 40000, valid-observations = 10001\n",
      "train-score = 0.957, valid-score = 0.8172\n",
      "(confidence interval: [0.786, 0.847])\n",
      "=====================================================================\n",
      "Fold: 2, train-observations = 40001, valid-observations = 10000\n",
      "train-score = 0.9553, valid-score = 0.827\n",
      "(confidence interval: [0.8, 0.855])\n",
      "=====================================================================\n",
      "Fold: 3, train-observations = 40001, valid-observations = 10000\n",
      "train-score = 0.9498, valid-score = 0.8452\n",
      "(confidence interval: [0.818, 0.872])\n",
      "=====================================================================\n",
      "Fold: 4, train-observations = 40001, valid-observations = 10000\n",
      "train-score = 0.9511, valid-score = 0.8605\n",
      "(confidence interval: [0.836, 0.884])\n",
      "=====================================================================\n",
      "Fold: 5, train-observations = 40001, valid-observations = 10000\n",
      "train-score = 0.9526, valid-score = 0.8604\n",
      "(confidence interval: [0.83, 0.89])\n",
      "=====================================================================\n",
      "CV-results train: 0.9531 +/- 0.003\n",
      "CV-results valid: 0.8421 +/- 0.017\n",
      "OOF-score = 0.842\n"
     ]
    }
   ],
   "source": [
    "estimators, _, _, _, _ = make_cross_validation(\n",
    "    X_pca, y, catb, metric=roc_auc_score, proba=True, cv_strategy=gcv_strategy, use_groups=True, groups=train_uids\n",
    ")"
   ]
  },
  {
   "cell_type": "code",
   "execution_count": 52,
   "metadata": {},
   "outputs": [
    {
     "name": "stdout",
     "output_type": "stream",
     "text": [
      "Test-score:  0.8563\n"
     ]
    }
   ],
   "source": [
    "test_score = roc_auc_score(y_test, estimators[4].predict_proba(X_test_pca)[:, 1])\n",
    "\n",
    "print(f'Test-score:  {test_score:.4f}')"
   ]
  },
  {
   "cell_type": "markdown",
   "metadata": {},
   "source": [
    "Добавление 10 главных компонент дало прирост качества на кросс-валидации и на отложенных данных. Другие количества комнент и их результаты на отложенных данных (чем больше, тем ниже метрика):\n",
    " - 50 - 0.8554;\n",
    " - 100 - 0.8464;\n",
    " - 200 - 0.8418;\n",
    " - 'mle' (378) - 0.8398.\n",
    "\n",
    "При этом с увеличением количества компонент увеличивается и время обучения."
   ]
  },
  {
   "cell_type": "markdown",
   "metadata": {},
   "source": [
    "## Задание 6\n",
    "\n",
    "Использовать критерий отбора признаков на основе перестановок для отбора признаков, которые положительно влияют на перформанс модели. Переобучить модель и сделать выводы о полученном качестве алгоритма."
   ]
  },
  {
   "cell_type": "markdown",
   "metadata": {},
   "source": [
    "*функция из ноутбука вебинара*"
   ]
  },
  {
   "cell_type": "code",
   "execution_count": 53,
   "metadata": {},
   "outputs": [],
   "source": [
    "def calculate_permutation_importance(estimator, \n",
    "                                     metric: callable,\n",
    "                                     x_valid: pd.DataFrame,\n",
    "                                     y_valid: pd.Series) -> pd.Series:\n",
    "    \"\"\"\n",
    "    Расчет пермутированной важности признаков.\n",
    "    \"\"\"\n",
    "    scores = {}\n",
    "    y_pred = estimator.predict_proba(x_valid)[:, 1]\n",
    "    base_score = metric(y_valid, y_pred)\n",
    "\n",
    "    for feature in tqdm(x_valid.columns):\n",
    "        x_valid_copy = x_valid.copy()\n",
    "        x_valid_copy[feature] = np.random.permutation(x_valid_copy[feature])\n",
    "\n",
    "        y_pred = estimator.predict_proba(x_valid_copy)[:, 1]\n",
    "        score = metric(y_valid, y_pred)\n",
    "        scores[feature] = base_score - score\n",
    "\n",
    "    scores = pd.Series(scores)\n",
    "    scores = scores.sort_values(ascending=False)\n",
    "\n",
    "    return scores"
   ]
  },
  {
   "cell_type": "markdown",
   "metadata": {},
   "source": [
    "Разобьём данные для обучения на обучающую и валидационную выборку с учётом пользователей:"
   ]
  },
  {
   "cell_type": "code",
   "execution_count": 54,
   "metadata": {},
   "outputs": [],
   "source": [
    "gss = GroupShuffleSplit(n_splits=1, train_size=.7, random_state=42)\n",
    "\n",
    "for train_idx, valid_idx in gss.split(X_pca, y, groups=train_uids):\n",
    "    x_train, x_valid = X_pca[X_pca.index.isin(train_idx)], X_pca[X_pca.index.isin(valid_idx)]\n",
    "    y_train, y_valid = y[y.index.isin(train_idx)], y[y.index.isin(valid_idx)]"
   ]
  },
  {
   "cell_type": "markdown",
   "metadata": {},
   "source": [
    "Обучим классификатор на обучающей выборке:"
   ]
  },
  {
   "cell_type": "code",
   "execution_count": 55,
   "metadata": {},
   "outputs": [
    {
     "name": "stdout",
     "output_type": "stream",
     "text": [
      "Wall time: 14.1 s\n"
     ]
    },
    {
     "data": {
      "text/plain": [
       "<catboost.core.CatBoostClassifier at 0x18ae7a90>"
      ]
     },
     "execution_count": 55,
     "metadata": {},
     "output_type": "execute_result"
    }
   ],
   "source": [
    "%%time\n",
    "catb.fit(x_train, y_train)"
   ]
  },
  {
   "cell_type": "markdown",
   "metadata": {},
   "source": [
    "Значения метрики на обучающей и валидационной выборках, а также на данных для теста:"
   ]
  },
  {
   "cell_type": "code",
   "execution_count": 56,
   "metadata": {},
   "outputs": [
    {
     "name": "stdout",
     "output_type": "stream",
     "text": [
      "Train-score: 0.9587\n",
      "Valid-score: 0.8231\n",
      "\n",
      "Test-score:  0.8462\n"
     ]
    }
   ],
   "source": [
    "train_score = roc_auc_score(y_train, catb.predict_proba(x_train)[:, 1])\n",
    "valid_score = roc_auc_score(y_valid, catb.predict_proba(x_valid)[:, 1])\n",
    "test_score = roc_auc_score(y_test, catb.predict_proba(X_test_pca)[:, 1])\n",
    "\n",
    "print(f'Train-score: {train_score:.4f}\\nValid-score: {valid_score:.4f}\\n')\n",
    "print(f'Test-score:  {test_score:.4f}')"
   ]
  },
  {
   "cell_type": "markdown",
   "metadata": {},
   "source": [
    "Вычислим пермутационные важности признаков:"
   ]
  },
  {
   "cell_type": "code",
   "execution_count": 57,
   "metadata": {},
   "outputs": [
    {
     "name": "stderr",
     "output_type": "stream",
     "text": [
      "100%|████████████████████████████████████████| 389/389 [00:44<00:00,  8.81it/s]\n"
     ]
    }
   ],
   "source": [
    "perm_importance = calculate_permutation_importance(\n",
    "    estimator=catb, metric=roc_auc_score, x_valid=x_valid, y_valid=y_valid\n",
    ")"
   ]
  },
  {
   "cell_type": "markdown",
   "metadata": {},
   "source": [
    "Отберём признаки с положитеьной пермутационной важностью:"
   ]
  },
  {
   "cell_type": "code",
   "execution_count": 58,
   "metadata": {},
   "outputs": [
    {
     "name": "stdout",
     "output_type": "stream",
     "text": [
      "Кол-во отобранных признаков: 124\n"
     ]
    }
   ],
   "source": [
    "good_features = perm_importance[perm_importance > 0].index\n",
    "print('Кол-во отобранных признаков:', good_features.shape[0])"
   ]
  },
  {
   "cell_type": "markdown",
   "metadata": {},
   "source": [
    "Переобучим на них классификатор:"
   ]
  },
  {
   "cell_type": "code",
   "execution_count": 59,
   "metadata": {},
   "outputs": [
    {
     "name": "stdout",
     "output_type": "stream",
     "text": [
      "Wall time: 7.77 s\n"
     ]
    },
    {
     "data": {
      "text/plain": [
       "<catboost.core.CatBoostClassifier at 0x18ae7a90>"
      ]
     },
     "execution_count": 59,
     "metadata": {},
     "output_type": "execute_result"
    }
   ],
   "source": [
    "%%time\n",
    "catb.fit(x_train[good_features], y_train)"
   ]
  },
  {
   "cell_type": "markdown",
   "metadata": {},
   "source": [
    "Значения метрики на измененённых обучающей и валидационной выборках, а также на данных для теста:"
   ]
  },
  {
   "cell_type": "code",
   "execution_count": 60,
   "metadata": {},
   "outputs": [
    {
     "name": "stdout",
     "output_type": "stream",
     "text": [
      "Train-score: 0.9626\n",
      "Valid-score: 0.8271\n",
      "\n",
      "Test-score:  0.8392\n"
     ]
    }
   ],
   "source": [
    "train_score = roc_auc_score(y_train, catb.predict_proba(x_train[good_features])[:, 1])\n",
    "valid_score = roc_auc_score(y_valid, catb.predict_proba(x_valid[good_features])[:, 1])\n",
    "test_score = roc_auc_score(y_test, catb.predict_proba(X_test_pca[good_features])[:, 1])\n",
    "\n",
    "print(f'Train-score: {train_score:.4f}\\nValid-score: {valid_score:.4f}\\n')\n",
    "print(f'Test-score:  {test_score:.4f}')"
   ]
  },
  {
   "cell_type": "markdown",
   "metadata": {},
   "source": [
    "Метрика на обучающей и валидационной выборках выросла, но на отложенных данных просела. Судя по всему, отброшенные признаки сдерживали переобучение модели."
   ]
  },
  {
   "cell_type": "markdown",
   "metadata": {},
   "source": [
    "## Задание 7: (опциональное) \n",
    "\n",
    "Использовать SHAP для оценки важности признаков. Использовать SHAP для отбора признаков, проанализировать поведение модели на одном (любом) примере, посмотреть какой вклад каждый признак вносит в итоговый прогно. Проанализировать резульаты."
   ]
  }
 ],
 "metadata": {
  "kernelspec": {
   "display_name": "Python 3",
   "language": "python",
   "name": "python3"
  },
  "language_info": {
   "codemirror_mode": {
    "name": "ipython",
    "version": 3
   },
   "file_extension": ".py",
   "mimetype": "text/x-python",
   "name": "python",
   "nbconvert_exporter": "python",
   "pygments_lexer": "ipython3",
   "version": "3.7.3"
  }
 },
 "nbformat": 4,
 "nbformat_minor": 2
}
