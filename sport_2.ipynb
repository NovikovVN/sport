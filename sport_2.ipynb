{
 "cells": [
  {
   "cell_type": "code",
   "execution_count": 1,
   "metadata": {},
   "outputs": [],
   "source": [
    "import numpy as np\n",
    "import pandas as pd\n",
    "import matplotlib.pyplot as plt\n",
    "import seaborn as sns\n",
    "from scipy.stats import shapiro, probplot\n",
    "\n",
    "from sklearn.metrics import roc_auc_score\n",
    "from sklearn.model_selection import train_test_split, cross_val_score\n",
    "from sklearn.model_selection import KFold, StratifiedKFold, TimeSeriesSplit, GroupKFold\n",
    "\n",
    "from tqdm import tqdm\n",
    "from typing import List, Optional, Tuple\n",
    "\n",
    "from catboost import cv, CatBoostClassifier, Pool\n",
    "\n",
    "%matplotlib inline\n",
    "sns.set(font_scale=1.25)"
   ]
  },
  {
   "cell_type": "markdown",
   "metadata": {},
   "source": [
    "Задание на повторение:\n",
    "<br>Задание не обязательно к выполнению, но очень рекомендуется для понимания набора данных и получения гипотез для проведения валидации.\n",
    "<br>Задание 1: Построить график распределения времени совершения транзакции для обучающей / тестовой выборки, сделать выводы о том, как разбиты данные и какие виды валидации могут подойти для данной задачи.\n",
    "<br>Задание 2: построить scatter-plot зависимости суммы транзакции от времени совершения транзакции. Построить графики для обучающей выборки и для тестовой выборки, для обучающей выборки - построить как для целевой переменной = 0, так и для переменной = 1. Сделать выводы.\n",
    "<br>Задание 3: построить распределение признака TransactionAmt в логарифмическом масштабе, сделать выводы о близости распредления к нормальному распределению. Построить распределение признака в логарифмическому масштабе для обучающей выборк и для тестовой выборки, сделать выводы.\n",
    "<br>Задание 4: построить распределение признака целевой переменной в зависимости от значений категориальных признаков ProductCD, card4, card6. Сделать выводы.\n",
    "\n",
    "Основное задание:\n",
    "<br>Даны выборки для обучения и для тестирования. Задание заключается в том, чтобы попробовать разные способы валидации, проанализировать плюсы / минусы каждой и сделать выводы о том, какой способ валидации наиболее устойчивый в данной задаче. Метрика качества для оценки прогнозов - ROC-AUC, название целевой переменной - IsFraud. Рекомендуется использовать модели градиетного бустинга, реализация любая.\n",
    "\n",
    "Задание 1: сделать Hold-Out валидацию с разбиением, размер которого будет адеквтаным, по вашему мнению; разбиение проводить по id-транзакции (TransactionID), обучать модель градиетного бустинга любой реализации с подбором числа деревьев по early_stopping критерию до достижения сходимости. Оценить качество модели на тестовой выборке, оценить расхождение по сравнению с качеством на обучающей выборке и тестовой выборке.\n",
    "\n",
    "Задание 2: сделать Hold-Out валидацию с разбиением на 3 выборки, разбиение проводить по id-транзакции (TransactionID), размер каждой выборки подобрать самостоятельно. Повторить процедуру из п.1.\n",
    "\n",
    "Задание 3: построить доверительный интервал на данных из п.2 на основе бутстреп выборок, оценить качество модели на тестовом выборке относительно полученного доверительного интервала. Сделать выводы.\n",
    "\n",
    "Задание 4: выполнить Adversarial Validation на основе данных из обучения / теста, подобрать объема из обучающей выборки, которые сильно похожи на объекты из тестовой выборки, и использовать их в качестве валидационного набора. Сделать выводы о полученных результатах.\n",
    "\n",
    "Задание 5: сделать KFold / StratifiedKFold валидацию (на ваше усмотрение), оценить получаемые качество и разброс по метрике качества. Сделать выводы об устойчивости кросс-валидации, сходимости оценки на кросс-валидации и отложенном наборе данных;\n",
    "\n",
    "Задание 6 * (опциональное): сделать Hold-Out валидацию по времени (TransactionDT), повторить процедуры из п.1 / п.2 (на ваш выбор). Построить доверительный интервал, сравнить качество на тестовой выборке с полученным доверительным интервалом. Сделать выводы.\n",
    "\n",
    "Задание 7 ** (совсем опциональное): в данном наборе данных у нас есть ID-транзакции (TransactionID) и время транзакции (TransactionDT), но отсутствует ID-клиента, который совершал транзакции. Кажется, что в этой задаче валидация по клиенту работала бы хорошо. Предложить критерий, по которому можно выделить клиентов и сделать п.5, используя созданное определение клиента, используя валидацию по клиенту (GroupKFold)."
   ]
  },
  {
   "cell_type": "markdown",
   "metadata": {},
   "source": [
    "## Задание на повторение"
   ]
  },
  {
   "cell_type": "markdown",
   "metadata": {},
   "source": [
    "Данные для обучения и теста:"
   ]
  },
  {
   "cell_type": "code",
   "execution_count": 2,
   "metadata": {
    "scrolled": true
   },
   "outputs": [
    {
     "data": {
      "text/html": [
       "<div>\n",
       "<style scoped>\n",
       "    .dataframe tbody tr th:only-of-type {\n",
       "        vertical-align: middle;\n",
       "    }\n",
       "\n",
       "    .dataframe tbody tr th {\n",
       "        vertical-align: top;\n",
       "    }\n",
       "\n",
       "    .dataframe thead th {\n",
       "        text-align: right;\n",
       "    }\n",
       "</style>\n",
       "<table border=\"1\" class=\"dataframe\">\n",
       "  <thead>\n",
       "    <tr style=\"text-align: right;\">\n",
       "      <th></th>\n",
       "      <th>TransactionID</th>\n",
       "      <th>isFraud</th>\n",
       "      <th>TransactionDT</th>\n",
       "      <th>TransactionAmt</th>\n",
       "      <th>ProductCD</th>\n",
       "      <th>card1</th>\n",
       "      <th>card2</th>\n",
       "      <th>card3</th>\n",
       "      <th>card4</th>\n",
       "      <th>card5</th>\n",
       "      <th>...</th>\n",
       "      <th>V330</th>\n",
       "      <th>V331</th>\n",
       "      <th>V332</th>\n",
       "      <th>V333</th>\n",
       "      <th>V334</th>\n",
       "      <th>V335</th>\n",
       "      <th>V336</th>\n",
       "      <th>V337</th>\n",
       "      <th>V338</th>\n",
       "      <th>V339</th>\n",
       "    </tr>\n",
       "  </thead>\n",
       "  <tbody>\n",
       "    <tr>\n",
       "      <th>0</th>\n",
       "      <td>2987000</td>\n",
       "      <td>0</td>\n",
       "      <td>86400</td>\n",
       "      <td>68.5</td>\n",
       "      <td>W</td>\n",
       "      <td>13926</td>\n",
       "      <td>NaN</td>\n",
       "      <td>150.0</td>\n",
       "      <td>discover</td>\n",
       "      <td>142.0</td>\n",
       "      <td>...</td>\n",
       "      <td>NaN</td>\n",
       "      <td>NaN</td>\n",
       "      <td>NaN</td>\n",
       "      <td>NaN</td>\n",
       "      <td>NaN</td>\n",
       "      <td>NaN</td>\n",
       "      <td>NaN</td>\n",
       "      <td>NaN</td>\n",
       "      <td>NaN</td>\n",
       "      <td>NaN</td>\n",
       "    </tr>\n",
       "    <tr>\n",
       "      <th>1</th>\n",
       "      <td>2987001</td>\n",
       "      <td>0</td>\n",
       "      <td>86401</td>\n",
       "      <td>29.0</td>\n",
       "      <td>W</td>\n",
       "      <td>2755</td>\n",
       "      <td>404.0</td>\n",
       "      <td>150.0</td>\n",
       "      <td>mastercard</td>\n",
       "      <td>102.0</td>\n",
       "      <td>...</td>\n",
       "      <td>NaN</td>\n",
       "      <td>NaN</td>\n",
       "      <td>NaN</td>\n",
       "      <td>NaN</td>\n",
       "      <td>NaN</td>\n",
       "      <td>NaN</td>\n",
       "      <td>NaN</td>\n",
       "      <td>NaN</td>\n",
       "      <td>NaN</td>\n",
       "      <td>NaN</td>\n",
       "    </tr>\n",
       "    <tr>\n",
       "      <th>2</th>\n",
       "      <td>2987002</td>\n",
       "      <td>0</td>\n",
       "      <td>86469</td>\n",
       "      <td>59.0</td>\n",
       "      <td>W</td>\n",
       "      <td>4663</td>\n",
       "      <td>490.0</td>\n",
       "      <td>150.0</td>\n",
       "      <td>visa</td>\n",
       "      <td>166.0</td>\n",
       "      <td>...</td>\n",
       "      <td>NaN</td>\n",
       "      <td>NaN</td>\n",
       "      <td>NaN</td>\n",
       "      <td>NaN</td>\n",
       "      <td>NaN</td>\n",
       "      <td>NaN</td>\n",
       "      <td>NaN</td>\n",
       "      <td>NaN</td>\n",
       "      <td>NaN</td>\n",
       "      <td>NaN</td>\n",
       "    </tr>\n",
       "    <tr>\n",
       "      <th>3</th>\n",
       "      <td>2987003</td>\n",
       "      <td>0</td>\n",
       "      <td>86499</td>\n",
       "      <td>50.0</td>\n",
       "      <td>W</td>\n",
       "      <td>18132</td>\n",
       "      <td>567.0</td>\n",
       "      <td>150.0</td>\n",
       "      <td>mastercard</td>\n",
       "      <td>117.0</td>\n",
       "      <td>...</td>\n",
       "      <td>NaN</td>\n",
       "      <td>NaN</td>\n",
       "      <td>NaN</td>\n",
       "      <td>NaN</td>\n",
       "      <td>NaN</td>\n",
       "      <td>NaN</td>\n",
       "      <td>NaN</td>\n",
       "      <td>NaN</td>\n",
       "      <td>NaN</td>\n",
       "      <td>NaN</td>\n",
       "    </tr>\n",
       "    <tr>\n",
       "      <th>4</th>\n",
       "      <td>2987004</td>\n",
       "      <td>0</td>\n",
       "      <td>86506</td>\n",
       "      <td>50.0</td>\n",
       "      <td>H</td>\n",
       "      <td>4497</td>\n",
       "      <td>514.0</td>\n",
       "      <td>150.0</td>\n",
       "      <td>mastercard</td>\n",
       "      <td>102.0</td>\n",
       "      <td>...</td>\n",
       "      <td>0.0</td>\n",
       "      <td>0.0</td>\n",
       "      <td>0.0</td>\n",
       "      <td>0.0</td>\n",
       "      <td>0.0</td>\n",
       "      <td>0.0</td>\n",
       "      <td>0.0</td>\n",
       "      <td>0.0</td>\n",
       "      <td>0.0</td>\n",
       "      <td>0.0</td>\n",
       "    </tr>\n",
       "  </tbody>\n",
       "</table>\n",
       "<p>5 rows × 394 columns</p>\n",
       "</div>"
      ],
      "text/plain": [
       "   TransactionID  isFraud  TransactionDT  TransactionAmt ProductCD  card1  \\\n",
       "0        2987000        0          86400            68.5         W  13926   \n",
       "1        2987001        0          86401            29.0         W   2755   \n",
       "2        2987002        0          86469            59.0         W   4663   \n",
       "3        2987003        0          86499            50.0         W  18132   \n",
       "4        2987004        0          86506            50.0         H   4497   \n",
       "\n",
       "   card2  card3       card4  card5  ... V330  V331  V332  V333  V334 V335  \\\n",
       "0    NaN  150.0    discover  142.0  ...  NaN   NaN   NaN   NaN   NaN  NaN   \n",
       "1  404.0  150.0  mastercard  102.0  ...  NaN   NaN   NaN   NaN   NaN  NaN   \n",
       "2  490.0  150.0        visa  166.0  ...  NaN   NaN   NaN   NaN   NaN  NaN   \n",
       "3  567.0  150.0  mastercard  117.0  ...  NaN   NaN   NaN   NaN   NaN  NaN   \n",
       "4  514.0  150.0  mastercard  102.0  ...  0.0   0.0   0.0   0.0   0.0  0.0   \n",
       "\n",
       "  V336  V337  V338  V339  \n",
       "0  NaN   NaN   NaN   NaN  \n",
       "1  NaN   NaN   NaN   NaN  \n",
       "2  NaN   NaN   NaN   NaN  \n",
       "3  NaN   NaN   NaN   NaN  \n",
       "4  0.0   0.0   0.0   0.0  \n",
       "\n",
       "[5 rows x 394 columns]"
      ]
     },
     "execution_count": 2,
     "metadata": {},
     "output_type": "execute_result"
    }
   ],
   "source": [
    "train_df = pd.read_csv('assignment_train.csv')\n",
    "train_df.head(n=5)"
   ]
  },
  {
   "cell_type": "code",
   "execution_count": 3,
   "metadata": {},
   "outputs": [
    {
     "data": {
      "text/html": [
       "<div>\n",
       "<style scoped>\n",
       "    .dataframe tbody tr th:only-of-type {\n",
       "        vertical-align: middle;\n",
       "    }\n",
       "\n",
       "    .dataframe tbody tr th {\n",
       "        vertical-align: top;\n",
       "    }\n",
       "\n",
       "    .dataframe thead th {\n",
       "        text-align: right;\n",
       "    }\n",
       "</style>\n",
       "<table border=\"1\" class=\"dataframe\">\n",
       "  <thead>\n",
       "    <tr style=\"text-align: right;\">\n",
       "      <th></th>\n",
       "      <th>TransactionID</th>\n",
       "      <th>isFraud</th>\n",
       "      <th>TransactionDT</th>\n",
       "      <th>TransactionAmt</th>\n",
       "      <th>ProductCD</th>\n",
       "      <th>card1</th>\n",
       "      <th>card2</th>\n",
       "      <th>card3</th>\n",
       "      <th>card4</th>\n",
       "      <th>card5</th>\n",
       "      <th>...</th>\n",
       "      <th>V330</th>\n",
       "      <th>V331</th>\n",
       "      <th>V332</th>\n",
       "      <th>V333</th>\n",
       "      <th>V334</th>\n",
       "      <th>V335</th>\n",
       "      <th>V336</th>\n",
       "      <th>V337</th>\n",
       "      <th>V338</th>\n",
       "      <th>V339</th>\n",
       "    </tr>\n",
       "  </thead>\n",
       "  <tbody>\n",
       "    <tr>\n",
       "      <th>0</th>\n",
       "      <td>3062000</td>\n",
       "      <td>0</td>\n",
       "      <td>1643492</td>\n",
       "      <td>41.0</td>\n",
       "      <td>W</td>\n",
       "      <td>9500</td>\n",
       "      <td>321.0</td>\n",
       "      <td>150.0</td>\n",
       "      <td>visa</td>\n",
       "      <td>226.0</td>\n",
       "      <td>...</td>\n",
       "      <td>NaN</td>\n",
       "      <td>NaN</td>\n",
       "      <td>NaN</td>\n",
       "      <td>NaN</td>\n",
       "      <td>NaN</td>\n",
       "      <td>NaN</td>\n",
       "      <td>NaN</td>\n",
       "      <td>NaN</td>\n",
       "      <td>NaN</td>\n",
       "      <td>NaN</td>\n",
       "    </tr>\n",
       "    <tr>\n",
       "      <th>1</th>\n",
       "      <td>3062001</td>\n",
       "      <td>1</td>\n",
       "      <td>1643513</td>\n",
       "      <td>161.0</td>\n",
       "      <td>W</td>\n",
       "      <td>6668</td>\n",
       "      <td>390.0</td>\n",
       "      <td>150.0</td>\n",
       "      <td>mastercard</td>\n",
       "      <td>224.0</td>\n",
       "      <td>...</td>\n",
       "      <td>NaN</td>\n",
       "      <td>NaN</td>\n",
       "      <td>NaN</td>\n",
       "      <td>NaN</td>\n",
       "      <td>NaN</td>\n",
       "      <td>NaN</td>\n",
       "      <td>NaN</td>\n",
       "      <td>NaN</td>\n",
       "      <td>NaN</td>\n",
       "      <td>NaN</td>\n",
       "    </tr>\n",
       "    <tr>\n",
       "      <th>2</th>\n",
       "      <td>3062002</td>\n",
       "      <td>0</td>\n",
       "      <td>1643519</td>\n",
       "      <td>49.0</td>\n",
       "      <td>W</td>\n",
       "      <td>14935</td>\n",
       "      <td>543.0</td>\n",
       "      <td>150.0</td>\n",
       "      <td>mastercard</td>\n",
       "      <td>224.0</td>\n",
       "      <td>...</td>\n",
       "      <td>NaN</td>\n",
       "      <td>NaN</td>\n",
       "      <td>NaN</td>\n",
       "      <td>NaN</td>\n",
       "      <td>NaN</td>\n",
       "      <td>NaN</td>\n",
       "      <td>NaN</td>\n",
       "      <td>NaN</td>\n",
       "      <td>NaN</td>\n",
       "      <td>NaN</td>\n",
       "    </tr>\n",
       "    <tr>\n",
       "      <th>3</th>\n",
       "      <td>3062003</td>\n",
       "      <td>0</td>\n",
       "      <td>1643519</td>\n",
       "      <td>100.0</td>\n",
       "      <td>R</td>\n",
       "      <td>8394</td>\n",
       "      <td>490.0</td>\n",
       "      <td>150.0</td>\n",
       "      <td>visa</td>\n",
       "      <td>226.0</td>\n",
       "      <td>...</td>\n",
       "      <td>0.0</td>\n",
       "      <td>0.0</td>\n",
       "      <td>0.0</td>\n",
       "      <td>0.0</td>\n",
       "      <td>0.0</td>\n",
       "      <td>0.0</td>\n",
       "      <td>0.0</td>\n",
       "      <td>0.0</td>\n",
       "      <td>0.0</td>\n",
       "      <td>0.0</td>\n",
       "    </tr>\n",
       "    <tr>\n",
       "      <th>4</th>\n",
       "      <td>3062004</td>\n",
       "      <td>0</td>\n",
       "      <td>1643529</td>\n",
       "      <td>97.0</td>\n",
       "      <td>W</td>\n",
       "      <td>9500</td>\n",
       "      <td>321.0</td>\n",
       "      <td>150.0</td>\n",
       "      <td>visa</td>\n",
       "      <td>226.0</td>\n",
       "      <td>...</td>\n",
       "      <td>NaN</td>\n",
       "      <td>NaN</td>\n",
       "      <td>NaN</td>\n",
       "      <td>NaN</td>\n",
       "      <td>NaN</td>\n",
       "      <td>NaN</td>\n",
       "      <td>NaN</td>\n",
       "      <td>NaN</td>\n",
       "      <td>NaN</td>\n",
       "      <td>NaN</td>\n",
       "    </tr>\n",
       "  </tbody>\n",
       "</table>\n",
       "<p>5 rows × 394 columns</p>\n",
       "</div>"
      ],
      "text/plain": [
       "   TransactionID  isFraud  TransactionDT  TransactionAmt ProductCD  card1  \\\n",
       "0        3062000        0        1643492            41.0         W   9500   \n",
       "1        3062001        1        1643513           161.0         W   6668   \n",
       "2        3062002        0        1643519            49.0         W  14935   \n",
       "3        3062003        0        1643519           100.0         R   8394   \n",
       "4        3062004        0        1643529            97.0         W   9500   \n",
       "\n",
       "   card2  card3       card4  card5  ... V330  V331  V332  V333  V334 V335  \\\n",
       "0  321.0  150.0        visa  226.0  ...  NaN   NaN   NaN   NaN   NaN  NaN   \n",
       "1  390.0  150.0  mastercard  224.0  ...  NaN   NaN   NaN   NaN   NaN  NaN   \n",
       "2  543.0  150.0  mastercard  224.0  ...  NaN   NaN   NaN   NaN   NaN  NaN   \n",
       "3  490.0  150.0        visa  226.0  ...  0.0   0.0   0.0   0.0   0.0  0.0   \n",
       "4  321.0  150.0        visa  226.0  ...  NaN   NaN   NaN   NaN   NaN  NaN   \n",
       "\n",
       "  V336  V337  V338  V339  \n",
       "0  NaN   NaN   NaN   NaN  \n",
       "1  NaN   NaN   NaN   NaN  \n",
       "2  NaN   NaN   NaN   NaN  \n",
       "3  0.0   0.0   0.0   0.0  \n",
       "4  NaN   NaN   NaN   NaN  \n",
       "\n",
       "[5 rows x 394 columns]"
      ]
     },
     "execution_count": 3,
     "metadata": {},
     "output_type": "execute_result"
    }
   ],
   "source": [
    "test_df = pd.read_csv('assignment_test.csv')\n",
    "test_df.head(n=5)"
   ]
  },
  {
   "cell_type": "markdown",
   "metadata": {},
   "source": [
    "Размерности датафреймов:"
   ]
  },
  {
   "cell_type": "code",
   "execution_count": 4,
   "metadata": {},
   "outputs": [
    {
     "name": "stdout",
     "output_type": "stream",
     "text": [
      "train_df.shape = 50001 rows, 394 cols\n",
      "test_df.shape = 75000 rows, 394 cols\n"
     ]
    }
   ],
   "source": [
    "print(\"train_df.shape = {} rows, {} cols\".format(*train_df.shape))\n",
    "print(\"test_df.shape = {} rows, {} cols\".format(*test_df.shape))"
   ]
  },
  {
   "cell_type": "markdown",
   "metadata": {},
   "source": [
    "Узнаем типы признаков:"
   ]
  },
  {
   "cell_type": "code",
   "execution_count": 5,
   "metadata": {},
   "outputs": [
    {
     "name": "stdout",
     "output_type": "stream",
     "text": [
      "<class 'pandas.core.frame.DataFrame'>\n",
      "RangeIndex: 50001 entries, 0 to 50000\n",
      "Columns: 394 entries, TransactionID to V339\n",
      "dtypes: float64(376), int64(4), object(14)\n",
      "memory usage: 150.3+ MB\n"
     ]
    }
   ],
   "source": [
    "train_df.info()"
   ]
  },
  {
   "cell_type": "code",
   "execution_count": 6,
   "metadata": {},
   "outputs": [
    {
     "name": "stdout",
     "output_type": "stream",
     "text": [
      "<class 'pandas.core.frame.DataFrame'>\n",
      "RangeIndex: 75000 entries, 0 to 74999\n",
      "Columns: 394 entries, TransactionID to V339\n",
      "dtypes: float64(376), int64(4), object(14)\n",
      "memory usage: 225.4+ MB\n"
     ]
    }
   ],
   "source": [
    "test_df.info()"
   ]
  },
  {
   "cell_type": "markdown",
   "metadata": {},
   "source": [
    "Базовый анализ целевого признака (мошенничество ли?):"
   ]
  },
  {
   "cell_type": "code",
   "execution_count": 7,
   "metadata": {},
   "outputs": [],
   "source": [
    "target_column = 'isFraud'"
   ]
  },
  {
   "cell_type": "code",
   "execution_count": 8,
   "metadata": {},
   "outputs": [
    {
     "data": {
      "text/plain": [
       "0    0.972861\n",
       "1    0.027139\n",
       "Name: isFraud, dtype: float64"
      ]
     },
     "execution_count": 8,
     "metadata": {},
     "output_type": "execute_result"
    }
   ],
   "source": [
    "train_df[target_column].value_counts(normalize=True)"
   ]
  },
  {
   "cell_type": "markdown",
   "metadata": {},
   "source": [
    "Присутствует существенный дисбаланс классов - мошеннических операций всего 2.7%."
   ]
  },
  {
   "cell_type": "markdown",
   "metadata": {},
   "source": [
    "### Задание 1\n",
    "\n",
    "Построить график распределения времени совершения транзакции для обучающей / тестовой выборки, сделать выводы о том, как разбиты данные и какие виды валидации могут подойти для данной задачи."
   ]
  },
  {
   "cell_type": "markdown",
   "metadata": {},
   "source": [
    "Подтвердим то, что признак `TransactionDT` в датафреймах упорядочен по убыванию, и выведем его минимальное и максимальное значения:"
   ]
  },
  {
   "cell_type": "code",
   "execution_count": 9,
   "metadata": {},
   "outputs": [
    {
     "name": "stdout",
     "output_type": "stream",
     "text": [
      "train: from 86400 to 1189349\n",
      "test: from 1643492 to 3093408\n"
     ]
    }
   ],
   "source": [
    "for df, df_type in zip([train_df, test_df], ['train', 'test']):\n",
    "    \n",
    "    np.testing.assert_array_equal(\n",
    "        df['TransactionDT'],\n",
    "        df['TransactionDT'].sort_values(ascending=True)\n",
    "    )\n",
    "    \n",
    "    print(f\"{df_type}: from {df['TransactionDT'].min()} to {df['TransactionDT'].max()}\")"
   ]
  },
  {
   "cell_type": "markdown",
   "metadata": {},
   "source": [
    "Сколько транзакций было в каждый из моментов времени:"
   ]
  },
  {
   "cell_type": "code",
   "execution_count": 10,
   "metadata": {},
   "outputs": [
    {
     "data": {
      "image/png": "[encoded data removed]",
      "text/plain": [
       "<Figure size 864x360 with 1 Axes>"
      ]
     },
     "metadata": {
      "needs_background": "light"
     },
     "output_type": "display_data"
    }
   ],
   "source": [
    "plt.figure(figsize=(12, 5))\n",
    "\n",
    "for df, df_type in zip([train_df, test_df], ['train', 'test']):\n",
    "    gb = df['TransactionDT'].value_counts().sort_index()\n",
    "    plt.plot(gb.index, gb.values, linewidth=4, label=df_type)\n",
    "\n",
    "plt.legend(loc='upper center', ncol=2)    \n",
    "plt.xlabel('TransactionDT')\n",
    "plt.show()"
   ]
  },
  {
   "cell_type": "markdown",
   "metadata": {},
   "source": [
    "Тестовые данные взяты через отступ после данных для обучения.<br>Как правило, так делается, если в данных есть временная зависимость. Тем не менее, в контексте задачи выявляния мошенничества можно представить, что транзакции в них не зависят друг от друга. Поэтому рассматривается как **обычная кросс-валидация**, так и **кросс-валидация по времени**. "
   ]
  },
  {
   "cell_type": "markdown",
   "metadata": {},
   "source": [
    "### Задание 2\n",
    "\n",
    "Построить scatter-plot зависимости суммы транзакции от времени совершения транзакции. Построить графики для обучающей выборки и для тестовой выборки, для обучающей выборки - построить как для целевой переменной = 0, так и для переменной = 1. Сделать выводы."
   ]
  },
  {
   "cell_type": "code",
   "execution_count": 11,
   "metadata": {},
   "outputs": [
    {
     "data": {
      "image/png": "[encoded data removed]",
      "text/plain": [
       "<Figure size 864x360 with 1 Axes>"
      ]
     },
     "metadata": {
      "needs_background": "light"
     },
     "output_type": "display_data"
    }
   ],
   "source": [
    "plt.figure(figsize=(12, 5))\n",
    "\n",
    "for df, df_type in zip([train_df, test_df], ['train', 'test']):\n",
    "    for target_value, c in zip([0, 1], ['green', 'red']):\n",
    "        sat = 'dark' if df_type == 'train' else ''\n",
    "        temp_df = df.loc[df[target_column] == target_value, ['TransactionDT', 'TransactionAmt']]\n",
    "        label = f'{df_type}: {target_value}'\n",
    "        plt.scatter(temp_df['TransactionDT'], temp_df['TransactionAmt'], c=sat+c, label=label)\n",
    "\n",
    "plt.legend(loc='upper center', ncol=2, title=target_column)\n",
    "plt.xlabel('TransactionDT')\n",
    "plt.show()"
   ]
  },
  {
   "cell_type": "markdown",
   "metadata": {},
   "source": [
    "Визуально мошеннические транзакции по сумме, в основном, не превышают 500 у.е. - как и большинство обычных транзакций."
   ]
  },
  {
   "cell_type": "markdown",
   "metadata": {},
   "source": [
    "### Задание 3\n",
    "\n",
    "Построить распределение признака TransactionAmt в логарифмическом масштабе, сделать выводы о близости распредления к нормальному распределению. Построить распределение признака в логарифмическому масштабе для обучающей выборк и для тестовой выборки, сделать выводы."
   ]
  },
  {
   "cell_type": "code",
   "execution_count": 12,
   "metadata": {},
   "outputs": [],
   "source": [
    "train_tal = train_df['TransactionAmt'].apply(np.log)\n",
    "test_tal = test_df['TransactionAmt'].apply(np.log)"
   ]
  },
  {
   "cell_type": "code",
   "execution_count": 13,
   "metadata": {},
   "outputs": [
    {
     "data": {
      "image/png": "[encoded data removed]",
      "text/plain": [
       "<Figure size 864x360 with 1 Axes>"
      ]
     },
     "metadata": {
      "needs_background": "light"
     },
     "output_type": "display_data"
    },
    {
     "data": {
      "image/png": "[encoded data removed]",
      "text/plain": [
       "<Figure size 864x360 with 2 Axes>"
      ]
     },
     "metadata": {
      "needs_background": "light"
     },
     "output_type": "display_data"
    }
   ],
   "source": [
    "plt.figure(figsize=(12, 5))\n",
    "for df_tal, df_type in zip([train_tal, test_tal], ['train', 'test']):    \n",
    "    statistic, pvalue = shapiro(np.random.choice(df_tal, size=5000))\n",
    "    shapiro_test = 'normal' if pvalue >= 0.05 else 'non normal'\n",
    "    label = f'{df_type}: {shapiro_test}'\n",
    "    sns.kdeplot(df_tal, shade=True, alpha=0.5, label=label)\n",
    "plt.legend(loc='upper right', title='Shapiro-Wilk Test')\n",
    "plt.show()\n",
    "\n",
    "plt.figure(figsize=(12, 5))\n",
    "for i, df_tal, df_type in zip([1, 2], [train_tal, test_tal], ['train', 'test']):    \n",
    "    ax = plt.subplot(1, 2, i)\n",
    "    res = probplot(df_tal, dist='norm', plot=ax, rvalue=True)\n",
    "    plt.title(f'{df_type}: {ax.get_title()}')"
   ]
  },
  {
   "cell_type": "markdown",
   "metadata": {},
   "source": [
    "В логарифмическом масштабе распределения признака `TransactionAmt` колоколообразны и мультимодальны, кроме того - сильно схожи в данных для обучения и теста.\n",
    "<br>Q-Q графики и критерий Шапиро-Уилка не подтверждает их нормальность."
   ]
  },
  {
   "cell_type": "markdown",
   "metadata": {},
   "source": [
    "### Задание 4\n",
    "\n",
    "Построить распределение признака целевой переменной в зависимости от значений категориальных признаков ProductCD, card4, card6. Сделать выводы."
   ]
  },
  {
   "cell_type": "code",
   "execution_count": 14,
   "metadata": {},
   "outputs": [
    {
     "data": {
      "image/png": "[encoded data removed]",
      "text/plain": [
       "<Figure size 576x1080 with 3 Axes>"
      ]
     },
     "metadata": {
      "needs_background": "light"
     },
     "output_type": "display_data"
    }
   ],
   "source": [
    "plt.figure(figsize=(8, 15))\n",
    "for i, feature in enumerate(['ProductCD', 'card4', 'card6']):\n",
    "    plt.subplot(3, 1, i+1)\n",
    "    order = train_df[feature].value_counts().index\n",
    "    sns.countplot(x=feature, hue=target_column, data=train_df, order=order, palette=\"Blues_d\")\n",
    "    plt.legend(loc='upper right', title=target_column)\n",
    "    plt.title(feature)\n",
    "    plt.xlabel('')\n",
    "    plt.ylabel('')"
   ]
  },
  {
   "cell_type": "markdown",
   "metadata": {},
   "source": [
    "Судя по диаграммам, больше мошеннических операций (относительно других значений признаков) - в случаях, если признак `ProductCD` принимает значение `C`, а признак `card6` - `credit`."
   ]
  },
  {
   "cell_type": "markdown",
   "metadata": {},
   "source": [
    "*Другой вариант:*"
   ]
  },
  {
   "cell_type": "code",
   "execution_count": 15,
   "metadata": {},
   "outputs": [
    {
     "data": {
      "image/png": "[encoded data removed]",
      "text/plain": [
       "<Figure size 1080x1368 with 6 Axes>"
      ]
     },
     "metadata": {
      "needs_background": "light"
     },
     "output_type": "display_data"
    }
   ],
   "source": [
    "palettes = ['summer', 'autumn']\n",
    "plt.figure(figsize=(15, 19))\n",
    "\n",
    "for i, feature in enumerate(['ProductCD', 'card4', 'card6']):\n",
    "    order = train_df[feature].unique()\n",
    "    for j in (0, 1):\n",
    "        plt.subplot(3, 2, j+i*2+1)\n",
    "        sns.countplot(\n",
    "            x=feature,\n",
    "            data=train_df[train_df[target_column] == j],\n",
    "            order=order,\n",
    "            palette=palettes[j])\n",
    "        plt.title(f'{feature} (isFraud: {bool(j)})')\n",
    "        plt.xlabel('')\n",
    "        plt.ylabel('')\n",
    "        plt.xticks(rotation=10)"
   ]
  },
  {
   "cell_type": "markdown",
   "metadata": {},
   "source": [
    "## Основное задание"
   ]
  },
  {
   "cell_type": "markdown",
   "metadata": {},
   "source": [
    "Даны выборки для обучения и для тестирования. Задание заключается в том, чтобы попробовать разные способы валидации, проанализировать плюсы / минусы каждой и сделать выводы о том, какой способ валидации наиболее устойчивый в данной задаче. Метрика качества для оценки прогнозов - ROC-AUC, название целевой переменной - IsFraud. Рекомендуется использовать модели градиетного бустинга, реализация любая."
   ]
  },
  {
   "cell_type": "markdown",
   "metadata": {},
   "source": [
    "### Задание 1\n",
    "\n",
    "Сделать Hold-Out валидацию с разбиением, размер которого будет адеквтаным, по вашему мнению; разбиение проводить по id-транзакции (TransactionID), обучать модель градиетного бустинга любой реализации с подбором числа деревьев по early_stopping критерию до достижения сходимости. Оценить качество модели на тестовой выборке, оценить расхождение по сравнению с качеством на обучающей выборке и тестовой выборке."
   ]
  },
  {
   "cell_type": "markdown",
   "metadata": {},
   "source": [
    "Подтвердим три предположения по признаку `TransactionID`:\n",
    " - каждый объект в данных для обучения - уникальная транзакция;\n",
    " - -//- в данных для теста;\n",
    " - транзакций из данных для обучения нет в данных для теста."
   ]
  },
  {
   "cell_type": "code",
   "execution_count": 16,
   "metadata": {},
   "outputs": [],
   "source": [
    "assert train_df['TransactionID'].nunique() == train_df.shape[0]\n",
    "assert test_df['TransactionID'].nunique() == test_df.shape[0]\n",
    "assert set(test_df['TransactionID']).isdisjoint(set(train_df['TransactionID']))"
   ]
  },
  {
   "cell_type": "markdown",
   "metadata": {},
   "source": [
    "Таким образом, признак `TransactionID` по сути содержит идентификаторы объектов. Как показано выше при исследовании признака `TransactionDT` они упорядочены во времени в каждом из датафреймов.\n",
    "\n",
    "Исключим их из данных для обучения и оставим только количественные признаки. Заполним пропуски нехарактерным значением -9999."
   ]
  },
  {
   "cell_type": "code",
   "execution_count": 17,
   "metadata": {},
   "outputs": [],
   "source": [
    "numeric_features = train_df.select_dtypes(exclude='object').columns\n",
    "\n",
    "X = train_df[numeric_features].drop(columns=['TransactionID', 'isFraud', 'TransactionDT']).fillna(-9999)\n",
    "y = train_df[target_column]"
   ]
  },
  {
   "cell_type": "markdown",
   "metadata": {},
   "source": [
    "Проделаем то же самое с данными для теста:"
   ]
  },
  {
   "cell_type": "code",
   "execution_count": 18,
   "metadata": {},
   "outputs": [],
   "source": [
    "X_test = test_df[numeric_features].drop(columns=['TransactionID', 'isFraud', 'TransactionDT']).fillna(-9999)\n",
    "y_test = test_df[target_column]"
   ]
  },
  {
   "cell_type": "markdown",
   "metadata": {},
   "source": [
    "Количества деревьев для модели бустинга - от 10 до 310 с шагом 20:"
   ]
  },
  {
   "cell_type": "code",
   "execution_count": 19,
   "metadata": {},
   "outputs": [],
   "source": [
    "estimator_counts = np.arange(10, 330, 20)"
   ]
  },
  {
   "cell_type": "markdown",
   "metadata": {},
   "source": [
    "**Подбор количества деревьев**:\n",
    "\n",
    " - выделим четвёртую часть данных на оценочную выборку (*X_eval*, *y_eval*);\n",
    " - задан критерий до достижения сходимости (*early_stopping_rounds* в catboost)."
   ]
  },
  {
   "cell_type": "code",
   "execution_count": 20,
   "metadata": {},
   "outputs": [
    {
     "name": "stderr",
     "output_type": "stream",
     "text": [
      "100%|██████████████████████████████████████████| 16/16 [03:40<00:00, 13.80s/it]\n"
     ]
    }
   ],
   "source": [
    "train_scores, eval_scores = [], []\n",
    "\n",
    "for j in tqdm(estimator_counts):\n",
    "    X_train, X_eval, y_train, y_eval = train_test_split(\n",
    "        X, y,\n",
    "        test_size=0.25,\n",
    "        shuffle=True,\n",
    "        random_state=j,\n",
    "    )\n",
    "    \n",
    "    eval_pool = Pool(X_eval, y_eval)\n",
    "    \n",
    "    catb = CatBoostClassifier(eval_metric='AUC', n_estimators=j, silent=True, random_state=j)\n",
    "    catb.fit(X_train, y_train, eval_set=eval_pool, early_stopping_rounds=10)  \n",
    "    \n",
    "    train_score = roc_auc_score(y_train, catb.predict_proba(X_train)[:, 1])\n",
    "    eval_score = roc_auc_score(y_eval, catb.predict_proba(X_eval)[:, 1])\n",
    "    \n",
    "    train_scores.append(train_score)\n",
    "    eval_scores.append(eval_score)"
   ]
  },
  {
   "cell_type": "markdown",
   "metadata": {},
   "source": [
    "Графики метрик качества на обучающей и оценочной выборках в зависимости от количества деревьев:"
   ]
  },
  {
   "cell_type": "code",
   "execution_count": 21,
   "metadata": {},
   "outputs": [
    {
     "data": {
      "image/png": "[encoded data removed]",
      "text/plain": [
       "<Figure size 432x288 with 1 Axes>"
      ]
     },
     "metadata": {
      "needs_background": "light"
     },
     "output_type": "display_data"
    }
   ],
   "source": [
    "plt.plot(estimator_counts, train_scores, label='on train (75%)', marker='o')\n",
    "plt.plot(estimator_counts, eval_scores, label='on eval (25%)', marker='o')\n",
    "plt.title('ROC AUC')\n",
    "plt.xlabel('n_estimators')\n",
    "plt.legend(loc='best')\n",
    "plt.grid(True)\n",
    "plt.show()"
   ]
  },
  {
   "cell_type": "markdown",
   "metadata": {},
   "source": [
    "Удалось подобрать такое количество деревьев, при котором разница метрик на выборках не выходит за пятипроцентный коридор. Проверим полученную модель на данных для теста:"
   ]
  },
  {
   "cell_type": "code",
   "execution_count": 22,
   "metadata": {},
   "outputs": [
    {
     "name": "stdout",
     "output_type": "stream",
     "text": [
      "Train-score: 0.9341\n",
      "Eval-score:  0.9090\n",
      "\n",
      "Test-score:  0.8571\n"
     ]
    }
   ],
   "source": [
    "test_score = roc_auc_score(y_test, catb.predict_proba(X_test)[:, 1])\n",
    "\n",
    "print(f'Train-score: {train_score:.4f}\\nEval-score:  {eval_score:.4f}\\n')\n",
    "print(f'Test-score:  {test_score:.4f}')"
   ]
  },
  {
   "cell_type": "markdown",
   "metadata": {},
   "source": [
    "Метрика на данных для теста отличается от метрики на обучающей выборке более, чем на 5%."
   ]
  },
  {
   "cell_type": "markdown",
   "metadata": {},
   "source": [
    "### Задание 2\n",
    "\n",
    "Сделать Hold-Out валидацию с разбиением на 3 выборки, разбиение проводить по id-транзакции (TransactionID), размер каждой выборки подобрать самостоятельно. Повторить процедуру из п.1."
   ]
  },
  {
   "cell_type": "markdown",
   "metadata": {},
   "source": [
    "Выделим другую четвёртую часть данных на валидационную выборку (*X_valid*, *y_valid*):"
   ]
  },
  {
   "cell_type": "code",
   "execution_count": 23,
   "metadata": {},
   "outputs": [
    {
     "name": "stderr",
     "output_type": "stream",
     "text": [
      "100%|██████████████████████████████████████████| 16/16 [02:44<00:00, 10.28s/it]\n"
     ]
    }
   ],
   "source": [
    "train_scores, eval_scores, valid_scores = [], [], []\n",
    "\n",
    "for j in tqdm(estimator_counts):\n",
    "    X_train, X_eval, y_train, y_eval = train_test_split(\n",
    "        X, y,\n",
    "        test_size=0.25,\n",
    "        shuffle=True,\n",
    "        random_state=j+1,\n",
    "    )\n",
    "\n",
    "    X_train, X_valid, y_train, y_valid = train_test_split(\n",
    "        X_train, y_train,\n",
    "        test_size=1/3,\n",
    "        shuffle=True,\n",
    "        random_state=j+2,\n",
    "    )\n",
    "    \n",
    "    eval_pool = Pool(X_eval, y_eval)\n",
    "    \n",
    "    catb = CatBoostClassifier(eval_metric='AUC', n_estimators=j, silent=True, random_state=j)\n",
    "    catb.fit(X_train, y_train, eval_set=eval_pool, early_stopping_rounds=10)  \n",
    "    \n",
    "    train_score = roc_auc_score(y_train, catb.predict_proba(X_train)[:, 1])\n",
    "    eval_score = roc_auc_score(y_eval, catb.predict_proba(X_eval)[:, 1])\n",
    "    valid_score = roc_auc_score(y_valid, catb.predict_proba(X_valid)[:, 1])\n",
    "    \n",
    "    train_scores.append(train_score)\n",
    "    eval_scores.append(eval_score)\n",
    "    valid_scores.append(valid_score)"
   ]
  },
  {
   "cell_type": "markdown",
   "metadata": {},
   "source": [
    "Графики метрик качества на обучающей, оценочной и валидационной выборках в зависимости от количества деревьев:"
   ]
  },
  {
   "cell_type": "code",
   "execution_count": 24,
   "metadata": {},
   "outputs": [
    {
     "data": {
      "image/png": "[encoded data removed]",
      "text/plain": [
       "<Figure size 432x288 with 1 Axes>"
      ]
     },
     "metadata": {
      "needs_background": "light"
     },
     "output_type": "display_data"
    }
   ],
   "source": [
    "plt.plot(estimator_counts, train_scores, label='on train (50%)', marker='o')\n",
    "plt.plot(estimator_counts, eval_scores, label='on eval (25%)', marker='o')\n",
    "plt.plot(estimator_counts, valid_scores, label='on valid (25%)', marker='o')\n",
    "plt.title('ROC AUC')\n",
    "plt.xlabel('n_estimators')\n",
    "plt.legend(loc='best')\n",
    "plt.grid(True)\n",
    "plt.show()"
   ]
  },
  {
   "cell_type": "markdown",
   "metadata": {},
   "source": [
    "Метрика на данных для теста также отличается от метрики на обучающей выборке более, чем на 5%:"
   ]
  },
  {
   "cell_type": "code",
   "execution_count": 25,
   "metadata": {},
   "outputs": [
    {
     "name": "stdout",
     "output_type": "stream",
     "text": [
      "Train-score: 0.9263\n",
      "Eval-score:  0.8906\n",
      "Valid-score: 0.8981\n",
      "\n",
      "Test-score:  0.8481\n"
     ]
    }
   ],
   "source": [
    "test_score = roc_auc_score(y_test, catb.predict_proba(X_test)[:, 1])\n",
    "\n",
    "print(f'Train-score: {train_score:.4f}\\nEval-score:  {eval_score:.4f}\\nValid-score: {valid_score:.4f}\\n')\n",
    "print(f'Test-score:  {test_score:.4f}')"
   ]
  },
  {
   "cell_type": "markdown",
   "metadata": {},
   "source": [
    "### Задание 3\n",
    "\n",
    "Построить доверительный интервал на данных из п.2 на основе бутстреп выборок, оценить качество модели на тестовом выборке относительно полученного доверительного интервала. Сделать выводы."
   ]
  },
  {
   "cell_type": "code",
   "execution_count": 26,
   "metadata": {},
   "outputs": [],
   "source": [
    "def create_bootstrap_samples(data: np.array, n_samples: int = 1000) -> np.array:\n",
    "    \"\"\"\n",
    "    Создание бутстреп-выборок.\n",
    "\n",
    "    Parameters\n",
    "    ----------\n",
    "    data: np.array\n",
    "        Исходная выборка, которая будет использоваться для\n",
    "        создания бутстреп выборок.\n",
    "\n",
    "    n_samples: int, optional, default = 1000\n",
    "        Количество создаваемых бутстреп выборок.\n",
    "        Опциональный параметр, по умолчанию, равен 1000.\n",
    "\n",
    "    Returns\n",
    "    -------\n",
    "    bootstrap_idx: np.array\n",
    "        Матрица индексов, для создания бутстреп выборок.\n",
    "\n",
    "    \"\"\"\n",
    "    bootstrap_idx = np.random.randint(\n",
    "        low=0, high=len(data), size=(n_samples, len(data))\n",
    "    )\n",
    "    return bootstrap_idx\n",
    "\n",
    "\n",
    "def create_bootstrap_metrics(y_true: np.array,\n",
    "                             y_pred: np.array,\n",
    "                             metric: callable,\n",
    "                             n_samlpes: int = 1000) -> List[float]:\n",
    "    \"\"\"\n",
    "    Вычисление бутстреп оценок.\n",
    "\n",
    "    Parameters\n",
    "    ----------\n",
    "    y_true: np.array\n",
    "        Вектор целевой переменной.\n",
    "\n",
    "    y_pred: np.array\n",
    "        Вектор прогнозов.\n",
    "\n",
    "    metric: callable\n",
    "        Функция для вычисления метрики.\n",
    "        Функция должна принимать 2 аргумента: y_true, y_pred.\n",
    "\n",
    "    n_samples: int, optional, default = 1000\n",
    "        Количество создаваемых бутстреп выборок.\n",
    "        Опциональный параметр, по умолчанию, равен 1000.\n",
    "\n",
    "    Returns\n",
    "    -------\n",
    "    bootstrap_metrics: List[float]\n",
    "        Список со значениями метрики качества на каждой бустреп выборке.\n",
    "\n",
    "    \"\"\"\n",
    "    scores = []\n",
    "\n",
    "    if isinstance(y_true, pd.Series):\n",
    "        y_true = y_true.values\n",
    "\n",
    "    bootstrap_idx = create_bootstrap_samples(y_true)\n",
    "    for idx in bootstrap_idx:\n",
    "        y_true_bootstrap = y_true[idx]\n",
    "        y_pred_bootstrap = y_pred[idx]\n",
    "\n",
    "        score = metric(y_true_bootstrap, y_pred_bootstrap)\n",
    "        scores.append(score)\n",
    "\n",
    "    return scores\n",
    "\n",
    "\n",
    "def calculate_confidence_interval(scores: list, conf_interval: float = 0.95) -> Tuple[float]:\n",
    "    \"\"\"\n",
    "    Вычисление доверительного интервала.\n",
    "\n",
    "    Parameters\n",
    "    ----------\n",
    "    scores: List[float / int]\n",
    "        Список с оценками изучаемой величины.\n",
    "\n",
    "    conf_interval: float, optional, default = 0.95\n",
    "        Уровень доверия для построения интервала.\n",
    "        Опциональный параметр, по умолчанию, равен 0.95.\n",
    "\n",
    "    Returns\n",
    "    -------\n",
    "    conf_interval: Tuple[float]\n",
    "        Кортеж с границами доверительного интервала.\n",
    "\n",
    "    \"\"\"\n",
    "    left_bound = np.percentile(\n",
    "        scores, ((1 - conf_interval) / 2) * 100\n",
    "    )\n",
    "    right_bound = np.percentile(\n",
    "        scores, (conf_interval + ((1 - conf_interval) / 2)) * 100\n",
    "    )\n",
    "\n",
    "    return left_bound, right_bound"
   ]
  },
  {
   "cell_type": "code",
   "execution_count": 27,
   "metadata": {},
   "outputs": [
    {
     "name": "stdout",
     "output_type": "stream",
     "text": [
      "Test-score:  0.8481\n",
      "Confidence interval: [0.878, 0.917]\n"
     ]
    }
   ],
   "source": [
    "np.random.seed(42)\n",
    "scores = create_bootstrap_metrics(y_valid, catb.predict_proba(X_valid)[:, 1], roc_auc_score)\n",
    "confidence_interval = [round(bound, 3) for bound in calculate_confidence_interval(scores)]\n",
    "\n",
    "print(f'Test-score:  {test_score:.4f}')\n",
    "print(f'Confidence interval: {confidence_interval}')"
   ]
  },
  {
   "cell_type": "markdown",
   "metadata": {},
   "source": [
    "Значение метрики на данных для теста не попало в рассчитанный доверительный интервал, поэтому этот тип валидации не особо успешен."
   ]
  },
  {
   "cell_type": "markdown",
   "metadata": {},
   "source": [
    "### Задание 4\n",
    "\n",
    "Выполнить Adversarial Validation на основе данных из обучения / теста, подобрать объема из обучающей выборки, которые сильно похожи на объекты из тестовой выборки, и использовать их в качестве валидационного набора. Сделать выводы о полученных результатах."
   ]
  },
  {
   "cell_type": "code",
   "execution_count": 28,
   "metadata": {},
   "outputs": [],
   "source": [
    "X_adv = pd.concat(\n",
    "    [X, X_test],\n",
    "    axis=0\n",
    ")\n",
    "\n",
    "y_adv = np.hstack((\n",
    "    np.zeros(X.shape[0]),\n",
    "    np.ones(X_test.shape[0])\n",
    "))\n",
    "\n",
    "assert X_adv.shape[0] == y_adv.shape[0]"
   ]
  },
  {
   "cell_type": "code",
   "execution_count": 29,
   "metadata": {},
   "outputs": [
    {
     "data": {
      "text/plain": [
       "<catboost.core.CatBoostClassifier at 0x18f50cf8>"
      ]
     },
     "execution_count": 29,
     "metadata": {},
     "output_type": "execute_result"
    }
   ],
   "source": [
    "catb_adv = CatBoostClassifier(eval_metric='AUC', silent=True, random_state=42)\n",
    "catb_adv.fit(X_adv, y_adv)"
   ]
  },
  {
   "cell_type": "code",
   "execution_count": 30,
   "metadata": {},
   "outputs": [],
   "source": [
    "y_proba = catb_adv.predict_proba(X)[:, 1]"
   ]
  },
  {
   "cell_type": "code",
   "execution_count": 31,
   "metadata": {},
   "outputs": [],
   "source": [
    "adv_res = pd.DataFrame(\n",
    "    pd.cut(\n",
    "        y_proba, bins=np.arange(0, 1.025, 0.025)\n",
    "    ),\n",
    "    index=X.index,\n",
    "    columns=['intervals']\n",
    ")"
   ]
  },
  {
   "cell_type": "code",
   "execution_count": 32,
   "metadata": {},
   "outputs": [
    {
     "data": {
      "text/plain": [
       "(0.0, 0.025]     12021\n",
       "(0.025, 0.05]     2175\n",
       "(0.05, 0.075]      782\n",
       "(0.075, 0.1]       642\n",
       "(0.1, 0.125]       580\n",
       "(0.125, 0.15]      707\n",
       "(0.15, 0.175]      734\n",
       "(0.175, 0.2]       778\n",
       "(0.2, 0.225]       751\n",
       "(0.225, 0.25]      750\n",
       "(0.25, 0.275]      747\n",
       "(0.275, 0.3]       765\n",
       "(0.3, 0.325]       710\n",
       "(0.325, 0.35]      686\n",
       "(0.35, 0.375]      674\n",
       "(0.375, 0.4]       680\n",
       "(0.4, 0.425]       728\n",
       "(0.425, 0.45]      796\n",
       "(0.45, 0.475]      863\n",
       "(0.475, 0.5]      1022\n",
       "(0.5, 0.525]      1224\n",
       "(0.525, 0.55]     1648\n",
       "(0.55, 0.575]     2265\n",
       "(0.575, 0.6]      3093\n",
       "(0.6, 0.625]      3506\n",
       "(0.625, 0.65]     2719\n",
       "(0.65, 0.675]     1501\n",
       "(0.675, 0.7]       815\n",
       "(0.7, 0.725]       547\n",
       "(0.725, 0.75]      650\n",
       "(0.75, 0.775]      824\n",
       "(0.775, 0.8]      1095\n",
       "(0.8, 0.825]      1138\n",
       "(0.825, 0.85]      685\n",
       "(0.85, 0.875]      179\n",
       "(0.875, 0.9]        82\n",
       "(0.9, 0.925]       158\n",
       "(0.925, 0.95]      243\n",
       "(0.95, 0.975]       34\n",
       "(0.975, 1.0]         4\n",
       "Name: intervals, dtype: int64"
      ]
     },
     "execution_count": 32,
     "metadata": {},
     "output_type": "execute_result"
    }
   ],
   "source": [
    "adv_res['intervals'].value_counts().sort_index()"
   ]
  },
  {
   "cell_type": "markdown",
   "metadata": {},
   "source": [
    "Отберем в оценочную выборку те объекты, предсказание для которых не менее 0.625:"
   ]
  },
  {
   "cell_type": "code",
   "execution_count": 33,
   "metadata": {},
   "outputs": [
    {
     "data": {
      "text/plain": [
       "10674"
      ]
     },
     "execution_count": 33,
     "metadata": {},
     "output_type": "execute_result"
    }
   ],
   "source": [
    "adv_res['for_eval'] = [interval.left >= 0.625 for interval in adv_res['intervals']]\n",
    "eval_mask = adv_res['for_eval'] == True\n",
    "np.sum(eval_mask)"
   ]
  },
  {
   "cell_type": "markdown",
   "metadata": {},
   "source": [
    "Применим маску к данным для обучения:"
   ]
  },
  {
   "cell_type": "code",
   "execution_count": 34,
   "metadata": {},
   "outputs": [],
   "source": [
    "X_train = X[~eval_mask]\n",
    "y_train = y[~eval_mask]\n",
    "\n",
    "X_eval = X[eval_mask]\n",
    "y_eval = y[eval_mask]\n",
    "eval_pool = Pool(X_eval, y_eval)"
   ]
  },
  {
   "cell_type": "markdown",
   "metadata": {},
   "source": [
    "Обучим классификатор с минимально-достаточным (согласно предыдущим исследованиям) количеством деревьев:"
   ]
  },
  {
   "cell_type": "code",
   "execution_count": 35,
   "metadata": {},
   "outputs": [
    {
     "data": {
      "text/plain": [
       "<catboost.core.CatBoostClassifier at 0x18e375c0>"
      ]
     },
     "execution_count": 35,
     "metadata": {},
     "output_type": "execute_result"
    }
   ],
   "source": [
    "catb = CatBoostClassifier(eval_metric='AUC', n_estimators=130, silent=True, random_state=42)\n",
    "catb.fit(X_train, y_train, eval_set=eval_pool, early_stopping_rounds=10)  "
   ]
  },
  {
   "cell_type": "markdown",
   "metadata": {},
   "source": [
    "Значения метрики на обучающей, оценочной выборках и данных для теста:"
   ]
  },
  {
   "cell_type": "code",
   "execution_count": 36,
   "metadata": {
    "scrolled": true
   },
   "outputs": [
    {
     "name": "stdout",
     "output_type": "stream",
     "text": [
      "Train-score: 0.8817\n",
      "Eval-score:  0.8016 (confidence interval: [0.772, 0.831])\n",
      "\n",
      "Test-score:  0.8432\n"
     ]
    }
   ],
   "source": [
    "train_score = roc_auc_score(y_train, catb.predict_proba(X_train)[:, 1])\n",
    "eval_score = roc_auc_score(y_eval, catb.predict_proba(X_eval)[:, 1])\n",
    "test_score = roc_auc_score(y_test, catb.predict_proba(X_test)[:, 1])\n",
    "\n",
    "print(f'Train-score: {train_score:.4f}\\nEval-score:  {eval_score:.4f}', end=' ')\n",
    "\n",
    "np.random.seed(42)\n",
    "scores = create_bootstrap_metrics(y_eval, catb.predict_proba(X_eval)[:, 1], roc_auc_score)\n",
    "confidence_interval = [round(bound, 3) for bound in calculate_confidence_interval(scores)]\n",
    "print(f'(confidence interval: {confidence_interval})\\n')\n",
    "\n",
    "print(f'Test-score:  {test_score:.4f}')"
   ]
  },
  {
   "cell_type": "markdown",
   "metadata": {},
   "source": [
    "Значение метрики серьёзно просело - в том числе и на оценочной выборке. Тем не менее, это позволило приблизить значение метрики на данных для теста на расстояние меньше, чем 5%."
   ]
  },
  {
   "cell_type": "markdown",
   "metadata": {},
   "source": [
    "### Задание 5\n",
    "\n",
    "Сделать KFold / StratifiedKFold валидацию (на ваше усмотрение), оценить получаемые качество и разброс по метрике качества. Сделать выводы об устойчивости кросс-валидации, сходимости оценки на кросс-валидации и отложенном наборе данных;"
   ]
  },
  {
   "cell_type": "code",
   "execution_count": 37,
   "metadata": {},
   "outputs": [],
   "source": [
    "def make_cross_validation(X: pd.DataFrame,\n",
    "                          y: pd.Series,\n",
    "                          estimator: object,\n",
    "                          metric: callable,\n",
    "                          proba: bool,\n",
    "                          cv_strategy: object,\n",
    "                          use_groups: bool = False,\n",
    "                          groups: pd.Series = None):\n",
    "    \"\"\"\n",
    "    Кросс-валидация.\n",
    "\n",
    "    Parameters\n",
    "    ----------\n",
    "    X: pd.DataFrame\n",
    "        Матрица признаков.\n",
    "\n",
    "    y: pd.Series\n",
    "        Вектор целевой переменной.\n",
    "\n",
    "    estimator: callable\n",
    "        Объект модели для обучения.\n",
    "\n",
    "    metric: callable\n",
    "        Метрика для оценки качества решения.\n",
    "        Ожидается, что на вход будет передана функция,\n",
    "        которая принимает 2 аргумента: y_true, y_pred.\n",
    "\n",
    "    proba: bool\n",
    "        Флаг - расчитывать ли вероятностные\n",
    "        предсказания для метрики.\n",
    "\n",
    "    cv_strategy: cross-validation generator\n",
    "        Объект для описания стратегии кросс-валидации.\n",
    "        Ожидается, что на вход будет передан объект типа\n",
    "        KFold или StratifiedKFold.\n",
    "\n",
    "    Returns\n",
    "    -------\n",
    "    oof_score: float\n",
    "        Значение метрики качества на OOF-прогнозах.\n",
    "\n",
    "    fold_train_scores: List[float]\n",
    "        Значение метрики качества на каждом обучающем датасете кросс-валидации.\n",
    "\n",
    "    fold_valid_scores: List[float]\n",
    "        Значение метрики качества на каждом валидационном датасете кросс-валидации.\n",
    "\n",
    "    oof_predictions: np.array\n",
    "        Прогнозы на OOF.\n",
    "\n",
    "    \"\"\"\n",
    "    estimators, fold_train_scores, fold_valid_scores = [], [], []\n",
    "    oof_predictions = np.zeros(X.shape[0])\n",
    "    \n",
    "    splits = cv_strategy.split(X, y, groups) if use_groups else cv_strategy.split(X, y)\n",
    "    for fold_number, (train_idx, valid_idx) in enumerate(splits):\n",
    "        x_train, x_valid = X[X.index.isin(train_idx)], X[X.index.isin(valid_idx)]\n",
    "        y_train, y_valid = y[y.index.isin(train_idx)], y[y.index.isin(valid_idx)]\n",
    "\n",
    "        estimator.fit(x_train, y_train)\n",
    "        \n",
    "        if proba:\n",
    "            y_train_pred = estimator.predict_proba(x_train)[:, 1]\n",
    "            y_valid_pred = estimator.predict_proba(x_valid)[:, 1]\n",
    "        else:\n",
    "            y_train_pred = estimator.predict(x_train)\n",
    "            y_valid_pred = estimator.predict(x_valid)\n",
    "        \n",
    "        fold_train_scores.append(metric(y_train, y_train_pred))\n",
    "        fold_valid_scores.append(metric(y_valid, y_valid_pred))\n",
    "        oof_predictions[valid_idx] = y_valid_pred\n",
    "        \n",
    "        np.random.seed(42)\n",
    "        scores = create_bootstrap_metrics(y_valid, y_valid_pred, metric)\n",
    "        confidence_interval = [round(bound, 3) for bound in calculate_confidence_interval(scores)]\n",
    "\n",
    "        msg = (\n",
    "            f\"Fold: {fold_number+1}, train-observations = {len(train_idx)}, \"\n",
    "            f\"valid-observations = {len(valid_idx)}\\n\"\n",
    "            f\"train-score = {round(fold_train_scores[fold_number], 4)}, \"\n",
    "            f\"valid-score = {round(fold_valid_scores[fold_number], 4)}\" \n",
    "        )\n",
    "        print(msg)\n",
    "        print(f'(confidence interval: {confidence_interval})')\n",
    "        print(\"=\"*69)\n",
    "        \n",
    "        estimator = estimator.copy()\n",
    "        estimators.append(estimator)\n",
    "\n",
    "    oof_score = metric(y, oof_predictions)\n",
    "    print(f\"CV-results train: {round(np.mean(fold_train_scores), 4)} +/- {round(np.std(fold_train_scores), 3)}\")\n",
    "    print(f\"CV-results valid: {round(np.mean(fold_valid_scores), 4)} +/- {round(np.std(fold_valid_scores), 3)}\")\n",
    "    print(f\"OOF-score = {round(oof_score, 4)}\")\n",
    "\n",
    "    return estimators, oof_score, fold_train_scores, fold_valid_scores, oof_predictions"
   ]
  },
  {
   "cell_type": "code",
   "execution_count": 38,
   "metadata": {},
   "outputs": [
    {
     "name": "stdout",
     "output_type": "stream",
     "text": [
      "Fold: 1, train-observations = 40000, valid-observations = 10001\n",
      "train-score = 0.9527, valid-score = 0.8739\n",
      "(confidence interval: [0.844, 0.899])\n",
      "=====================================================================\n",
      "Fold: 2, train-observations = 40001, valid-observations = 10000\n",
      "train-score = 0.9397, valid-score = 0.9151\n",
      "(confidence interval: [0.888, 0.936])\n",
      "=====================================================================\n",
      "Fold: 3, train-observations = 40001, valid-observations = 10000\n",
      "train-score = 0.9454, valid-score = 0.9275\n",
      "(confidence interval: [0.907, 0.945])\n",
      "=====================================================================\n",
      "Fold: 4, train-observations = 40001, valid-observations = 10000\n",
      "train-score = 0.943, valid-score = 0.9032\n",
      "(confidence interval: [0.882, 0.924])\n",
      "=====================================================================\n",
      "Fold: 5, train-observations = 40001, valid-observations = 10000\n",
      "train-score = 0.9411, valid-score = 0.9081\n",
      "(confidence interval: [0.886, 0.929])\n",
      "=====================================================================\n",
      "CV-results train: 0.9444 +/- 0.005\n",
      "CV-results valid: 0.9056 +/- 0.018\n",
      "OOF-score = 0.9044\n"
     ]
    }
   ],
   "source": [
    "cv_strategy = KFold(n_splits=5, shuffle=True, random_state=42) # StratifiedKFold\n",
    "catb = CatBoostClassifier(eval_metric='AUC', n_estimators=130, silent=True, random_state=42)\n",
    "\n",
    "estimators, oof_score, fold_train_scores, fold_valid_scores, oof_predictions = make_cross_validation(\n",
    "    X, y, catb, metric=roc_auc_score, proba=True, cv_strategy=cv_strategy\n",
    ")"
   ]
  },
  {
   "cell_type": "markdown",
   "metadata": {},
   "source": [
    "Кросс-валидация по признаку `TransactionID` повысила значения метрик, однако их разброс очень мал.\n",
    "<br>Рассчитаем метрику на самом лучшем (третьем согласно кросс-валидации) классификаторе:"
   ]
  },
  {
   "cell_type": "code",
   "execution_count": 39,
   "metadata": {},
   "outputs": [
    {
     "name": "stdout",
     "output_type": "stream",
     "text": [
      "Test-score:  0.8614\n"
     ]
    }
   ],
   "source": [
    "test_score = roc_auc_score(y_test, estimators[2].predict_proba(X_test)[:, 1])\n",
    "\n",
    "print(f'Test-score:  {test_score:.4f}')"
   ]
  },
  {
   "cell_type": "markdown",
   "metadata": {},
   "source": [
    "Тем не менее, она отличается от метрики на обучающей выборке более, чем на 5%, и в доверительный интервал не попадает."
   ]
  },
  {
   "cell_type": "markdown",
   "metadata": {},
   "source": [
    "### Задание 6 * (опциональное)\n",
    "\n",
    "Сделать Hold-Out валидацию по времени (TransactionDT), повторить процедуры из п.1 / п.2 (на ваш выбор). Построить доверительный интервал, сравнить качество на тестовой выборке с полученным доверительным интервалом. Сделать выводы."
   ]
  },
  {
   "cell_type": "markdown",
   "metadata": {},
   "source": [
    "Данные в датафрейме уже упорядочены по времени. Применим кросс-валидацию по времени, чтобы найти достаточный размер обучающей выборки, после чего воспользуемся обученным на ней классификатором на данных для теста:"
   ]
  },
  {
   "cell_type": "code",
   "execution_count": 40,
   "metadata": {},
   "outputs": [
    {
     "name": "stdout",
     "output_type": "stream",
     "text": [
      "Fold: 1, train-observations = 8336, valid-observations = 8333\n",
      "train-score = 0.9881, valid-score = 0.8531\n",
      "(confidence interval: [0.824, 0.88])\n",
      "=====================================================================\n",
      "Fold: 2, train-observations = 16669, valid-observations = 8333\n",
      "train-score = 0.9626, valid-score = 0.8637\n",
      "(confidence interval: [0.836, 0.888])\n",
      "=====================================================================\n",
      "Fold: 3, train-observations = 25002, valid-observations = 8333\n",
      "train-score = 0.9599, valid-score = 0.8635\n",
      "(confidence interval: [0.836, 0.89])\n",
      "=====================================================================\n",
      "Fold: 4, train-observations = 33335, valid-observations = 8333\n",
      "train-score = 0.9496, valid-score = 0.8966\n",
      "(confidence interval: [0.872, 0.92])\n",
      "=====================================================================\n",
      "Fold: 5, train-observations = 41668, valid-observations = 8333\n",
      "train-score = 0.9503, valid-score = 0.8953\n",
      "(confidence interval: [0.868, 0.922])\n",
      "=====================================================================\n",
      "CV-results train: 0.9621 +/- 0.014\n",
      "CV-results valid: 0.8745 +/- 0.018\n",
      "OOF-score = 0.7689\n"
     ]
    }
   ],
   "source": [
    "tscv_strategy = TimeSeriesSplit(max_train_size=None, n_splits=5)\n",
    "catb = CatBoostClassifier(eval_metric='AUC', n_estimators=130, silent=True, random_state=42)\n",
    "\n",
    "estimators, oof_score, fold_train_scores, fold_valid_scores, oof_predictions = make_cross_validation(\n",
    "    X, y, catb, metric=roc_auc_score, proba=True, cv_strategy=tscv_strategy\n",
    ")"
   ]
  },
  {
   "cell_type": "markdown",
   "metadata": {},
   "source": [
    "Самый лучший результат дала выборка из первых 33335 объектов (четвертый классификатор) - наибольшая метрика на валидационной выборке при наименьшей разнице со значением метрики на обучающей выборке."
   ]
  },
  {
   "cell_type": "code",
   "execution_count": 41,
   "metadata": {},
   "outputs": [
    {
     "name": "stdout",
     "output_type": "stream",
     "text": [
      "Test-score:  0.8557\n"
     ]
    }
   ],
   "source": [
    "test_score = roc_auc_score(y_test, estimators[3].predict_proba(X_test)[:, 1])\n",
    "\n",
    "print(f'Test-score:  {test_score:.4f}')"
   ]
  },
  {
   "cell_type": "markdown",
   "metadata": {},
   "source": [
    "Значение метрики на данных для теста также отличается от метрики на обучающей выборке более, чем на 5%, и в доверительный интервал не попадает."
   ]
  },
  {
   "cell_type": "markdown",
   "metadata": {},
   "source": [
    "### Задание 7 ** (совсем опциональное)\n",
    "\n",
    "В данном наборе данных у нас есть ID-транзакции (TransactionID) и время транзакции (TransactionDT), но отсутствует ID-клиента, который совершал транзакции. Кажется, что в этой задаче валидация по клиенту работала бы хорошо. Предложить критерий, по которому можно выделить клиентов и сделать п.5, используя созданное определение клиента, используя валидацию по клиенту (GroupKFold)."
   ]
  },
  {
   "cell_type": "markdown",
   "metadata": {},
   "source": [
    "*Применим всё из разбора задания:*"
   ]
  },
  {
   "cell_type": "code",
   "execution_count": 42,
   "metadata": {},
   "outputs": [],
   "source": [
    "import hashlib\n",
    "\n",
    "def card_info_hash(x):\n",
    "    s = (str(x['card1'])+\n",
    "         str(x['card2'])+\n",
    "         str(x['card3'])+\n",
    "         str(x['card4'])+\n",
    "         str(x['card5'])+\n",
    "         str(x['card6'])+\n",
    "         x[\"ProductCD\"])\n",
    "\n",
    "    h = hashlib.sha256(s.encode('utf-8')).hexdigest()[0:15]\n",
    "    return h"
   ]
  },
  {
   "cell_type": "code",
   "execution_count": 43,
   "metadata": {},
   "outputs": [],
   "source": [
    "user_features = [f'card{i}' for i in range(1, 7)] + ['ProductCD']\n",
    "\n",
    "train_uids = train_df[user_features].apply(lambda x: card_info_hash(x), axis=1)"
   ]
  },
  {
   "cell_type": "code",
   "execution_count": 44,
   "metadata": {},
   "outputs": [
    {
     "name": "stdout",
     "output_type": "stream",
     "text": [
      "Fold: 1, train-observations = 40000, valid-observations = 10001\n",
      "train-score = 0.9563, valid-score = 0.8187\n",
      "(confidence interval: [0.785, 0.85])\n",
      "=====================================================================\n",
      "Fold: 2, train-observations = 40001, valid-observations = 10000\n",
      "train-score = 0.9492, valid-score = 0.8384\n",
      "(confidence interval: [0.814, 0.865])\n",
      "=====================================================================\n",
      "Fold: 3, train-observations = 40001, valid-observations = 10000\n",
      "train-score = 0.9483, valid-score = 0.7511\n",
      "(confidence interval: [0.714, 0.787])\n",
      "=====================================================================\n",
      "Fold: 4, train-observations = 40001, valid-observations = 10000\n",
      "train-score = 0.9451, valid-score = 0.8472\n",
      "(confidence interval: [0.823, 0.873])\n",
      "=====================================================================\n",
      "Fold: 5, train-observations = 40001, valid-observations = 10000\n",
      "train-score = 0.9484, valid-score = 0.8784\n",
      "(confidence interval: [0.85, 0.903])\n",
      "=====================================================================\n",
      "CV-results train: 0.9495 +/- 0.004\n",
      "CV-results valid: 0.8267 +/- 0.042\n",
      "OOF-score = 0.8262\n"
     ]
    }
   ],
   "source": [
    "gcv_strategy = GroupKFold(n_splits=5)\n",
    "catb = CatBoostClassifier(eval_metric='AUC', n_estimators=130, silent=True, random_state=42)\n",
    "\n",
    "estimators, oof_score, fold_train_scores, fold_valid_scores, oof_predictions = make_cross_validation(\n",
    "    X, y, catb, metric=roc_auc_score, proba=True, cv_strategy=gcv_strategy, use_groups=True, groups=train_uids\n",
    ")"
   ]
  },
  {
   "cell_type": "markdown",
   "metadata": {},
   "source": [
    "Метрика на тестовых данных попадает в доверительный интервал, поэтому этот способ валидации самый лучший из рассмотренных:"
   ]
  },
  {
   "cell_type": "code",
   "execution_count": 45,
   "metadata": {},
   "outputs": [
    {
     "name": "stdout",
     "output_type": "stream",
     "text": [
      "Test-score:  0.8507\n"
     ]
    }
   ],
   "source": [
    "test_score = roc_auc_score(y_test, estimators[4].predict_proba(X_test)[:, 1])\n",
    "\n",
    "print(f'Test-score:  {test_score:.4f}')"
   ]
  }
 ],
 "metadata": {
  "kernelspec": {
   "display_name": "Python 3",
   "language": "python",
   "name": "python3"
  },
  "language_info": {
   "codemirror_mode": {
    "name": "ipython",
    "version": 3
   },
   "file_extension": ".py",
   "mimetype": "text/x-python",
   "name": "python",
   "nbconvert_exporter": "python",
   "pygments_lexer": "ipython3",
   "version": "3.7.3"
  }
 },
 "nbformat": 4,
 "nbformat_minor": 2
}
